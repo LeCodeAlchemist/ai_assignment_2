{
 "cells": [
  {
   "cell_type": "markdown",
   "metadata": {},
   "source": [
    "# R187470B\n",
    "## Nyasha D. Chiroro\n",
    "### Assigment 2\n",
    "\n",
    "### Link to the application\n",
    "[https://streamlit-churn.herokuapp.com/](https://streamlit-churn.herokuapp.com/)\n",
    "\n",
    "### Link to the assignment's GitHub repository\n",
    "[https://github.com/LeCodeAlchemist/ai_assignment_2](https://github.com/LeCodeAlchemist/ai_assignment_2)"
   ]
  },
  {
   "cell_type": "markdown",
   "metadata": {},
   "source": [
    "# Importing required libraries"
   ]
  },
  {
   "cell_type": "code",
   "execution_count": 3,
   "metadata": {},
   "outputs": [],
   "source": [
    "import numpy as np # for linear algebra, calculating mean, standard deviation etc\n",
    "import pandas as pd # load and manipulate data for One-Hot Encoding, data processing, CSV file I/O\n",
    "import seaborn as sns # for creating plots\n",
    "import matplotlib.ticker as mtick # For specifying the axes tick format \n",
    "import matplotlib.pyplot as plt\n",
    "import xgboost as xgb # XGBoost stuff\n",
    "from sklearn.model_selection import train_test_split # split the data into training and testing sets\n",
    "from sklearn.metrics import balanced_accuracy_score, roc_auc_score, make_scorer \n",
    "from sklearn.model_selection import GridSearchCV # cross validation\n",
    "from sklearn.metrics import confusion_matrix # creates a confusion matrix\n",
    "from sklearn.metrics import plot_confusion_matrix # draws the confusion matrix\n",
    "\n",
    "sns.set(style = 'white')"
   ]
  },
  {
   "cell_type": "markdown",
   "metadata": {},
   "source": [
    "# Importing the data"
   ]
  },
  {
   "cell_type": "code",
   "execution_count": 4,
   "metadata": {},
   "outputs": [],
   "source": [
    "churn_df = pd.read_csv('data/datasets_13996_18858_WA_Fn-UseC_-Telco-Customer-Churn.csv')"
   ]
  },
  {
   "cell_type": "code",
   "execution_count": 5,
   "metadata": {},
   "outputs": [
    {
     "data": {
      "text/html": [
       "<div>\n",
       "<style scoped>\n",
       "    .dataframe tbody tr th:only-of-type {\n",
       "        vertical-align: middle;\n",
       "    }\n",
       "\n",
       "    .dataframe tbody tr th {\n",
       "        vertical-align: top;\n",
       "    }\n",
       "\n",
       "    .dataframe thead th {\n",
       "        text-align: right;\n",
       "    }\n",
       "</style>\n",
       "<table border=\"1\" class=\"dataframe\">\n",
       "  <thead>\n",
       "    <tr style=\"text-align: right;\">\n",
       "      <th></th>\n",
       "      <th>customerID</th>\n",
       "      <th>gender</th>\n",
       "      <th>SeniorCitizen</th>\n",
       "      <th>Partner</th>\n",
       "      <th>Dependents</th>\n",
       "      <th>tenure</th>\n",
       "      <th>PhoneService</th>\n",
       "      <th>MultipleLines</th>\n",
       "      <th>InternetService</th>\n",
       "      <th>OnlineSecurity</th>\n",
       "      <th>...</th>\n",
       "      <th>DeviceProtection</th>\n",
       "      <th>TechSupport</th>\n",
       "      <th>StreamingTV</th>\n",
       "      <th>StreamingMovies</th>\n",
       "      <th>Contract</th>\n",
       "      <th>PaperlessBilling</th>\n",
       "      <th>PaymentMethod</th>\n",
       "      <th>MonthlyCharges</th>\n",
       "      <th>TotalCharges</th>\n",
       "      <th>Churn</th>\n",
       "    </tr>\n",
       "  </thead>\n",
       "  <tbody>\n",
       "    <tr>\n",
       "      <th>0</th>\n",
       "      <td>7590-VHVEG</td>\n",
       "      <td>Female</td>\n",
       "      <td>0</td>\n",
       "      <td>Yes</td>\n",
       "      <td>No</td>\n",
       "      <td>1</td>\n",
       "      <td>No</td>\n",
       "      <td>No phone service</td>\n",
       "      <td>DSL</td>\n",
       "      <td>No</td>\n",
       "      <td>...</td>\n",
       "      <td>No</td>\n",
       "      <td>No</td>\n",
       "      <td>No</td>\n",
       "      <td>No</td>\n",
       "      <td>Month-to-month</td>\n",
       "      <td>Yes</td>\n",
       "      <td>Electronic check</td>\n",
       "      <td>29.85</td>\n",
       "      <td>29.85</td>\n",
       "      <td>No</td>\n",
       "    </tr>\n",
       "    <tr>\n",
       "      <th>1</th>\n",
       "      <td>5575-GNVDE</td>\n",
       "      <td>Male</td>\n",
       "      <td>0</td>\n",
       "      <td>No</td>\n",
       "      <td>No</td>\n",
       "      <td>34</td>\n",
       "      <td>Yes</td>\n",
       "      <td>No</td>\n",
       "      <td>DSL</td>\n",
       "      <td>Yes</td>\n",
       "      <td>...</td>\n",
       "      <td>Yes</td>\n",
       "      <td>No</td>\n",
       "      <td>No</td>\n",
       "      <td>No</td>\n",
       "      <td>One year</td>\n",
       "      <td>No</td>\n",
       "      <td>Mailed check</td>\n",
       "      <td>56.95</td>\n",
       "      <td>1889.5</td>\n",
       "      <td>No</td>\n",
       "    </tr>\n",
       "    <tr>\n",
       "      <th>2</th>\n",
       "      <td>3668-QPYBK</td>\n",
       "      <td>Male</td>\n",
       "      <td>0</td>\n",
       "      <td>No</td>\n",
       "      <td>No</td>\n",
       "      <td>2</td>\n",
       "      <td>Yes</td>\n",
       "      <td>No</td>\n",
       "      <td>DSL</td>\n",
       "      <td>Yes</td>\n",
       "      <td>...</td>\n",
       "      <td>No</td>\n",
       "      <td>No</td>\n",
       "      <td>No</td>\n",
       "      <td>No</td>\n",
       "      <td>Month-to-month</td>\n",
       "      <td>Yes</td>\n",
       "      <td>Mailed check</td>\n",
       "      <td>53.85</td>\n",
       "      <td>108.15</td>\n",
       "      <td>Yes</td>\n",
       "    </tr>\n",
       "    <tr>\n",
       "      <th>3</th>\n",
       "      <td>7795-CFOCW</td>\n",
       "      <td>Male</td>\n",
       "      <td>0</td>\n",
       "      <td>No</td>\n",
       "      <td>No</td>\n",
       "      <td>45</td>\n",
       "      <td>No</td>\n",
       "      <td>No phone service</td>\n",
       "      <td>DSL</td>\n",
       "      <td>Yes</td>\n",
       "      <td>...</td>\n",
       "      <td>Yes</td>\n",
       "      <td>Yes</td>\n",
       "      <td>No</td>\n",
       "      <td>No</td>\n",
       "      <td>One year</td>\n",
       "      <td>No</td>\n",
       "      <td>Bank transfer (automatic)</td>\n",
       "      <td>42.30</td>\n",
       "      <td>1840.75</td>\n",
       "      <td>No</td>\n",
       "    </tr>\n",
       "    <tr>\n",
       "      <th>4</th>\n",
       "      <td>9237-HQITU</td>\n",
       "      <td>Female</td>\n",
       "      <td>0</td>\n",
       "      <td>No</td>\n",
       "      <td>No</td>\n",
       "      <td>2</td>\n",
       "      <td>Yes</td>\n",
       "      <td>No</td>\n",
       "      <td>Fiber optic</td>\n",
       "      <td>No</td>\n",
       "      <td>...</td>\n",
       "      <td>No</td>\n",
       "      <td>No</td>\n",
       "      <td>No</td>\n",
       "      <td>No</td>\n",
       "      <td>Month-to-month</td>\n",
       "      <td>Yes</td>\n",
       "      <td>Electronic check</td>\n",
       "      <td>70.70</td>\n",
       "      <td>151.65</td>\n",
       "      <td>Yes</td>\n",
       "    </tr>\n",
       "  </tbody>\n",
       "</table>\n",
       "<p>5 rows × 21 columns</p>\n",
       "</div>"
      ],
      "text/plain": [
       "   customerID  gender  SeniorCitizen Partner Dependents  tenure PhoneService  \\\n",
       "0  7590-VHVEG  Female              0     Yes         No       1           No   \n",
       "1  5575-GNVDE    Male              0      No         No      34          Yes   \n",
       "2  3668-QPYBK    Male              0      No         No       2          Yes   \n",
       "3  7795-CFOCW    Male              0      No         No      45           No   \n",
       "4  9237-HQITU  Female              0      No         No       2          Yes   \n",
       "\n",
       "      MultipleLines InternetService OnlineSecurity  ... DeviceProtection  \\\n",
       "0  No phone service             DSL             No  ...               No   \n",
       "1                No             DSL            Yes  ...              Yes   \n",
       "2                No             DSL            Yes  ...               No   \n",
       "3  No phone service             DSL            Yes  ...              Yes   \n",
       "4                No     Fiber optic             No  ...               No   \n",
       "\n",
       "  TechSupport StreamingTV StreamingMovies        Contract PaperlessBilling  \\\n",
       "0          No          No              No  Month-to-month              Yes   \n",
       "1          No          No              No        One year               No   \n",
       "2          No          No              No  Month-to-month              Yes   \n",
       "3         Yes          No              No        One year               No   \n",
       "4          No          No              No  Month-to-month              Yes   \n",
       "\n",
       "               PaymentMethod MonthlyCharges  TotalCharges Churn  \n",
       "0           Electronic check          29.85         29.85    No  \n",
       "1               Mailed check          56.95        1889.5    No  \n",
       "2               Mailed check          53.85        108.15   Yes  \n",
       "3  Bank transfer (automatic)          42.30       1840.75    No  \n",
       "4           Electronic check          70.70        151.65   Yes  \n",
       "\n",
       "[5 rows x 21 columns]"
      ]
     },
     "execution_count": 5,
     "metadata": {},
     "output_type": "execute_result"
    }
   ],
   "source": [
    "churn_df.head()"
   ]
  },
  {
   "cell_type": "code",
   "execution_count": 6,
   "metadata": {},
   "outputs": [
    {
     "data": {
      "text/plain": [
       "array(['customerID', 'gender', 'SeniorCitizen', 'Partner', 'Dependents',\n",
       "       'tenure', 'PhoneService', 'MultipleLines', 'InternetService',\n",
       "       'OnlineSecurity', 'OnlineBackup', 'DeviceProtection',\n",
       "       'TechSupport', 'StreamingTV', 'StreamingMovies', 'Contract',\n",
       "       'PaperlessBilling', 'PaymentMethod', 'MonthlyCharges',\n",
       "       'TotalCharges', 'Churn'], dtype=object)"
      ]
     },
     "execution_count": 6,
     "metadata": {},
     "output_type": "execute_result"
    }
   ],
   "source": [
    "churn_df.columns.values"
   ]
  },
  {
   "cell_type": "markdown",
   "metadata": {},
   "source": [
    "## Exploring Data, fixing some issues and  dealing with missing values"
   ]
  },
  {
   "cell_type": "markdown",
   "metadata": {},
   "source": [
    "Missing data is simply a blank space or surrogate values like <b>NaN</b> that indicates that we failed to collect data for one of the features.<br>\n",
    "One thing that is relatively unique about <b>XGBoost</b> is that it has default behavior for missing data. So all we have to do is identify the missing values and make sure they are set to 0.    "
   ]
  },
  {
   "cell_type": "code",
   "execution_count": 7,
   "metadata": {},
   "outputs": [
    {
     "data": {
      "text/plain": [
       "customerID           object\n",
       "gender               object\n",
       "SeniorCitizen         int64\n",
       "Partner              object\n",
       "Dependents           object\n",
       "tenure                int64\n",
       "PhoneService         object\n",
       "MultipleLines        object\n",
       "InternetService      object\n",
       "OnlineSecurity       object\n",
       "OnlineBackup         object\n",
       "DeviceProtection     object\n",
       "TechSupport          object\n",
       "StreamingTV          object\n",
       "StreamingMovies      object\n",
       "Contract             object\n",
       "PaperlessBilling     object\n",
       "PaymentMethod        object\n",
       "MonthlyCharges      float64\n",
       "TotalCharges         object\n",
       "Churn                object\n",
       "dtype: object"
      ]
     },
     "execution_count": 7,
     "metadata": {},
     "output_type": "execute_result"
    }
   ],
   "source": [
    "churn_df.dtypes"
   ]
  },
  {
   "cell_type": "markdown",
   "metadata": {},
   "source": [
    "The <code>TotalCharges</code> columns contains numerical data but it is being stored as <code>object</code>. Hence it needs to be converted to the appropriate type."
   ]
  },
  {
   "cell_type": "code",
   "execution_count": 8,
   "metadata": {},
   "outputs": [],
   "source": [
    "churn_df.TotalCharges =  pd.to_numeric(churn_df.TotalCharges, errors='coerce')\n"
   ]
  },
  {
   "cell_type": "markdown",
   "metadata": {},
   "source": [
    "Now lets check for missing values in all columns."
   ]
  },
  {
   "cell_type": "code",
   "execution_count": 9,
   "metadata": {},
   "outputs": [
    {
     "data": {
      "text/plain": [
       "customerID           0\n",
       "gender               0\n",
       "SeniorCitizen        0\n",
       "Partner              0\n",
       "Dependents           0\n",
       "tenure               0\n",
       "PhoneService         0\n",
       "MultipleLines        0\n",
       "InternetService      0\n",
       "OnlineSecurity       0\n",
       "OnlineBackup         0\n",
       "DeviceProtection     0\n",
       "TechSupport          0\n",
       "StreamingTV          0\n",
       "StreamingMovies      0\n",
       "Contract             0\n",
       "PaperlessBilling     0\n",
       "PaymentMethod        0\n",
       "MonthlyCharges       0\n",
       "TotalCharges        11\n",
       "Churn                0\n",
       "dtype: int64"
      ]
     },
     "execution_count": 9,
     "metadata": {},
     "output_type": "execute_result"
    }
   ],
   "source": [
    "churn_df.isnull().sum()"
   ]
  },
  {
   "cell_type": "markdown",
   "metadata": {},
   "source": [
    "As can be seen, the <code>TotalCharges</code>column has <b>11 missing values</b>. Lets take a lot at those."
   ]
  },
  {
   "cell_type": "code",
   "execution_count": 10,
   "metadata": {},
   "outputs": [
    {
     "data": {
      "text/html": [
       "<div>\n",
       "<style scoped>\n",
       "    .dataframe tbody tr th:only-of-type {\n",
       "        vertical-align: middle;\n",
       "    }\n",
       "\n",
       "    .dataframe tbody tr th {\n",
       "        vertical-align: top;\n",
       "    }\n",
       "\n",
       "    .dataframe thead th {\n",
       "        text-align: right;\n",
       "    }\n",
       "</style>\n",
       "<table border=\"1\" class=\"dataframe\">\n",
       "  <thead>\n",
       "    <tr style=\"text-align: right;\">\n",
       "      <th></th>\n",
       "      <th>customerID</th>\n",
       "      <th>gender</th>\n",
       "      <th>SeniorCitizen</th>\n",
       "      <th>Partner</th>\n",
       "      <th>Dependents</th>\n",
       "      <th>tenure</th>\n",
       "      <th>PhoneService</th>\n",
       "      <th>MultipleLines</th>\n",
       "      <th>InternetService</th>\n",
       "      <th>OnlineSecurity</th>\n",
       "      <th>...</th>\n",
       "      <th>DeviceProtection</th>\n",
       "      <th>TechSupport</th>\n",
       "      <th>StreamingTV</th>\n",
       "      <th>StreamingMovies</th>\n",
       "      <th>Contract</th>\n",
       "      <th>PaperlessBilling</th>\n",
       "      <th>PaymentMethod</th>\n",
       "      <th>MonthlyCharges</th>\n",
       "      <th>TotalCharges</th>\n",
       "      <th>Churn</th>\n",
       "    </tr>\n",
       "  </thead>\n",
       "  <tbody>\n",
       "    <tr>\n",
       "      <th>488</th>\n",
       "      <td>4472-LVYGI</td>\n",
       "      <td>Female</td>\n",
       "      <td>0</td>\n",
       "      <td>Yes</td>\n",
       "      <td>Yes</td>\n",
       "      <td>0</td>\n",
       "      <td>No</td>\n",
       "      <td>No phone service</td>\n",
       "      <td>DSL</td>\n",
       "      <td>Yes</td>\n",
       "      <td>...</td>\n",
       "      <td>Yes</td>\n",
       "      <td>Yes</td>\n",
       "      <td>Yes</td>\n",
       "      <td>No</td>\n",
       "      <td>Two year</td>\n",
       "      <td>Yes</td>\n",
       "      <td>Bank transfer (automatic)</td>\n",
       "      <td>52.55</td>\n",
       "      <td>NaN</td>\n",
       "      <td>No</td>\n",
       "    </tr>\n",
       "    <tr>\n",
       "      <th>753</th>\n",
       "      <td>3115-CZMZD</td>\n",
       "      <td>Male</td>\n",
       "      <td>0</td>\n",
       "      <td>No</td>\n",
       "      <td>Yes</td>\n",
       "      <td>0</td>\n",
       "      <td>Yes</td>\n",
       "      <td>No</td>\n",
       "      <td>No</td>\n",
       "      <td>No internet service</td>\n",
       "      <td>...</td>\n",
       "      <td>No internet service</td>\n",
       "      <td>No internet service</td>\n",
       "      <td>No internet service</td>\n",
       "      <td>No internet service</td>\n",
       "      <td>Two year</td>\n",
       "      <td>No</td>\n",
       "      <td>Mailed check</td>\n",
       "      <td>20.25</td>\n",
       "      <td>NaN</td>\n",
       "      <td>No</td>\n",
       "    </tr>\n",
       "    <tr>\n",
       "      <th>936</th>\n",
       "      <td>5709-LVOEQ</td>\n",
       "      <td>Female</td>\n",
       "      <td>0</td>\n",
       "      <td>Yes</td>\n",
       "      <td>Yes</td>\n",
       "      <td>0</td>\n",
       "      <td>Yes</td>\n",
       "      <td>No</td>\n",
       "      <td>DSL</td>\n",
       "      <td>Yes</td>\n",
       "      <td>...</td>\n",
       "      <td>Yes</td>\n",
       "      <td>No</td>\n",
       "      <td>Yes</td>\n",
       "      <td>Yes</td>\n",
       "      <td>Two year</td>\n",
       "      <td>No</td>\n",
       "      <td>Mailed check</td>\n",
       "      <td>80.85</td>\n",
       "      <td>NaN</td>\n",
       "      <td>No</td>\n",
       "    </tr>\n",
       "    <tr>\n",
       "      <th>1082</th>\n",
       "      <td>4367-NUYAO</td>\n",
       "      <td>Male</td>\n",
       "      <td>0</td>\n",
       "      <td>Yes</td>\n",
       "      <td>Yes</td>\n",
       "      <td>0</td>\n",
       "      <td>Yes</td>\n",
       "      <td>Yes</td>\n",
       "      <td>No</td>\n",
       "      <td>No internet service</td>\n",
       "      <td>...</td>\n",
       "      <td>No internet service</td>\n",
       "      <td>No internet service</td>\n",
       "      <td>No internet service</td>\n",
       "      <td>No internet service</td>\n",
       "      <td>Two year</td>\n",
       "      <td>No</td>\n",
       "      <td>Mailed check</td>\n",
       "      <td>25.75</td>\n",
       "      <td>NaN</td>\n",
       "      <td>No</td>\n",
       "    </tr>\n",
       "    <tr>\n",
       "      <th>1340</th>\n",
       "      <td>1371-DWPAZ</td>\n",
       "      <td>Female</td>\n",
       "      <td>0</td>\n",
       "      <td>Yes</td>\n",
       "      <td>Yes</td>\n",
       "      <td>0</td>\n",
       "      <td>No</td>\n",
       "      <td>No phone service</td>\n",
       "      <td>DSL</td>\n",
       "      <td>Yes</td>\n",
       "      <td>...</td>\n",
       "      <td>Yes</td>\n",
       "      <td>Yes</td>\n",
       "      <td>Yes</td>\n",
       "      <td>No</td>\n",
       "      <td>Two year</td>\n",
       "      <td>No</td>\n",
       "      <td>Credit card (automatic)</td>\n",
       "      <td>56.05</td>\n",
       "      <td>NaN</td>\n",
       "      <td>No</td>\n",
       "    </tr>\n",
       "    <tr>\n",
       "      <th>3331</th>\n",
       "      <td>7644-OMVMY</td>\n",
       "      <td>Male</td>\n",
       "      <td>0</td>\n",
       "      <td>Yes</td>\n",
       "      <td>Yes</td>\n",
       "      <td>0</td>\n",
       "      <td>Yes</td>\n",
       "      <td>No</td>\n",
       "      <td>No</td>\n",
       "      <td>No internet service</td>\n",
       "      <td>...</td>\n",
       "      <td>No internet service</td>\n",
       "      <td>No internet service</td>\n",
       "      <td>No internet service</td>\n",
       "      <td>No internet service</td>\n",
       "      <td>Two year</td>\n",
       "      <td>No</td>\n",
       "      <td>Mailed check</td>\n",
       "      <td>19.85</td>\n",
       "      <td>NaN</td>\n",
       "      <td>No</td>\n",
       "    </tr>\n",
       "    <tr>\n",
       "      <th>3826</th>\n",
       "      <td>3213-VVOLG</td>\n",
       "      <td>Male</td>\n",
       "      <td>0</td>\n",
       "      <td>Yes</td>\n",
       "      <td>Yes</td>\n",
       "      <td>0</td>\n",
       "      <td>Yes</td>\n",
       "      <td>Yes</td>\n",
       "      <td>No</td>\n",
       "      <td>No internet service</td>\n",
       "      <td>...</td>\n",
       "      <td>No internet service</td>\n",
       "      <td>No internet service</td>\n",
       "      <td>No internet service</td>\n",
       "      <td>No internet service</td>\n",
       "      <td>Two year</td>\n",
       "      <td>No</td>\n",
       "      <td>Mailed check</td>\n",
       "      <td>25.35</td>\n",
       "      <td>NaN</td>\n",
       "      <td>No</td>\n",
       "    </tr>\n",
       "    <tr>\n",
       "      <th>4380</th>\n",
       "      <td>2520-SGTTA</td>\n",
       "      <td>Female</td>\n",
       "      <td>0</td>\n",
       "      <td>Yes</td>\n",
       "      <td>Yes</td>\n",
       "      <td>0</td>\n",
       "      <td>Yes</td>\n",
       "      <td>No</td>\n",
       "      <td>No</td>\n",
       "      <td>No internet service</td>\n",
       "      <td>...</td>\n",
       "      <td>No internet service</td>\n",
       "      <td>No internet service</td>\n",
       "      <td>No internet service</td>\n",
       "      <td>No internet service</td>\n",
       "      <td>Two year</td>\n",
       "      <td>No</td>\n",
       "      <td>Mailed check</td>\n",
       "      <td>20.00</td>\n",
       "      <td>NaN</td>\n",
       "      <td>No</td>\n",
       "    </tr>\n",
       "    <tr>\n",
       "      <th>5218</th>\n",
       "      <td>2923-ARZLG</td>\n",
       "      <td>Male</td>\n",
       "      <td>0</td>\n",
       "      <td>Yes</td>\n",
       "      <td>Yes</td>\n",
       "      <td>0</td>\n",
       "      <td>Yes</td>\n",
       "      <td>No</td>\n",
       "      <td>No</td>\n",
       "      <td>No internet service</td>\n",
       "      <td>...</td>\n",
       "      <td>No internet service</td>\n",
       "      <td>No internet service</td>\n",
       "      <td>No internet service</td>\n",
       "      <td>No internet service</td>\n",
       "      <td>One year</td>\n",
       "      <td>Yes</td>\n",
       "      <td>Mailed check</td>\n",
       "      <td>19.70</td>\n",
       "      <td>NaN</td>\n",
       "      <td>No</td>\n",
       "    </tr>\n",
       "    <tr>\n",
       "      <th>6670</th>\n",
       "      <td>4075-WKNIU</td>\n",
       "      <td>Female</td>\n",
       "      <td>0</td>\n",
       "      <td>Yes</td>\n",
       "      <td>Yes</td>\n",
       "      <td>0</td>\n",
       "      <td>Yes</td>\n",
       "      <td>Yes</td>\n",
       "      <td>DSL</td>\n",
       "      <td>No</td>\n",
       "      <td>...</td>\n",
       "      <td>Yes</td>\n",
       "      <td>Yes</td>\n",
       "      <td>Yes</td>\n",
       "      <td>No</td>\n",
       "      <td>Two year</td>\n",
       "      <td>No</td>\n",
       "      <td>Mailed check</td>\n",
       "      <td>73.35</td>\n",
       "      <td>NaN</td>\n",
       "      <td>No</td>\n",
       "    </tr>\n",
       "    <tr>\n",
       "      <th>6754</th>\n",
       "      <td>2775-SEFEE</td>\n",
       "      <td>Male</td>\n",
       "      <td>0</td>\n",
       "      <td>No</td>\n",
       "      <td>Yes</td>\n",
       "      <td>0</td>\n",
       "      <td>Yes</td>\n",
       "      <td>Yes</td>\n",
       "      <td>DSL</td>\n",
       "      <td>Yes</td>\n",
       "      <td>...</td>\n",
       "      <td>No</td>\n",
       "      <td>Yes</td>\n",
       "      <td>No</td>\n",
       "      <td>No</td>\n",
       "      <td>Two year</td>\n",
       "      <td>Yes</td>\n",
       "      <td>Bank transfer (automatic)</td>\n",
       "      <td>61.90</td>\n",
       "      <td>NaN</td>\n",
       "      <td>No</td>\n",
       "    </tr>\n",
       "  </tbody>\n",
       "</table>\n",
       "<p>11 rows × 21 columns</p>\n",
       "</div>"
      ],
      "text/plain": [
       "      customerID  gender  SeniorCitizen Partner Dependents  tenure  \\\n",
       "488   4472-LVYGI  Female              0     Yes        Yes       0   \n",
       "753   3115-CZMZD    Male              0      No        Yes       0   \n",
       "936   5709-LVOEQ  Female              0     Yes        Yes       0   \n",
       "1082  4367-NUYAO    Male              0     Yes        Yes       0   \n",
       "1340  1371-DWPAZ  Female              0     Yes        Yes       0   \n",
       "3331  7644-OMVMY    Male              0     Yes        Yes       0   \n",
       "3826  3213-VVOLG    Male              0     Yes        Yes       0   \n",
       "4380  2520-SGTTA  Female              0     Yes        Yes       0   \n",
       "5218  2923-ARZLG    Male              0     Yes        Yes       0   \n",
       "6670  4075-WKNIU  Female              0     Yes        Yes       0   \n",
       "6754  2775-SEFEE    Male              0      No        Yes       0   \n",
       "\n",
       "     PhoneService     MultipleLines InternetService       OnlineSecurity  ...  \\\n",
       "488            No  No phone service             DSL                  Yes  ...   \n",
       "753           Yes                No              No  No internet service  ...   \n",
       "936           Yes                No             DSL                  Yes  ...   \n",
       "1082          Yes               Yes              No  No internet service  ...   \n",
       "1340           No  No phone service             DSL                  Yes  ...   \n",
       "3331          Yes                No              No  No internet service  ...   \n",
       "3826          Yes               Yes              No  No internet service  ...   \n",
       "4380          Yes                No              No  No internet service  ...   \n",
       "5218          Yes                No              No  No internet service  ...   \n",
       "6670          Yes               Yes             DSL                   No  ...   \n",
       "6754          Yes               Yes             DSL                  Yes  ...   \n",
       "\n",
       "         DeviceProtection          TechSupport          StreamingTV  \\\n",
       "488                   Yes                  Yes                  Yes   \n",
       "753   No internet service  No internet service  No internet service   \n",
       "936                   Yes                   No                  Yes   \n",
       "1082  No internet service  No internet service  No internet service   \n",
       "1340                  Yes                  Yes                  Yes   \n",
       "3331  No internet service  No internet service  No internet service   \n",
       "3826  No internet service  No internet service  No internet service   \n",
       "4380  No internet service  No internet service  No internet service   \n",
       "5218  No internet service  No internet service  No internet service   \n",
       "6670                  Yes                  Yes                  Yes   \n",
       "6754                   No                  Yes                   No   \n",
       "\n",
       "          StreamingMovies  Contract PaperlessBilling  \\\n",
       "488                    No  Two year              Yes   \n",
       "753   No internet service  Two year               No   \n",
       "936                   Yes  Two year               No   \n",
       "1082  No internet service  Two year               No   \n",
       "1340                   No  Two year               No   \n",
       "3331  No internet service  Two year               No   \n",
       "3826  No internet service  Two year               No   \n",
       "4380  No internet service  Two year               No   \n",
       "5218  No internet service  One year              Yes   \n",
       "6670                   No  Two year               No   \n",
       "6754                   No  Two year              Yes   \n",
       "\n",
       "                  PaymentMethod MonthlyCharges  TotalCharges  Churn  \n",
       "488   Bank transfer (automatic)          52.55           NaN     No  \n",
       "753                Mailed check          20.25           NaN     No  \n",
       "936                Mailed check          80.85           NaN     No  \n",
       "1082               Mailed check          25.75           NaN     No  \n",
       "1340    Credit card (automatic)          56.05           NaN     No  \n",
       "3331               Mailed check          19.85           NaN     No  \n",
       "3826               Mailed check          25.35           NaN     No  \n",
       "4380               Mailed check          20.00           NaN     No  \n",
       "5218               Mailed check          19.70           NaN     No  \n",
       "6670               Mailed check          73.35           NaN     No  \n",
       "6754  Bank transfer (automatic)          61.90           NaN     No  \n",
       "\n",
       "[11 rows x 21 columns]"
      ]
     },
     "execution_count": 10,
     "metadata": {},
     "output_type": "execute_result"
    }
   ],
   "source": [
    "churn_df.loc[churn_df.TotalCharges.isnull()]"
   ]
  },
  {
   "cell_type": "markdown",
   "metadata": {},
   "source": [
    "It appears that the <b>11 rows</b> with missing values for the <code>TotalCharges</code> column also have a <code>Tenure</code> of <code>0</code>. It may be the case that these customers have just joined the company which explains these conditions. Deleting these columns may result in loss of some information. A better approach may be to set the <code>TotalCharges</code> for these columns to <code>0</code>"
   ]
  },
  {
   "cell_type": "code",
   "execution_count": 11,
   "metadata": {},
   "outputs": [
    {
     "data": {
      "text/html": [
       "<div>\n",
       "<style scoped>\n",
       "    .dataframe tbody tr th:only-of-type {\n",
       "        vertical-align: middle;\n",
       "    }\n",
       "\n",
       "    .dataframe tbody tr th {\n",
       "        vertical-align: top;\n",
       "    }\n",
       "\n",
       "    .dataframe thead th {\n",
       "        text-align: right;\n",
       "    }\n",
       "</style>\n",
       "<table border=\"1\" class=\"dataframe\">\n",
       "  <thead>\n",
       "    <tr style=\"text-align: right;\">\n",
       "      <th></th>\n",
       "      <th>customerID</th>\n",
       "      <th>gender</th>\n",
       "      <th>SeniorCitizen</th>\n",
       "      <th>Partner</th>\n",
       "      <th>Dependents</th>\n",
       "      <th>tenure</th>\n",
       "      <th>PhoneService</th>\n",
       "      <th>MultipleLines</th>\n",
       "      <th>InternetService</th>\n",
       "      <th>OnlineSecurity</th>\n",
       "      <th>...</th>\n",
       "      <th>DeviceProtection</th>\n",
       "      <th>TechSupport</th>\n",
       "      <th>StreamingTV</th>\n",
       "      <th>StreamingMovies</th>\n",
       "      <th>Contract</th>\n",
       "      <th>PaperlessBilling</th>\n",
       "      <th>PaymentMethod</th>\n",
       "      <th>MonthlyCharges</th>\n",
       "      <th>TotalCharges</th>\n",
       "      <th>Churn</th>\n",
       "    </tr>\n",
       "  </thead>\n",
       "  <tbody>\n",
       "  </tbody>\n",
       "</table>\n",
       "<p>0 rows × 21 columns</p>\n",
       "</div>"
      ],
      "text/plain": [
       "Empty DataFrame\n",
       "Columns: [customerID, gender, SeniorCitizen, Partner, Dependents, tenure, PhoneService, MultipleLines, InternetService, OnlineSecurity, OnlineBackup, DeviceProtection, TechSupport, StreamingTV, StreamingMovies, Contract, PaperlessBilling, PaymentMethod, MonthlyCharges, TotalCharges, Churn]\n",
       "Index: []\n",
       "\n",
       "[0 rows x 21 columns]"
      ]
     },
     "execution_count": 11,
     "metadata": {},
     "output_type": "execute_result"
    }
   ],
   "source": [
    "churn_df[churn_df.TotalCharges == 0]"
   ]
  },
  {
   "cell_type": "markdown",
   "metadata": {},
   "source": [
    "There are no other rows whose <code>TotalCharges</code> column is <code>0</code> which is further proof that these customers had just joined the company."
   ]
  },
  {
   "cell_type": "code",
   "execution_count": 12,
   "metadata": {},
   "outputs": [],
   "source": [
    "# Setting the TotalCharges to 0 for rows that have a missing value\n",
    "churn_df.loc[churn_df.TotalCharges.isnull(), 'TotalCharges'] = 0"
   ]
  },
  {
   "cell_type": "markdown",
   "metadata": {},
   "source": [
    "To verify that this worked lets find rows with <code>tenure == 0</code> since we know that those are the same people that had missing values for the <code>TotalCharges</code> column."
   ]
  },
  {
   "cell_type": "code",
   "execution_count": 13,
   "metadata": {},
   "outputs": [
    {
     "data": {
      "text/html": [
       "<div>\n",
       "<style scoped>\n",
       "    .dataframe tbody tr th:only-of-type {\n",
       "        vertical-align: middle;\n",
       "    }\n",
       "\n",
       "    .dataframe tbody tr th {\n",
       "        vertical-align: top;\n",
       "    }\n",
       "\n",
       "    .dataframe thead th {\n",
       "        text-align: right;\n",
       "    }\n",
       "</style>\n",
       "<table border=\"1\" class=\"dataframe\">\n",
       "  <thead>\n",
       "    <tr style=\"text-align: right;\">\n",
       "      <th></th>\n",
       "      <th>customerID</th>\n",
       "      <th>gender</th>\n",
       "      <th>SeniorCitizen</th>\n",
       "      <th>Partner</th>\n",
       "      <th>Dependents</th>\n",
       "      <th>tenure</th>\n",
       "      <th>PhoneService</th>\n",
       "      <th>MultipleLines</th>\n",
       "      <th>InternetService</th>\n",
       "      <th>OnlineSecurity</th>\n",
       "      <th>...</th>\n",
       "      <th>DeviceProtection</th>\n",
       "      <th>TechSupport</th>\n",
       "      <th>StreamingTV</th>\n",
       "      <th>StreamingMovies</th>\n",
       "      <th>Contract</th>\n",
       "      <th>PaperlessBilling</th>\n",
       "      <th>PaymentMethod</th>\n",
       "      <th>MonthlyCharges</th>\n",
       "      <th>TotalCharges</th>\n",
       "      <th>Churn</th>\n",
       "    </tr>\n",
       "  </thead>\n",
       "  <tbody>\n",
       "    <tr>\n",
       "      <th>488</th>\n",
       "      <td>4472-LVYGI</td>\n",
       "      <td>Female</td>\n",
       "      <td>0</td>\n",
       "      <td>Yes</td>\n",
       "      <td>Yes</td>\n",
       "      <td>0</td>\n",
       "      <td>No</td>\n",
       "      <td>No phone service</td>\n",
       "      <td>DSL</td>\n",
       "      <td>Yes</td>\n",
       "      <td>...</td>\n",
       "      <td>Yes</td>\n",
       "      <td>Yes</td>\n",
       "      <td>Yes</td>\n",
       "      <td>No</td>\n",
       "      <td>Two year</td>\n",
       "      <td>Yes</td>\n",
       "      <td>Bank transfer (automatic)</td>\n",
       "      <td>52.55</td>\n",
       "      <td>0.0</td>\n",
       "      <td>No</td>\n",
       "    </tr>\n",
       "    <tr>\n",
       "      <th>753</th>\n",
       "      <td>3115-CZMZD</td>\n",
       "      <td>Male</td>\n",
       "      <td>0</td>\n",
       "      <td>No</td>\n",
       "      <td>Yes</td>\n",
       "      <td>0</td>\n",
       "      <td>Yes</td>\n",
       "      <td>No</td>\n",
       "      <td>No</td>\n",
       "      <td>No internet service</td>\n",
       "      <td>...</td>\n",
       "      <td>No internet service</td>\n",
       "      <td>No internet service</td>\n",
       "      <td>No internet service</td>\n",
       "      <td>No internet service</td>\n",
       "      <td>Two year</td>\n",
       "      <td>No</td>\n",
       "      <td>Mailed check</td>\n",
       "      <td>20.25</td>\n",
       "      <td>0.0</td>\n",
       "      <td>No</td>\n",
       "    </tr>\n",
       "    <tr>\n",
       "      <th>936</th>\n",
       "      <td>5709-LVOEQ</td>\n",
       "      <td>Female</td>\n",
       "      <td>0</td>\n",
       "      <td>Yes</td>\n",
       "      <td>Yes</td>\n",
       "      <td>0</td>\n",
       "      <td>Yes</td>\n",
       "      <td>No</td>\n",
       "      <td>DSL</td>\n",
       "      <td>Yes</td>\n",
       "      <td>...</td>\n",
       "      <td>Yes</td>\n",
       "      <td>No</td>\n",
       "      <td>Yes</td>\n",
       "      <td>Yes</td>\n",
       "      <td>Two year</td>\n",
       "      <td>No</td>\n",
       "      <td>Mailed check</td>\n",
       "      <td>80.85</td>\n",
       "      <td>0.0</td>\n",
       "      <td>No</td>\n",
       "    </tr>\n",
       "    <tr>\n",
       "      <th>1082</th>\n",
       "      <td>4367-NUYAO</td>\n",
       "      <td>Male</td>\n",
       "      <td>0</td>\n",
       "      <td>Yes</td>\n",
       "      <td>Yes</td>\n",
       "      <td>0</td>\n",
       "      <td>Yes</td>\n",
       "      <td>Yes</td>\n",
       "      <td>No</td>\n",
       "      <td>No internet service</td>\n",
       "      <td>...</td>\n",
       "      <td>No internet service</td>\n",
       "      <td>No internet service</td>\n",
       "      <td>No internet service</td>\n",
       "      <td>No internet service</td>\n",
       "      <td>Two year</td>\n",
       "      <td>No</td>\n",
       "      <td>Mailed check</td>\n",
       "      <td>25.75</td>\n",
       "      <td>0.0</td>\n",
       "      <td>No</td>\n",
       "    </tr>\n",
       "    <tr>\n",
       "      <th>1340</th>\n",
       "      <td>1371-DWPAZ</td>\n",
       "      <td>Female</td>\n",
       "      <td>0</td>\n",
       "      <td>Yes</td>\n",
       "      <td>Yes</td>\n",
       "      <td>0</td>\n",
       "      <td>No</td>\n",
       "      <td>No phone service</td>\n",
       "      <td>DSL</td>\n",
       "      <td>Yes</td>\n",
       "      <td>...</td>\n",
       "      <td>Yes</td>\n",
       "      <td>Yes</td>\n",
       "      <td>Yes</td>\n",
       "      <td>No</td>\n",
       "      <td>Two year</td>\n",
       "      <td>No</td>\n",
       "      <td>Credit card (automatic)</td>\n",
       "      <td>56.05</td>\n",
       "      <td>0.0</td>\n",
       "      <td>No</td>\n",
       "    </tr>\n",
       "    <tr>\n",
       "      <th>3331</th>\n",
       "      <td>7644-OMVMY</td>\n",
       "      <td>Male</td>\n",
       "      <td>0</td>\n",
       "      <td>Yes</td>\n",
       "      <td>Yes</td>\n",
       "      <td>0</td>\n",
       "      <td>Yes</td>\n",
       "      <td>No</td>\n",
       "      <td>No</td>\n",
       "      <td>No internet service</td>\n",
       "      <td>...</td>\n",
       "      <td>No internet service</td>\n",
       "      <td>No internet service</td>\n",
       "      <td>No internet service</td>\n",
       "      <td>No internet service</td>\n",
       "      <td>Two year</td>\n",
       "      <td>No</td>\n",
       "      <td>Mailed check</td>\n",
       "      <td>19.85</td>\n",
       "      <td>0.0</td>\n",
       "      <td>No</td>\n",
       "    </tr>\n",
       "    <tr>\n",
       "      <th>3826</th>\n",
       "      <td>3213-VVOLG</td>\n",
       "      <td>Male</td>\n",
       "      <td>0</td>\n",
       "      <td>Yes</td>\n",
       "      <td>Yes</td>\n",
       "      <td>0</td>\n",
       "      <td>Yes</td>\n",
       "      <td>Yes</td>\n",
       "      <td>No</td>\n",
       "      <td>No internet service</td>\n",
       "      <td>...</td>\n",
       "      <td>No internet service</td>\n",
       "      <td>No internet service</td>\n",
       "      <td>No internet service</td>\n",
       "      <td>No internet service</td>\n",
       "      <td>Two year</td>\n",
       "      <td>No</td>\n",
       "      <td>Mailed check</td>\n",
       "      <td>25.35</td>\n",
       "      <td>0.0</td>\n",
       "      <td>No</td>\n",
       "    </tr>\n",
       "    <tr>\n",
       "      <th>4380</th>\n",
       "      <td>2520-SGTTA</td>\n",
       "      <td>Female</td>\n",
       "      <td>0</td>\n",
       "      <td>Yes</td>\n",
       "      <td>Yes</td>\n",
       "      <td>0</td>\n",
       "      <td>Yes</td>\n",
       "      <td>No</td>\n",
       "      <td>No</td>\n",
       "      <td>No internet service</td>\n",
       "      <td>...</td>\n",
       "      <td>No internet service</td>\n",
       "      <td>No internet service</td>\n",
       "      <td>No internet service</td>\n",
       "      <td>No internet service</td>\n",
       "      <td>Two year</td>\n",
       "      <td>No</td>\n",
       "      <td>Mailed check</td>\n",
       "      <td>20.00</td>\n",
       "      <td>0.0</td>\n",
       "      <td>No</td>\n",
       "    </tr>\n",
       "    <tr>\n",
       "      <th>5218</th>\n",
       "      <td>2923-ARZLG</td>\n",
       "      <td>Male</td>\n",
       "      <td>0</td>\n",
       "      <td>Yes</td>\n",
       "      <td>Yes</td>\n",
       "      <td>0</td>\n",
       "      <td>Yes</td>\n",
       "      <td>No</td>\n",
       "      <td>No</td>\n",
       "      <td>No internet service</td>\n",
       "      <td>...</td>\n",
       "      <td>No internet service</td>\n",
       "      <td>No internet service</td>\n",
       "      <td>No internet service</td>\n",
       "      <td>No internet service</td>\n",
       "      <td>One year</td>\n",
       "      <td>Yes</td>\n",
       "      <td>Mailed check</td>\n",
       "      <td>19.70</td>\n",
       "      <td>0.0</td>\n",
       "      <td>No</td>\n",
       "    </tr>\n",
       "    <tr>\n",
       "      <th>6670</th>\n",
       "      <td>4075-WKNIU</td>\n",
       "      <td>Female</td>\n",
       "      <td>0</td>\n",
       "      <td>Yes</td>\n",
       "      <td>Yes</td>\n",
       "      <td>0</td>\n",
       "      <td>Yes</td>\n",
       "      <td>Yes</td>\n",
       "      <td>DSL</td>\n",
       "      <td>No</td>\n",
       "      <td>...</td>\n",
       "      <td>Yes</td>\n",
       "      <td>Yes</td>\n",
       "      <td>Yes</td>\n",
       "      <td>No</td>\n",
       "      <td>Two year</td>\n",
       "      <td>No</td>\n",
       "      <td>Mailed check</td>\n",
       "      <td>73.35</td>\n",
       "      <td>0.0</td>\n",
       "      <td>No</td>\n",
       "    </tr>\n",
       "    <tr>\n",
       "      <th>6754</th>\n",
       "      <td>2775-SEFEE</td>\n",
       "      <td>Male</td>\n",
       "      <td>0</td>\n",
       "      <td>No</td>\n",
       "      <td>Yes</td>\n",
       "      <td>0</td>\n",
       "      <td>Yes</td>\n",
       "      <td>Yes</td>\n",
       "      <td>DSL</td>\n",
       "      <td>Yes</td>\n",
       "      <td>...</td>\n",
       "      <td>No</td>\n",
       "      <td>Yes</td>\n",
       "      <td>No</td>\n",
       "      <td>No</td>\n",
       "      <td>Two year</td>\n",
       "      <td>Yes</td>\n",
       "      <td>Bank transfer (automatic)</td>\n",
       "      <td>61.90</td>\n",
       "      <td>0.0</td>\n",
       "      <td>No</td>\n",
       "    </tr>\n",
       "  </tbody>\n",
       "</table>\n",
       "<p>11 rows × 21 columns</p>\n",
       "</div>"
      ],
      "text/plain": [
       "      customerID  gender  SeniorCitizen Partner Dependents  tenure  \\\n",
       "488   4472-LVYGI  Female              0     Yes        Yes       0   \n",
       "753   3115-CZMZD    Male              0      No        Yes       0   \n",
       "936   5709-LVOEQ  Female              0     Yes        Yes       0   \n",
       "1082  4367-NUYAO    Male              0     Yes        Yes       0   \n",
       "1340  1371-DWPAZ  Female              0     Yes        Yes       0   \n",
       "3331  7644-OMVMY    Male              0     Yes        Yes       0   \n",
       "3826  3213-VVOLG    Male              0     Yes        Yes       0   \n",
       "4380  2520-SGTTA  Female              0     Yes        Yes       0   \n",
       "5218  2923-ARZLG    Male              0     Yes        Yes       0   \n",
       "6670  4075-WKNIU  Female              0     Yes        Yes       0   \n",
       "6754  2775-SEFEE    Male              0      No        Yes       0   \n",
       "\n",
       "     PhoneService     MultipleLines InternetService       OnlineSecurity  ...  \\\n",
       "488            No  No phone service             DSL                  Yes  ...   \n",
       "753           Yes                No              No  No internet service  ...   \n",
       "936           Yes                No             DSL                  Yes  ...   \n",
       "1082          Yes               Yes              No  No internet service  ...   \n",
       "1340           No  No phone service             DSL                  Yes  ...   \n",
       "3331          Yes                No              No  No internet service  ...   \n",
       "3826          Yes               Yes              No  No internet service  ...   \n",
       "4380          Yes                No              No  No internet service  ...   \n",
       "5218          Yes                No              No  No internet service  ...   \n",
       "6670          Yes               Yes             DSL                   No  ...   \n",
       "6754          Yes               Yes             DSL                  Yes  ...   \n",
       "\n",
       "         DeviceProtection          TechSupport          StreamingTV  \\\n",
       "488                   Yes                  Yes                  Yes   \n",
       "753   No internet service  No internet service  No internet service   \n",
       "936                   Yes                   No                  Yes   \n",
       "1082  No internet service  No internet service  No internet service   \n",
       "1340                  Yes                  Yes                  Yes   \n",
       "3331  No internet service  No internet service  No internet service   \n",
       "3826  No internet service  No internet service  No internet service   \n",
       "4380  No internet service  No internet service  No internet service   \n",
       "5218  No internet service  No internet service  No internet service   \n",
       "6670                  Yes                  Yes                  Yes   \n",
       "6754                   No                  Yes                   No   \n",
       "\n",
       "          StreamingMovies  Contract PaperlessBilling  \\\n",
       "488                    No  Two year              Yes   \n",
       "753   No internet service  Two year               No   \n",
       "936                   Yes  Two year               No   \n",
       "1082  No internet service  Two year               No   \n",
       "1340                   No  Two year               No   \n",
       "3331  No internet service  Two year               No   \n",
       "3826  No internet service  Two year               No   \n",
       "4380  No internet service  Two year               No   \n",
       "5218  No internet service  One year              Yes   \n",
       "6670                   No  Two year               No   \n",
       "6754                   No  Two year              Yes   \n",
       "\n",
       "                  PaymentMethod MonthlyCharges  TotalCharges  Churn  \n",
       "488   Bank transfer (automatic)          52.55           0.0     No  \n",
       "753                Mailed check          20.25           0.0     No  \n",
       "936                Mailed check          80.85           0.0     No  \n",
       "1082               Mailed check          25.75           0.0     No  \n",
       "1340    Credit card (automatic)          56.05           0.0     No  \n",
       "3331               Mailed check          19.85           0.0     No  \n",
       "3826               Mailed check          25.35           0.0     No  \n",
       "4380               Mailed check          20.00           0.0     No  \n",
       "5218               Mailed check          19.70           0.0     No  \n",
       "6670               Mailed check          73.35           0.0     No  \n",
       "6754  Bank transfer (automatic)          61.90           0.0     No  \n",
       "\n",
       "[11 rows x 21 columns]"
      ]
     },
     "execution_count": 13,
     "metadata": {},
     "output_type": "execute_result"
    }
   ],
   "source": [
    "churn_df.loc[churn_df.tenure == 0]"
   ]
  },
  {
   "cell_type": "markdown",
   "metadata": {},
   "source": [
    "Now the missing values have been fixed."
   ]
  },
  {
   "cell_type": "markdown",
   "metadata": {},
   "source": [
    "Next we need to convert the predictor variable <b>(y)</b> which in this case is the <code>Churn</code> column from categorical into a binary numeric variable."
   ]
  },
  {
   "cell_type": "code",
   "execution_count": 14,
   "metadata": {},
   "outputs": [
    {
     "name": "stdout",
     "output_type": "stream",
     "text": [
      "Churned: 1869\n",
      "Did not churn: 5174\n"
     ]
    }
   ],
   "source": [
    "churned = len(churn_df.loc[churn_df.Churn == 'Yes'])\n",
    "not_churned = len(churn_df.loc[churn_df.Churn == 'No'])\n",
    "\n",
    "print(f'Churned: {churned}')\n",
    "print(f'Did not churn: {not_churned}')"
   ]
  },
  {
   "cell_type": "code",
   "execution_count": 15,
   "metadata": {},
   "outputs": [],
   "source": [
    "churn_df['Churn'].replace(to_replace='Yes', value=1, inplace=True)\n",
    "churn_df['Churn'].replace(to_replace='No', value=0, inplace=True)"
   ]
  },
  {
   "cell_type": "markdown",
   "metadata": {},
   "source": [
    "Lets verify this worked."
   ]
  },
  {
   "cell_type": "code",
   "execution_count": 16,
   "metadata": {},
   "outputs": [
    {
     "name": "stdout",
     "output_type": "stream",
     "text": [
      "Churned: 1869\n",
      "Did not churn: 5174\n"
     ]
    }
   ],
   "source": [
    "churned = len(churn_df.loc[churn_df.Churn == 1])\n",
    "not_churned = len(churn_df.loc[churn_df.Churn == 0])\n",
    "\n",
    "print(f'Churned: {churned}')\n",
    "print(f'Did not churn: {not_churned}')"
   ]
  },
  {
   "cell_type": "markdown",
   "metadata": {},
   "source": [
    "Another issue that needs to be handled is the <code>SeniorCitizen</code> column. It is a categorical column but is being stored numerically. It may be useful to convert it into a categorical column containing <b>Yes</b> and <b>No</b> values to make the type of data explicit."
   ]
  },
  {
   "cell_type": "code",
   "execution_count": 17,
   "metadata": {},
   "outputs": [
    {
     "name": "stdout",
     "output_type": "stream",
     "text": [
      "Not seniors: 5901\n",
      "Seniors: 1142\n"
     ]
    }
   ],
   "source": [
    "not_seniors = len(churn_df.loc[churn_df.SeniorCitizen == 0])\n",
    "seniors = len(churn_df.loc[churn_df.SeniorCitizen == 1])\n",
    "\n",
    "print(f'Not seniors: {not_seniors}')\n",
    "print(f'Seniors: {seniors}')"
   ]
  },
  {
   "cell_type": "code",
   "execution_count": 18,
   "metadata": {},
   "outputs": [
    {
     "name": "stdout",
     "output_type": "stream",
     "text": [
      "Not seniors: 5901\n",
      "Seniors: 1142\n"
     ]
    }
   ],
   "source": [
    "# Convert Seniors into a categorical Yes and No column.\n",
    "churn_df.SeniorCitizen = churn_df.SeniorCitizen.astype(str)\n",
    "churn_df.SeniorCitizen.replace(to_replace='0', value='No', inplace=True)\n",
    "churn_df.SeniorCitizen.replace(to_replace='1', value='Yes', inplace=True)\n",
    "\n",
    "# Confirm change\n",
    "not_seniors = len(churn_df.loc[churn_df.SeniorCitizen == 'No'])\n",
    "seniors = len(churn_df.loc[churn_df.SeniorCitizen == 'Yes'])\n",
    "print(f'Not seniors: {not_seniors}')\n",
    "print(f'Seniors: {seniors}')"
   ]
  },
  {
   "cell_type": "markdown",
   "metadata": {},
   "source": [
    "Now lets check for the unique values in each column and try to eliminate useless columns."
   ]
  },
  {
   "cell_type": "code",
   "execution_count": 19,
   "metadata": {},
   "outputs": [],
   "source": [
    "unique_values = []\n",
    "for column in churn_df.columns:\n",
    "    unique_values.append({column: len( churn_df[column].unique())})"
   ]
  },
  {
   "cell_type": "code",
   "execution_count": 20,
   "metadata": {},
   "outputs": [
    {
     "data": {
      "text/plain": [
       "[{'customerID': 7043},\n",
       " {'gender': 2},\n",
       " {'SeniorCitizen': 2},\n",
       " {'Partner': 2},\n",
       " {'Dependents': 2},\n",
       " {'tenure': 73},\n",
       " {'PhoneService': 2},\n",
       " {'MultipleLines': 3},\n",
       " {'InternetService': 3},\n",
       " {'OnlineSecurity': 3},\n",
       " {'OnlineBackup': 3},\n",
       " {'DeviceProtection': 3},\n",
       " {'TechSupport': 3},\n",
       " {'StreamingTV': 3},\n",
       " {'StreamingMovies': 3},\n",
       " {'Contract': 3},\n",
       " {'PaperlessBilling': 2},\n",
       " {'PaymentMethod': 4},\n",
       " {'MonthlyCharges': 1585},\n",
       " {'TotalCharges': 6531},\n",
       " {'Churn': 2}]"
      ]
     },
     "execution_count": 20,
     "metadata": {},
     "output_type": "execute_result"
    }
   ],
   "source": [
    "unique_values"
   ]
  },
  {
   "cell_type": "markdown",
   "metadata": {},
   "source": [
    "Columns that have one unique value are useless for making predictions and need to be removed from the dataset. The above code above shows that there are no columns with one unique value hence per this case we dont need to drop anything. But there is something interesting with the <code>customerID</code> column."
   ]
  },
  {
   "cell_type": "code",
   "execution_count": 21,
   "metadata": {},
   "outputs": [
    {
     "data": {
      "text/plain": [
       "True"
      ]
     },
     "execution_count": 21,
     "metadata": {},
     "output_type": "execute_result"
    }
   ],
   "source": [
    "len(churn_df['customerID']) ==  len(churn_df['customerID'].unique())"
   ]
  },
  {
   "cell_type": "markdown",
   "metadata": {},
   "source": [
    "The length of the <code>customerID</code> column is the same as the number of unique values in that column meaning every value in that column is unique, which makes sense since there needs to be a unique way to identify each customer. Such columns where every value is unique are not useful for making classifications since every row is unique hence it needs to be dropped."
   ]
  },
  {
   "cell_type": "code",
   "execution_count": 22,
   "metadata": {},
   "outputs": [
    {
     "data": {
      "text/html": [
       "<div>\n",
       "<style scoped>\n",
       "    .dataframe tbody tr th:only-of-type {\n",
       "        vertical-align: middle;\n",
       "    }\n",
       "\n",
       "    .dataframe tbody tr th {\n",
       "        vertical-align: top;\n",
       "    }\n",
       "\n",
       "    .dataframe thead th {\n",
       "        text-align: right;\n",
       "    }\n",
       "</style>\n",
       "<table border=\"1\" class=\"dataframe\">\n",
       "  <thead>\n",
       "    <tr style=\"text-align: right;\">\n",
       "      <th></th>\n",
       "      <th>gender</th>\n",
       "      <th>SeniorCitizen</th>\n",
       "      <th>Partner</th>\n",
       "      <th>Dependents</th>\n",
       "      <th>tenure</th>\n",
       "      <th>PhoneService</th>\n",
       "      <th>MultipleLines</th>\n",
       "      <th>InternetService</th>\n",
       "      <th>OnlineSecurity</th>\n",
       "      <th>OnlineBackup</th>\n",
       "      <th>DeviceProtection</th>\n",
       "      <th>TechSupport</th>\n",
       "      <th>StreamingTV</th>\n",
       "      <th>StreamingMovies</th>\n",
       "      <th>Contract</th>\n",
       "      <th>PaperlessBilling</th>\n",
       "      <th>PaymentMethod</th>\n",
       "      <th>MonthlyCharges</th>\n",
       "      <th>TotalCharges</th>\n",
       "      <th>Churn</th>\n",
       "    </tr>\n",
       "  </thead>\n",
       "  <tbody>\n",
       "    <tr>\n",
       "      <th>0</th>\n",
       "      <td>Female</td>\n",
       "      <td>No</td>\n",
       "      <td>Yes</td>\n",
       "      <td>No</td>\n",
       "      <td>1</td>\n",
       "      <td>No</td>\n",
       "      <td>No phone service</td>\n",
       "      <td>DSL</td>\n",
       "      <td>No</td>\n",
       "      <td>Yes</td>\n",
       "      <td>No</td>\n",
       "      <td>No</td>\n",
       "      <td>No</td>\n",
       "      <td>No</td>\n",
       "      <td>Month-to-month</td>\n",
       "      <td>Yes</td>\n",
       "      <td>Electronic check</td>\n",
       "      <td>29.85</td>\n",
       "      <td>29.85</td>\n",
       "      <td>0</td>\n",
       "    </tr>\n",
       "    <tr>\n",
       "      <th>1</th>\n",
       "      <td>Male</td>\n",
       "      <td>No</td>\n",
       "      <td>No</td>\n",
       "      <td>No</td>\n",
       "      <td>34</td>\n",
       "      <td>Yes</td>\n",
       "      <td>No</td>\n",
       "      <td>DSL</td>\n",
       "      <td>Yes</td>\n",
       "      <td>No</td>\n",
       "      <td>Yes</td>\n",
       "      <td>No</td>\n",
       "      <td>No</td>\n",
       "      <td>No</td>\n",
       "      <td>One year</td>\n",
       "      <td>No</td>\n",
       "      <td>Mailed check</td>\n",
       "      <td>56.95</td>\n",
       "      <td>1889.50</td>\n",
       "      <td>0</td>\n",
       "    </tr>\n",
       "    <tr>\n",
       "      <th>2</th>\n",
       "      <td>Male</td>\n",
       "      <td>No</td>\n",
       "      <td>No</td>\n",
       "      <td>No</td>\n",
       "      <td>2</td>\n",
       "      <td>Yes</td>\n",
       "      <td>No</td>\n",
       "      <td>DSL</td>\n",
       "      <td>Yes</td>\n",
       "      <td>Yes</td>\n",
       "      <td>No</td>\n",
       "      <td>No</td>\n",
       "      <td>No</td>\n",
       "      <td>No</td>\n",
       "      <td>Month-to-month</td>\n",
       "      <td>Yes</td>\n",
       "      <td>Mailed check</td>\n",
       "      <td>53.85</td>\n",
       "      <td>108.15</td>\n",
       "      <td>1</td>\n",
       "    </tr>\n",
       "    <tr>\n",
       "      <th>3</th>\n",
       "      <td>Male</td>\n",
       "      <td>No</td>\n",
       "      <td>No</td>\n",
       "      <td>No</td>\n",
       "      <td>45</td>\n",
       "      <td>No</td>\n",
       "      <td>No phone service</td>\n",
       "      <td>DSL</td>\n",
       "      <td>Yes</td>\n",
       "      <td>No</td>\n",
       "      <td>Yes</td>\n",
       "      <td>Yes</td>\n",
       "      <td>No</td>\n",
       "      <td>No</td>\n",
       "      <td>One year</td>\n",
       "      <td>No</td>\n",
       "      <td>Bank transfer (automatic)</td>\n",
       "      <td>42.30</td>\n",
       "      <td>1840.75</td>\n",
       "      <td>0</td>\n",
       "    </tr>\n",
       "    <tr>\n",
       "      <th>4</th>\n",
       "      <td>Female</td>\n",
       "      <td>No</td>\n",
       "      <td>No</td>\n",
       "      <td>No</td>\n",
       "      <td>2</td>\n",
       "      <td>Yes</td>\n",
       "      <td>No</td>\n",
       "      <td>Fiber optic</td>\n",
       "      <td>No</td>\n",
       "      <td>No</td>\n",
       "      <td>No</td>\n",
       "      <td>No</td>\n",
       "      <td>No</td>\n",
       "      <td>No</td>\n",
       "      <td>Month-to-month</td>\n",
       "      <td>Yes</td>\n",
       "      <td>Electronic check</td>\n",
       "      <td>70.70</td>\n",
       "      <td>151.65</td>\n",
       "      <td>1</td>\n",
       "    </tr>\n",
       "  </tbody>\n",
       "</table>\n",
       "</div>"
      ],
      "text/plain": [
       "   gender SeniorCitizen Partner Dependents  tenure PhoneService  \\\n",
       "0  Female            No     Yes         No       1           No   \n",
       "1    Male            No      No         No      34          Yes   \n",
       "2    Male            No      No         No       2          Yes   \n",
       "3    Male            No      No         No      45           No   \n",
       "4  Female            No      No         No       2          Yes   \n",
       "\n",
       "      MultipleLines InternetService OnlineSecurity OnlineBackup  \\\n",
       "0  No phone service             DSL             No          Yes   \n",
       "1                No             DSL            Yes           No   \n",
       "2                No             DSL            Yes          Yes   \n",
       "3  No phone service             DSL            Yes           No   \n",
       "4                No     Fiber optic             No           No   \n",
       "\n",
       "  DeviceProtection TechSupport StreamingTV StreamingMovies        Contract  \\\n",
       "0               No          No          No              No  Month-to-month   \n",
       "1              Yes          No          No              No        One year   \n",
       "2               No          No          No              No  Month-to-month   \n",
       "3              Yes         Yes          No              No        One year   \n",
       "4               No          No          No              No  Month-to-month   \n",
       "\n",
       "  PaperlessBilling              PaymentMethod  MonthlyCharges  TotalCharges  \\\n",
       "0              Yes           Electronic check           29.85         29.85   \n",
       "1               No               Mailed check           56.95       1889.50   \n",
       "2              Yes               Mailed check           53.85        108.15   \n",
       "3               No  Bank transfer (automatic)           42.30       1840.75   \n",
       "4              Yes           Electronic check           70.70        151.65   \n",
       "\n",
       "   Churn  \n",
       "0      0  \n",
       "1      0  \n",
       "2      1  \n",
       "3      0  \n",
       "4      1  "
      ]
     },
     "execution_count": 22,
     "metadata": {},
     "output_type": "execute_result"
    }
   ],
   "source": [
    "churn_df.drop(columns=['customerID'], inplace=True)\n",
    "churn_df.head()"
   ]
  },
  {
   "cell_type": "markdown",
   "metadata": {},
   "source": [
    "Now that we have dealt with the missing data, we can replace all of the whitespaces in all of the columns with underscores. This is only done to be able to draw a picture of one of the <b>XGBoost</b> trees.<br>\n",
    "<b>XGBoost</b> doesn't really care since we are going to <b>One Hot Encode</b> these values."
   ]
  },
  {
   "cell_type": "code",
   "execution_count": 23,
   "metadata": {},
   "outputs": [
    {
     "data": {
      "text/html": [
       "<div>\n",
       "<style scoped>\n",
       "    .dataframe tbody tr th:only-of-type {\n",
       "        vertical-align: middle;\n",
       "    }\n",
       "\n",
       "    .dataframe tbody tr th {\n",
       "        vertical-align: top;\n",
       "    }\n",
       "\n",
       "    .dataframe thead th {\n",
       "        text-align: right;\n",
       "    }\n",
       "</style>\n",
       "<table border=\"1\" class=\"dataframe\">\n",
       "  <thead>\n",
       "    <tr style=\"text-align: right;\">\n",
       "      <th></th>\n",
       "      <th>gender</th>\n",
       "      <th>SeniorCitizen</th>\n",
       "      <th>Partner</th>\n",
       "      <th>Dependents</th>\n",
       "      <th>tenure</th>\n",
       "      <th>PhoneService</th>\n",
       "      <th>MultipleLines</th>\n",
       "      <th>InternetService</th>\n",
       "      <th>OnlineSecurity</th>\n",
       "      <th>OnlineBackup</th>\n",
       "      <th>DeviceProtection</th>\n",
       "      <th>TechSupport</th>\n",
       "      <th>StreamingTV</th>\n",
       "      <th>StreamingMovies</th>\n",
       "      <th>Contract</th>\n",
       "      <th>PaperlessBilling</th>\n",
       "      <th>PaymentMethod</th>\n",
       "      <th>MonthlyCharges</th>\n",
       "      <th>TotalCharges</th>\n",
       "      <th>Churn</th>\n",
       "    </tr>\n",
       "  </thead>\n",
       "  <tbody>\n",
       "    <tr>\n",
       "      <th>0</th>\n",
       "      <td>Female</td>\n",
       "      <td>No</td>\n",
       "      <td>Yes</td>\n",
       "      <td>No</td>\n",
       "      <td>1</td>\n",
       "      <td>No</td>\n",
       "      <td>No_phone_service</td>\n",
       "      <td>DSL</td>\n",
       "      <td>No</td>\n",
       "      <td>Yes</td>\n",
       "      <td>No</td>\n",
       "      <td>No</td>\n",
       "      <td>No</td>\n",
       "      <td>No</td>\n",
       "      <td>Month-to-month</td>\n",
       "      <td>Yes</td>\n",
       "      <td>Electronic_check</td>\n",
       "      <td>29.85</td>\n",
       "      <td>29.85</td>\n",
       "      <td>0</td>\n",
       "    </tr>\n",
       "    <tr>\n",
       "      <th>1</th>\n",
       "      <td>Male</td>\n",
       "      <td>No</td>\n",
       "      <td>No</td>\n",
       "      <td>No</td>\n",
       "      <td>34</td>\n",
       "      <td>Yes</td>\n",
       "      <td>No</td>\n",
       "      <td>DSL</td>\n",
       "      <td>Yes</td>\n",
       "      <td>No</td>\n",
       "      <td>Yes</td>\n",
       "      <td>No</td>\n",
       "      <td>No</td>\n",
       "      <td>No</td>\n",
       "      <td>One_year</td>\n",
       "      <td>No</td>\n",
       "      <td>Mailed_check</td>\n",
       "      <td>56.95</td>\n",
       "      <td>1889.50</td>\n",
       "      <td>0</td>\n",
       "    </tr>\n",
       "    <tr>\n",
       "      <th>2</th>\n",
       "      <td>Male</td>\n",
       "      <td>No</td>\n",
       "      <td>No</td>\n",
       "      <td>No</td>\n",
       "      <td>2</td>\n",
       "      <td>Yes</td>\n",
       "      <td>No</td>\n",
       "      <td>DSL</td>\n",
       "      <td>Yes</td>\n",
       "      <td>Yes</td>\n",
       "      <td>No</td>\n",
       "      <td>No</td>\n",
       "      <td>No</td>\n",
       "      <td>No</td>\n",
       "      <td>Month-to-month</td>\n",
       "      <td>Yes</td>\n",
       "      <td>Mailed_check</td>\n",
       "      <td>53.85</td>\n",
       "      <td>108.15</td>\n",
       "      <td>1</td>\n",
       "    </tr>\n",
       "    <tr>\n",
       "      <th>3</th>\n",
       "      <td>Male</td>\n",
       "      <td>No</td>\n",
       "      <td>No</td>\n",
       "      <td>No</td>\n",
       "      <td>45</td>\n",
       "      <td>No</td>\n",
       "      <td>No_phone_service</td>\n",
       "      <td>DSL</td>\n",
       "      <td>Yes</td>\n",
       "      <td>No</td>\n",
       "      <td>Yes</td>\n",
       "      <td>Yes</td>\n",
       "      <td>No</td>\n",
       "      <td>No</td>\n",
       "      <td>One_year</td>\n",
       "      <td>No</td>\n",
       "      <td>Bank_transfer_(automatic)</td>\n",
       "      <td>42.30</td>\n",
       "      <td>1840.75</td>\n",
       "      <td>0</td>\n",
       "    </tr>\n",
       "    <tr>\n",
       "      <th>4</th>\n",
       "      <td>Female</td>\n",
       "      <td>No</td>\n",
       "      <td>No</td>\n",
       "      <td>No</td>\n",
       "      <td>2</td>\n",
       "      <td>Yes</td>\n",
       "      <td>No</td>\n",
       "      <td>Fiber_optic</td>\n",
       "      <td>No</td>\n",
       "      <td>No</td>\n",
       "      <td>No</td>\n",
       "      <td>No</td>\n",
       "      <td>No</td>\n",
       "      <td>No</td>\n",
       "      <td>Month-to-month</td>\n",
       "      <td>Yes</td>\n",
       "      <td>Electronic_check</td>\n",
       "      <td>70.70</td>\n",
       "      <td>151.65</td>\n",
       "      <td>1</td>\n",
       "    </tr>\n",
       "  </tbody>\n",
       "</table>\n",
       "</div>"
      ],
      "text/plain": [
       "   gender SeniorCitizen Partner Dependents  tenure PhoneService  \\\n",
       "0  Female            No     Yes         No       1           No   \n",
       "1    Male            No      No         No      34          Yes   \n",
       "2    Male            No      No         No       2          Yes   \n",
       "3    Male            No      No         No      45           No   \n",
       "4  Female            No      No         No       2          Yes   \n",
       "\n",
       "      MultipleLines InternetService OnlineSecurity OnlineBackup  \\\n",
       "0  No_phone_service             DSL             No          Yes   \n",
       "1                No             DSL            Yes           No   \n",
       "2                No             DSL            Yes          Yes   \n",
       "3  No_phone_service             DSL            Yes           No   \n",
       "4                No     Fiber_optic             No           No   \n",
       "\n",
       "  DeviceProtection TechSupport StreamingTV StreamingMovies        Contract  \\\n",
       "0               No          No          No              No  Month-to-month   \n",
       "1              Yes          No          No              No        One_year   \n",
       "2               No          No          No              No  Month-to-month   \n",
       "3              Yes         Yes          No              No        One_year   \n",
       "4               No          No          No              No  Month-to-month   \n",
       "\n",
       "  PaperlessBilling              PaymentMethod  MonthlyCharges  TotalCharges  \\\n",
       "0              Yes           Electronic_check           29.85         29.85   \n",
       "1               No               Mailed_check           56.95       1889.50   \n",
       "2              Yes               Mailed_check           53.85        108.15   \n",
       "3               No  Bank_transfer_(automatic)           42.30       1840.75   \n",
       "4              Yes           Electronic_check           70.70        151.65   \n",
       "\n",
       "   Churn  \n",
       "0      0  \n",
       "1      0  \n",
       "2      1  \n",
       "3      0  \n",
       "4      1  "
      ]
     },
     "execution_count": 23,
     "metadata": {},
     "output_type": "execute_result"
    }
   ],
   "source": [
    "churn_df.replace(\" \", \"_\", regex=True, inplace=True)\n",
    "churn_df.head()"
   ]
  },
  {
   "cell_type": "markdown",
   "metadata": {},
   "source": [
    "# Some Data Exploration"
   ]
  },
  {
   "cell_type": "markdown",
   "metadata": {},
   "source": [
    "## Demographics"
   ]
  },
  {
   "cell_type": "markdown",
   "metadata": {},
   "source": [
    "Let us first understand the gender, age range, patner and dependent status of the customers"
   ]
  },
  {
   "cell_type": "markdown",
   "metadata": {},
   "source": [
    "### Gender distribution"
   ]
  },
  {
   "cell_type": "code",
   "execution_count": 24,
   "metadata": {},
   "outputs": [
    {
     "data": {
      "image/png": "[encoded data removed]",
      "text/plain": [
       "<Figure size 432x288 with 1 Axes>"
      ]
     },
     "metadata": {},
     "output_type": "display_data"
    }
   ],
   "source": [
    "colors = ['#4D3425','#E4512B']\n",
    "\n",
    "# Plot the percentage of each gender\n",
    "ax = (churn_df['gender'].value_counts()*100.0 /len(churn_df)).plot(kind='bar',\n",
    "                                                                   stacked = True,\n",
    "                                                                   rot = 0,\n",
    "                                                                   color = colors)\n",
    "\n",
    "ax.yaxis.set_major_formatter(mtick.PercentFormatter())\n",
    "ax.set_ylabel('% Customers')\n",
    "ax.set_xlabel('Gender')\n",
    "ax.set_ylabel('% Customers')\n",
    "ax.set_title('Gender Distribution')\n",
    "\n",
    "# create a list to collect the plt.patches data\n",
    "totals = []\n",
    "\n",
    "# find the values and append to list\n",
    "for i in ax.patches:\n",
    "    totals.append(i.get_width())\n",
    "\n",
    "# set individual bar lables using above list\n",
    "total = sum(totals)\n",
    "\n",
    "for i in ax.patches:\n",
    "    # get_width pulls left or right; get_y pushes up or down\n",
    "    ax.text(i.get_x()+.15, i.get_height()-3.5, \\\n",
    "            str(round((i.get_height()/total), 1))+'%',\n",
    "            fontsize=12,\n",
    "            color='white',\n",
    "           weight = 'bold')"
   ]
  },
  {
   "cell_type": "markdown",
   "metadata": {},
   "source": [
    "About half of the customers in our data set are male while the other half are female"
   ]
  },
  {
   "cell_type": "markdown",
   "metadata": {},
   "source": [
    "### Senior Citizens"
   ]
  },
  {
   "cell_type": "code",
   "execution_count": 25,
   "metadata": {},
   "outputs": [
    {
     "data": {
      "text/plain": [
       "Text(0.5, 1.0, '% of Senior Citizens')"
      ]
     },
     "execution_count": 25,
     "metadata": {},
     "output_type": "execute_result"
    },
    {
     "data": {
      "image/png": "[encoded data removed]",
      "text/plain": [
       "<Figure size 360x360 with 1 Axes>"
      ]
     },
     "metadata": {},
     "output_type": "display_data"
    }
   ],
   "source": [
    "ax =  (churn_df.SeniorCitizen.value_counts() * 100 / len(churn_df)).plot.pie(autopct='%.1f%%', labels = ['No', 'Yes'],figsize =(5,5), fontsize = 12 )\n",
    "\n",
    "ax.yaxis.set_major_formatter(mtick.PercentFormatter())\n",
    "ax.set_ylabel('Senior Citizens',fontsize = 12)\n",
    "ax.set_title('% of Senior Citizens', fontsize = 12)"
   ]
  },
  {
   "cell_type": "markdown",
   "metadata": {},
   "source": [
    "There are only 16% of the customers who are senior citizens. Thus most of our customers in the data are younger people."
   ]
  },
  {
   "cell_type": "markdown",
   "metadata": {},
   "source": [
    "## Customer Account Information "
   ]
  },
  {
   "cell_type": "markdown",
   "metadata": {},
   "source": [
    "### Tenure"
   ]
  },
  {
   "cell_type": "code",
   "execution_count": 26,
   "metadata": {},
   "outputs": [
    {
     "name": "stderr",
     "output_type": "stream",
     "text": [
      "C:\\Users\\nyash\\anaconda3\\lib\\site-packages\\seaborn\\distributions.py:2557: FutureWarning: `distplot` is a deprecated function and will be removed in a future version. Please adapt your code to use either `displot` (a figure-level function with similar flexibility) or `histplot` (an axes-level function for histograms).\n",
      "  warnings.warn(msg, FutureWarning)\n"
     ]
    },
    {
     "data": {
      "text/plain": [
       "Text(0.5, 1.0, '# of Customers by their tenure')"
      ]
     },
     "execution_count": 26,
     "metadata": {},
     "output_type": "execute_result"
    },
    {
     "data": {
      "image/png": "[encoded data removed]",
      "text/plain": [
       "<Figure size 432x288 with 1 Axes>"
      ]
     },
     "metadata": {},
     "output_type": "display_data"
    }
   ],
   "source": [
    "ax = sns.distplot(churn_df['tenure'], hist=True, kde=False, \n",
    "             bins=int(180/5), color = 'darkblue', \n",
    "             hist_kws={'edgecolor':'black'},\n",
    "             kde_kws={'linewidth': 4})\n",
    "ax.set_ylabel('# of Customers')\n",
    "ax.set_xlabel('Tenure (months)')\n",
    "ax.set_title('# of Customers by their tenure')"
   ]
  },
  {
   "cell_type": "markdown",
   "metadata": {},
   "source": [
    "After looking at the below histogram we can see that a lot of customers have been with the telecom company for just a month, while quite a many are there for about 72 months. This could be potentially because different customers have different contracts. Thus based on the contract they are into it could be more/less easier for the customers to stay/leave the telecom company."
   ]
  },
  {
   "cell_type": "markdown",
   "metadata": {},
   "source": [
    "### Contracts"
   ]
  },
  {
   "cell_type": "code",
   "execution_count": 27,
   "metadata": {},
   "outputs": [
    {
     "data": {
      "text/plain": [
       "Text(0.5, 1.0, '# of Customers by Contract Type')"
      ]
     },
     "execution_count": 27,
     "metadata": {},
     "output_type": "execute_result"
    },
    {
     "data": {
      "image/png": "[encoded data removed]",
      "text/plain": [
       "<Figure size 432x288 with 1 Axes>"
      ]
     },
     "metadata": {},
     "output_type": "display_data"
    }
   ],
   "source": [
    "ax = churn_df['Contract'].value_counts().plot(kind = 'bar',rot = 0, width = 0.3)\n",
    "ax.set_ylabel('# of Customers')\n",
    "ax.set_title('# of Customers by Contract Type')"
   ]
  },
  {
   "cell_type": "markdown",
   "metadata": {},
   "source": [
    "As we can see from this graph most of the customers are in the month to month contract. While there are equal number of customers in the 1 year and 2 year contracts."
   ]
  },
  {
   "cell_type": "markdown",
   "metadata": {},
   "source": [
    "### Distribution of various services used by customers"
   ]
  },
  {
   "cell_type": "code",
   "execution_count": 28,
   "metadata": {},
   "outputs": [
    {
     "data": {
      "image/png": "[encoded data removed]",
      "text/plain": [
       "<Figure size 1080x864 with 9 Axes>"
      ]
     },
     "metadata": {},
     "output_type": "display_data"
    }
   ],
   "source": [
    "services = ['PhoneService','MultipleLines','InternetService','OnlineSecurity',\n",
    "           'OnlineBackup','DeviceProtection','TechSupport','StreamingTV','StreamingMovies']\n",
    "\n",
    "fig, axes = plt.subplots(nrows = 3,ncols = 3,figsize = (15,12))\n",
    "for i, item in enumerate(services):\n",
    "    if i < 3:\n",
    "        ax = churn_df[item].value_counts().plot(kind = 'bar',ax=axes[i,0],rot = 0)\n",
    "        \n",
    "    elif i >=3 and i < 6:\n",
    "        ax = churn_df[item].value_counts().plot(kind = 'bar',ax=axes[i-3,1],rot = 0)\n",
    "        \n",
    "    elif i < 9:\n",
    "        ax = churn_df[item].value_counts().plot(kind = 'bar',ax=axes[i-6,2],rot = 0)\n",
    "    ax.set_title(item)"
   ]
  },
  {
   "cell_type": "markdown",
   "metadata": {},
   "source": [
    "### Relation between monthly and total charges"
   ]
  },
  {
   "cell_type": "code",
   "execution_count": 29,
   "metadata": {},
   "outputs": [
    {
     "name": "stderr",
     "output_type": "stream",
     "text": [
      "*c* argument looks like a single numeric RGB or RGBA sequence, which should be avoided as value-mapping will have precedence in case its length matches with *x* & *y*.  Please use the *color* keyword-argument or provide a 2-D array with a single row if you intend to specify the same RGB or RGBA value for all points.\n"
     ]
    },
    {
     "data": {
      "text/plain": [
       "<AxesSubplot:xlabel='MonthlyCharges', ylabel='TotalCharges'>"
      ]
     },
     "execution_count": 29,
     "metadata": {},
     "output_type": "execute_result"
    },
    {
     "data": {
      "image/png": "[encoded data removed]",
      "text/plain": [
       "<Figure size 432x288 with 1 Axes>"
      ]
     },
     "metadata": {},
     "output_type": "display_data"
    }
   ],
   "source": [
    "churn_df[['MonthlyCharges', 'TotalCharges']].plot.scatter(x = 'MonthlyCharges',\n",
    "                                                              y='TotalCharges')"
   ]
  },
  {
   "cell_type": "markdown",
   "metadata": {},
   "source": [
    "We will observe that the total charges increases as the monthly bill for a customer increases."
   ]
  },
  {
   "cell_type": "markdown",
   "metadata": {},
   "source": [
    "## Churn Rate"
   ]
  },
  {
   "cell_type": "code",
   "execution_count": 30,
   "metadata": {},
   "outputs": [
    {
     "data": {
      "image/png": "[encoded data removed]",
      "text/plain": [
       "<Figure size 576x432 with 1 Axes>"
      ]
     },
     "metadata": {},
     "output_type": "display_data"
    }
   ],
   "source": [
    "colors = ['#4D3425','#E4512B']\n",
    "ax = (churn_df['Churn'].value_counts()*100.0 /len(churn_df)).plot(kind='bar',\n",
    "                                                                      stacked = True,\n",
    "                                                                      rot = 0,\n",
    "                                                                      color = colors,\n",
    "                                                                      figsize = (8,6))\n",
    "ax.yaxis.set_major_formatter(mtick.PercentFormatter())\n",
    "ax.set_ylabel('% Customers',size = 14)\n",
    "ax.set_xlabel('Churn',size = 14)\n",
    "ax.set_title('Churn Rate', size = 14)\n",
    "\n",
    "# create a list to collect the plt.patches data\n",
    "totals = []\n",
    "\n",
    "# find the values and append to list\n",
    "for i in ax.patches:\n",
    "    totals.append(i.get_width())\n",
    "\n",
    "# set individual bar lables using above list\n",
    "total = sum(totals)\n",
    "\n",
    "for i in ax.patches:\n",
    "    # get_width pulls left or right; get_y pushes up or down\n",
    "    ax.text(i.get_x()+.15, i.get_height()-4.0, \\\n",
    "            str(round((i.get_height()/total), 1))+'%',\n",
    "            fontsize=12,\n",
    "            color='white',\n",
    "            weight = 'bold',\n",
    "            size = 14)"
   ]
  },
  {
   "cell_type": "markdown",
   "metadata": {},
   "source": [
    "In our data, 74% of the customers do not churn. Clearly the data is skewed as we would expect a large majority of the customers to not churn. This is important to keep in mind for our modelling as skeweness could lead to a lot of false negatives. We will see in the modelling section on how to avoid skewness in the data."
   ]
  },
  {
   "cell_type": "markdown",
   "metadata": {},
   "source": [
    "## Correlations in the data"
   ]
  },
  {
   "cell_type": "code",
   "execution_count": 31,
   "metadata": {},
   "outputs": [
    {
     "data": {
      "text/html": [
       "<div>\n",
       "<style scoped>\n",
       "    .dataframe tbody tr th:only-of-type {\n",
       "        vertical-align: middle;\n",
       "    }\n",
       "\n",
       "    .dataframe tbody tr th {\n",
       "        vertical-align: top;\n",
       "    }\n",
       "\n",
       "    .dataframe thead th {\n",
       "        text-align: right;\n",
       "    }\n",
       "</style>\n",
       "<table border=\"1\" class=\"dataframe\">\n",
       "  <thead>\n",
       "    <tr style=\"text-align: right;\">\n",
       "      <th></th>\n",
       "      <th>tenure</th>\n",
       "      <th>MonthlyCharges</th>\n",
       "      <th>TotalCharges</th>\n",
       "      <th>Churn</th>\n",
       "    </tr>\n",
       "  </thead>\n",
       "  <tbody>\n",
       "    <tr>\n",
       "      <th>tenure</th>\n",
       "      <td>1.000000</td>\n",
       "      <td>0.247900</td>\n",
       "      <td>0.826178</td>\n",
       "      <td>-0.352229</td>\n",
       "    </tr>\n",
       "    <tr>\n",
       "      <th>MonthlyCharges</th>\n",
       "      <td>0.247900</td>\n",
       "      <td>1.000000</td>\n",
       "      <td>0.651174</td>\n",
       "      <td>0.193356</td>\n",
       "    </tr>\n",
       "    <tr>\n",
       "      <th>TotalCharges</th>\n",
       "      <td>0.826178</td>\n",
       "      <td>0.651174</td>\n",
       "      <td>1.000000</td>\n",
       "      <td>-0.198324</td>\n",
       "    </tr>\n",
       "    <tr>\n",
       "      <th>Churn</th>\n",
       "      <td>-0.352229</td>\n",
       "      <td>0.193356</td>\n",
       "      <td>-0.198324</td>\n",
       "      <td>1.000000</td>\n",
       "    </tr>\n",
       "  </tbody>\n",
       "</table>\n",
       "</div>"
      ],
      "text/plain": [
       "                  tenure  MonthlyCharges  TotalCharges     Churn\n",
       "tenure          1.000000        0.247900      0.826178 -0.352229\n",
       "MonthlyCharges  0.247900        1.000000      0.651174  0.193356\n",
       "TotalCharges    0.826178        0.651174      1.000000 -0.198324\n",
       "Churn          -0.352229        0.193356     -0.198324  1.000000"
      ]
     },
     "execution_count": 31,
     "metadata": {},
     "output_type": "execute_result"
    }
   ],
   "source": [
    "corr = churn_df.corr()\n",
    "corr"
   ]
  },
  {
   "cell_type": "code",
   "execution_count": 32,
   "metadata": {},
   "outputs": [
    {
     "data": {
      "text/plain": [
       "<AxesSubplot:>"
      ]
     },
     "execution_count": 32,
     "metadata": {},
     "output_type": "execute_result"
    },
    {
     "data": {
      "image/png": "[encoded data removed]",
      "text/plain": [
       "<Figure size 432x288 with 2 Axes>"
      ]
     },
     "metadata": {},
     "output_type": "display_data"
    }
   ],
   "source": [
    "sns.heatmap(corr, xticklabels=corr.columns.values, yticklabels=corr.columns.values,  vmax=.3, center=0,\n",
    "            square=True, linewidths=.5, annot=True, fmt='.2f', cmap='coolwarm')"
   ]
  },
  {
   "cell_type": "code",
   "execution_count": 33,
   "metadata": {},
   "outputs": [],
   "source": [
    "from dython.nominal import associations"
   ]
  },
  {
   "cell_type": "code",
   "execution_count": 34,
   "metadata": {},
   "outputs": [
    {
     "data": {
      "image/png": "[encoded data removed]",
      "text/plain": [
       "<Figure size 1512x864 with 2 Axes>"
      ]
     },
     "metadata": {},
     "output_type": "display_data"
    }
   ],
   "source": [
    "assc = associations(churn_df, figsize=(21, 12))"
   ]
  },
  {
   "cell_type": "code",
   "execution_count": 35,
   "metadata": {},
   "outputs": [],
   "source": [
    "# corr_df = pd.DataFrame(assc['corr'])\n",
    "# corr_df"
   ]
  },
  {
   "cell_type": "markdown",
   "metadata": {},
   "source": [
    "### Selecting relevant features from the correlation data"
   ]
  },
  {
   "cell_type": "code",
   "execution_count": 36,
   "metadata": {},
   "outputs": [],
   "source": [
    "selected_features = ['gender', 'SeniorCitizen', 'Partner', 'Dependents', 'Contract',  'MultipleLines','PaperlessBilling', 'PaymentMethod','TotalCharges', 'MonthlyCharges']"
   ]
  },
  {
   "cell_type": "markdown",
   "metadata": {},
   "source": [
    "To select features I manually inspected the <b>pairwise correlations</b> and <b>correlations with the dependent variable</b>. For <b>pairwise corrections</b> I was looking at features that have a <code>correlation > 0.5</code> then between the 2 I picked the column with a greater correlation with the dependent variable <code>Churn</code>. If a feature did not have a correlation greater than <code>0.5</code> with any other feature I was picking it. "
   ]
  },
  {
   "cell_type": "markdown",
   "metadata": {},
   "source": [
    "# Formatting the data for the model: Splitting the data into dependent and independent variables and One Hot Encoding"
   ]
  },
  {
   "cell_type": "markdown",
   "metadata": {},
   "source": [
    "We want to predict <code>Churn</code> hence that will be our <b>y</b>.<br>\n",
    "All the other columns are the features and will be our <b>X</b>."
   ]
  },
  {
   "cell_type": "code",
   "execution_count": 37,
   "metadata": {},
   "outputs": [
    {
     "data": {
      "text/html": [
       "<div>\n",
       "<style scoped>\n",
       "    .dataframe tbody tr th:only-of-type {\n",
       "        vertical-align: middle;\n",
       "    }\n",
       "\n",
       "    .dataframe tbody tr th {\n",
       "        vertical-align: top;\n",
       "    }\n",
       "\n",
       "    .dataframe thead th {\n",
       "        text-align: right;\n",
       "    }\n",
       "</style>\n",
       "<table border=\"1\" class=\"dataframe\">\n",
       "  <thead>\n",
       "    <tr style=\"text-align: right;\">\n",
       "      <th></th>\n",
       "      <th>gender</th>\n",
       "      <th>SeniorCitizen</th>\n",
       "      <th>Partner</th>\n",
       "      <th>Dependents</th>\n",
       "      <th>Contract</th>\n",
       "      <th>MultipleLines</th>\n",
       "      <th>PaperlessBilling</th>\n",
       "      <th>PaymentMethod</th>\n",
       "      <th>TotalCharges</th>\n",
       "      <th>MonthlyCharges</th>\n",
       "    </tr>\n",
       "  </thead>\n",
       "  <tbody>\n",
       "    <tr>\n",
       "      <th>0</th>\n",
       "      <td>Female</td>\n",
       "      <td>No</td>\n",
       "      <td>Yes</td>\n",
       "      <td>No</td>\n",
       "      <td>Month-to-month</td>\n",
       "      <td>No_phone_service</td>\n",
       "      <td>Yes</td>\n",
       "      <td>Electronic_check</td>\n",
       "      <td>29.85</td>\n",
       "      <td>29.85</td>\n",
       "    </tr>\n",
       "    <tr>\n",
       "      <th>1</th>\n",
       "      <td>Male</td>\n",
       "      <td>No</td>\n",
       "      <td>No</td>\n",
       "      <td>No</td>\n",
       "      <td>One_year</td>\n",
       "      <td>No</td>\n",
       "      <td>No</td>\n",
       "      <td>Mailed_check</td>\n",
       "      <td>1889.50</td>\n",
       "      <td>56.95</td>\n",
       "    </tr>\n",
       "    <tr>\n",
       "      <th>2</th>\n",
       "      <td>Male</td>\n",
       "      <td>No</td>\n",
       "      <td>No</td>\n",
       "      <td>No</td>\n",
       "      <td>Month-to-month</td>\n",
       "      <td>No</td>\n",
       "      <td>Yes</td>\n",
       "      <td>Mailed_check</td>\n",
       "      <td>108.15</td>\n",
       "      <td>53.85</td>\n",
       "    </tr>\n",
       "    <tr>\n",
       "      <th>3</th>\n",
       "      <td>Male</td>\n",
       "      <td>No</td>\n",
       "      <td>No</td>\n",
       "      <td>No</td>\n",
       "      <td>One_year</td>\n",
       "      <td>No_phone_service</td>\n",
       "      <td>No</td>\n",
       "      <td>Bank_transfer_(automatic)</td>\n",
       "      <td>1840.75</td>\n",
       "      <td>42.30</td>\n",
       "    </tr>\n",
       "    <tr>\n",
       "      <th>4</th>\n",
       "      <td>Female</td>\n",
       "      <td>No</td>\n",
       "      <td>No</td>\n",
       "      <td>No</td>\n",
       "      <td>Month-to-month</td>\n",
       "      <td>No</td>\n",
       "      <td>Yes</td>\n",
       "      <td>Electronic_check</td>\n",
       "      <td>151.65</td>\n",
       "      <td>70.70</td>\n",
       "    </tr>\n",
       "  </tbody>\n",
       "</table>\n",
       "</div>"
      ],
      "text/plain": [
       "   gender SeniorCitizen Partner Dependents        Contract     MultipleLines  \\\n",
       "0  Female            No     Yes         No  Month-to-month  No_phone_service   \n",
       "1    Male            No      No         No        One_year                No   \n",
       "2    Male            No      No         No  Month-to-month                No   \n",
       "3    Male            No      No         No        One_year  No_phone_service   \n",
       "4  Female            No      No         No  Month-to-month                No   \n",
       "\n",
       "  PaperlessBilling              PaymentMethod  TotalCharges  MonthlyCharges  \n",
       "0              Yes           Electronic_check         29.85           29.85  \n",
       "1               No               Mailed_check       1889.50           56.95  \n",
       "2              Yes               Mailed_check        108.15           53.85  \n",
       "3               No  Bank_transfer_(automatic)       1840.75           42.30  \n",
       "4              Yes           Electronic_check        151.65           70.70  "
      ]
     },
     "execution_count": 37,
     "metadata": {},
     "output_type": "execute_result"
    }
   ],
   "source": [
    "# X = churn_df.drop(columns=['Churn']).copy()\n",
    "X = churn_df.loc[:, selected_features].copy()\n",
    "X.head()"
   ]
  },
  {
   "cell_type": "code",
   "execution_count": 38,
   "metadata": {},
   "outputs": [
    {
     "data": {
      "text/plain": [
       "0    0\n",
       "1    0\n",
       "2    1\n",
       "3    0\n",
       "4    1\n",
       "Name: Churn, dtype: int64"
      ]
     },
     "execution_count": 38,
     "metadata": {},
     "output_type": "execute_result"
    }
   ],
   "source": [
    "y = churn_df.Churn.copy()\n",
    "y.head()"
   ]
  },
  {
   "cell_type": "markdown",
   "metadata": {},
   "source": [
    "In the code above we are using the <code>copy()</code> to copy the data by value not the default behavior of pandas to copy the data by reference. <br>\n",
    "Using <code>copy()</code> ensures that the original data is not modified when we modify <code>X</code> and <code>y</code>."
   ]
  },
  {
   "cell_type": "markdown",
   "metadata": {},
   "source": [
    "### One Hot Encoding"
   ]
  },
  {
   "cell_type": "markdown",
   "metadata": {},
   "source": [
    "Some variables in <b>X</b> are categorical and need to be encoded into numbers.<br>\n",
    "<ul>\n",
    "    <li>gender - Category</li>\n",
    "    <li>SeniorCitizen - Category</li>\n",
    "    <li>Partner - Category</li>\n",
    "    <li>Dependants - Category</li>\n",
    "    <li>tenure - Integer</li>\n",
    "    <li>PhoneService - Category</li>\n",
    "    <li>MultipleLines - Category</li>\n",
    "    <li>InternetService - Category</li>\n",
    "    <li>OnlineSecurity - Category</li>\n",
    "    <li>OnlineBackup - Category</li>\n",
    "    <li>DeviceProtection - Category</li>\n",
    "    <li>TechSupport - Category</li>\n",
    "    <li>StreamingTV - Category</li>\n",
    "    <li>StreamingMovies - Category</li>\n",
    "    <li>Contract - Category</li>\n",
    "    <li>PaperlessBilling - Category</li>\n",
    "    <li>PaymentMethod - Category</li>\n",
    "    <li>MonthlyCharges - Float</li>\n",
    "    <li>TotalCharges - Float</li>\n",
    "</ul>"
   ]
  },
  {
   "cell_type": "code",
   "execution_count": 39,
   "metadata": {},
   "outputs": [
    {
     "data": {
      "text/plain": [
       "gender               object\n",
       "SeniorCitizen        object\n",
       "Partner              object\n",
       "Dependents           object\n",
       "Contract             object\n",
       "MultipleLines        object\n",
       "PaperlessBilling     object\n",
       "PaymentMethod        object\n",
       "TotalCharges        float64\n",
       "MonthlyCharges      float64\n",
       "dtype: object"
      ]
     },
     "execution_count": 39,
     "metadata": {},
     "output_type": "execute_result"
    }
   ],
   "source": [
    "X.dtypes"
   ]
  },
  {
   "cell_type": "code",
   "execution_count": 40,
   "metadata": {},
   "outputs": [],
   "source": [
    "# X_encoded = pd.get_dummies(X, columns=['gender', 'SeniorCitizen', 'Partner', 'Dependents', 'PhoneService', 'MultipleLines',\n",
    "#                                         'InternetService', 'OnlineSecurity', 'OnlineBackup', 'DeviceProtection', 'TechSupport',\n",
    "#                                         'StreamingTV', 'StreamingMovies', 'Contract', 'PaperlessBilling', 'PaymentMethod'])\n",
    "\n",
    "categories = ['gender', 'SeniorCitizen', 'Partner', 'Dependents', 'Contract', 'PaperlessBilling', 'PaymentMethod', 'MultipleLines']\n",
    "X_encoded = pd.get_dummies(X, columns=categories)\n",
    "\n",
    "# from sklearn.compose import ColumnTransformer\n",
    "\n",
    "# categories = ['gender', 'SeniorCitizen', 'Partner', 'Dependents', 'Contract', 'PaperlessBilling', 'PaymentMethod', 'MultipleLines']\n",
    "# transformer = ColumnTransformer(transformers=[('cat', OneHotEncoder(), categories)], remainder='passthrough')\n",
    "# X_encoded = transformer.fit_transform(X)\n",
    "# type(X_encoded)"
   ]
  },
  {
   "cell_type": "code",
   "execution_count": 41,
   "metadata": {},
   "outputs": [
    {
     "data": {
      "text/html": [
       "<div>\n",
       "<style scoped>\n",
       "    .dataframe tbody tr th:only-of-type {\n",
       "        vertical-align: middle;\n",
       "    }\n",
       "\n",
       "    .dataframe tbody tr th {\n",
       "        vertical-align: top;\n",
       "    }\n",
       "\n",
       "    .dataframe thead th {\n",
       "        text-align: right;\n",
       "    }\n",
       "</style>\n",
       "<table border=\"1\" class=\"dataframe\">\n",
       "  <thead>\n",
       "    <tr style=\"text-align: right;\">\n",
       "      <th></th>\n",
       "      <th>TotalCharges</th>\n",
       "      <th>MonthlyCharges</th>\n",
       "      <th>gender_Female</th>\n",
       "      <th>gender_Male</th>\n",
       "      <th>SeniorCitizen_No</th>\n",
       "      <th>SeniorCitizen_Yes</th>\n",
       "      <th>Partner_No</th>\n",
       "      <th>Partner_Yes</th>\n",
       "      <th>Dependents_No</th>\n",
       "      <th>Dependents_Yes</th>\n",
       "      <th>...</th>\n",
       "      <th>Contract_Two_year</th>\n",
       "      <th>PaperlessBilling_No</th>\n",
       "      <th>PaperlessBilling_Yes</th>\n",
       "      <th>PaymentMethod_Bank_transfer_(automatic)</th>\n",
       "      <th>PaymentMethod_Credit_card_(automatic)</th>\n",
       "      <th>PaymentMethod_Electronic_check</th>\n",
       "      <th>PaymentMethod_Mailed_check</th>\n",
       "      <th>MultipleLines_No</th>\n",
       "      <th>MultipleLines_No_phone_service</th>\n",
       "      <th>MultipleLines_Yes</th>\n",
       "    </tr>\n",
       "  </thead>\n",
       "  <tbody>\n",
       "    <tr>\n",
       "      <th>0</th>\n",
       "      <td>29.85</td>\n",
       "      <td>29.85</td>\n",
       "      <td>1</td>\n",
       "      <td>0</td>\n",
       "      <td>1</td>\n",
       "      <td>0</td>\n",
       "      <td>0</td>\n",
       "      <td>1</td>\n",
       "      <td>1</td>\n",
       "      <td>0</td>\n",
       "      <td>...</td>\n",
       "      <td>0</td>\n",
       "      <td>0</td>\n",
       "      <td>1</td>\n",
       "      <td>0</td>\n",
       "      <td>0</td>\n",
       "      <td>1</td>\n",
       "      <td>0</td>\n",
       "      <td>0</td>\n",
       "      <td>1</td>\n",
       "      <td>0</td>\n",
       "    </tr>\n",
       "    <tr>\n",
       "      <th>1</th>\n",
       "      <td>1889.50</td>\n",
       "      <td>56.95</td>\n",
       "      <td>0</td>\n",
       "      <td>1</td>\n",
       "      <td>1</td>\n",
       "      <td>0</td>\n",
       "      <td>1</td>\n",
       "      <td>0</td>\n",
       "      <td>1</td>\n",
       "      <td>0</td>\n",
       "      <td>...</td>\n",
       "      <td>0</td>\n",
       "      <td>1</td>\n",
       "      <td>0</td>\n",
       "      <td>0</td>\n",
       "      <td>0</td>\n",
       "      <td>0</td>\n",
       "      <td>1</td>\n",
       "      <td>1</td>\n",
       "      <td>0</td>\n",
       "      <td>0</td>\n",
       "    </tr>\n",
       "    <tr>\n",
       "      <th>2</th>\n",
       "      <td>108.15</td>\n",
       "      <td>53.85</td>\n",
       "      <td>0</td>\n",
       "      <td>1</td>\n",
       "      <td>1</td>\n",
       "      <td>0</td>\n",
       "      <td>1</td>\n",
       "      <td>0</td>\n",
       "      <td>1</td>\n",
       "      <td>0</td>\n",
       "      <td>...</td>\n",
       "      <td>0</td>\n",
       "      <td>0</td>\n",
       "      <td>1</td>\n",
       "      <td>0</td>\n",
       "      <td>0</td>\n",
       "      <td>0</td>\n",
       "      <td>1</td>\n",
       "      <td>1</td>\n",
       "      <td>0</td>\n",
       "      <td>0</td>\n",
       "    </tr>\n",
       "    <tr>\n",
       "      <th>3</th>\n",
       "      <td>1840.75</td>\n",
       "      <td>42.30</td>\n",
       "      <td>0</td>\n",
       "      <td>1</td>\n",
       "      <td>1</td>\n",
       "      <td>0</td>\n",
       "      <td>1</td>\n",
       "      <td>0</td>\n",
       "      <td>1</td>\n",
       "      <td>0</td>\n",
       "      <td>...</td>\n",
       "      <td>0</td>\n",
       "      <td>1</td>\n",
       "      <td>0</td>\n",
       "      <td>1</td>\n",
       "      <td>0</td>\n",
       "      <td>0</td>\n",
       "      <td>0</td>\n",
       "      <td>0</td>\n",
       "      <td>1</td>\n",
       "      <td>0</td>\n",
       "    </tr>\n",
       "    <tr>\n",
       "      <th>4</th>\n",
       "      <td>151.65</td>\n",
       "      <td>70.70</td>\n",
       "      <td>1</td>\n",
       "      <td>0</td>\n",
       "      <td>1</td>\n",
       "      <td>0</td>\n",
       "      <td>1</td>\n",
       "      <td>0</td>\n",
       "      <td>1</td>\n",
       "      <td>0</td>\n",
       "      <td>...</td>\n",
       "      <td>0</td>\n",
       "      <td>0</td>\n",
       "      <td>1</td>\n",
       "      <td>0</td>\n",
       "      <td>0</td>\n",
       "      <td>1</td>\n",
       "      <td>0</td>\n",
       "      <td>1</td>\n",
       "      <td>0</td>\n",
       "      <td>0</td>\n",
       "    </tr>\n",
       "    <tr>\n",
       "      <th>...</th>\n",
       "      <td>...</td>\n",
       "      <td>...</td>\n",
       "      <td>...</td>\n",
       "      <td>...</td>\n",
       "      <td>...</td>\n",
       "      <td>...</td>\n",
       "      <td>...</td>\n",
       "      <td>...</td>\n",
       "      <td>...</td>\n",
       "      <td>...</td>\n",
       "      <td>...</td>\n",
       "      <td>...</td>\n",
       "      <td>...</td>\n",
       "      <td>...</td>\n",
       "      <td>...</td>\n",
       "      <td>...</td>\n",
       "      <td>...</td>\n",
       "      <td>...</td>\n",
       "      <td>...</td>\n",
       "      <td>...</td>\n",
       "      <td>...</td>\n",
       "    </tr>\n",
       "    <tr>\n",
       "      <th>7038</th>\n",
       "      <td>1990.50</td>\n",
       "      <td>84.80</td>\n",
       "      <td>0</td>\n",
       "      <td>1</td>\n",
       "      <td>1</td>\n",
       "      <td>0</td>\n",
       "      <td>0</td>\n",
       "      <td>1</td>\n",
       "      <td>0</td>\n",
       "      <td>1</td>\n",
       "      <td>...</td>\n",
       "      <td>0</td>\n",
       "      <td>0</td>\n",
       "      <td>1</td>\n",
       "      <td>0</td>\n",
       "      <td>0</td>\n",
       "      <td>0</td>\n",
       "      <td>1</td>\n",
       "      <td>0</td>\n",
       "      <td>0</td>\n",
       "      <td>1</td>\n",
       "    </tr>\n",
       "    <tr>\n",
       "      <th>7039</th>\n",
       "      <td>7362.90</td>\n",
       "      <td>103.20</td>\n",
       "      <td>1</td>\n",
       "      <td>0</td>\n",
       "      <td>1</td>\n",
       "      <td>0</td>\n",
       "      <td>0</td>\n",
       "      <td>1</td>\n",
       "      <td>0</td>\n",
       "      <td>1</td>\n",
       "      <td>...</td>\n",
       "      <td>0</td>\n",
       "      <td>0</td>\n",
       "      <td>1</td>\n",
       "      <td>0</td>\n",
       "      <td>1</td>\n",
       "      <td>0</td>\n",
       "      <td>0</td>\n",
       "      <td>0</td>\n",
       "      <td>0</td>\n",
       "      <td>1</td>\n",
       "    </tr>\n",
       "    <tr>\n",
       "      <th>7040</th>\n",
       "      <td>346.45</td>\n",
       "      <td>29.60</td>\n",
       "      <td>1</td>\n",
       "      <td>0</td>\n",
       "      <td>1</td>\n",
       "      <td>0</td>\n",
       "      <td>0</td>\n",
       "      <td>1</td>\n",
       "      <td>0</td>\n",
       "      <td>1</td>\n",
       "      <td>...</td>\n",
       "      <td>0</td>\n",
       "      <td>0</td>\n",
       "      <td>1</td>\n",
       "      <td>0</td>\n",
       "      <td>0</td>\n",
       "      <td>1</td>\n",
       "      <td>0</td>\n",
       "      <td>0</td>\n",
       "      <td>1</td>\n",
       "      <td>0</td>\n",
       "    </tr>\n",
       "    <tr>\n",
       "      <th>7041</th>\n",
       "      <td>306.60</td>\n",
       "      <td>74.40</td>\n",
       "      <td>0</td>\n",
       "      <td>1</td>\n",
       "      <td>0</td>\n",
       "      <td>1</td>\n",
       "      <td>0</td>\n",
       "      <td>1</td>\n",
       "      <td>1</td>\n",
       "      <td>0</td>\n",
       "      <td>...</td>\n",
       "      <td>0</td>\n",
       "      <td>0</td>\n",
       "      <td>1</td>\n",
       "      <td>0</td>\n",
       "      <td>0</td>\n",
       "      <td>0</td>\n",
       "      <td>1</td>\n",
       "      <td>0</td>\n",
       "      <td>0</td>\n",
       "      <td>1</td>\n",
       "    </tr>\n",
       "    <tr>\n",
       "      <th>7042</th>\n",
       "      <td>6844.50</td>\n",
       "      <td>105.65</td>\n",
       "      <td>0</td>\n",
       "      <td>1</td>\n",
       "      <td>1</td>\n",
       "      <td>0</td>\n",
       "      <td>1</td>\n",
       "      <td>0</td>\n",
       "      <td>1</td>\n",
       "      <td>0</td>\n",
       "      <td>...</td>\n",
       "      <td>1</td>\n",
       "      <td>0</td>\n",
       "      <td>1</td>\n",
       "      <td>1</td>\n",
       "      <td>0</td>\n",
       "      <td>0</td>\n",
       "      <td>0</td>\n",
       "      <td>1</td>\n",
       "      <td>0</td>\n",
       "      <td>0</td>\n",
       "    </tr>\n",
       "  </tbody>\n",
       "</table>\n",
       "<p>7043 rows × 22 columns</p>\n",
       "</div>"
      ],
      "text/plain": [
       "      TotalCharges  MonthlyCharges  gender_Female  gender_Male  \\\n",
       "0            29.85           29.85              1            0   \n",
       "1          1889.50           56.95              0            1   \n",
       "2           108.15           53.85              0            1   \n",
       "3          1840.75           42.30              0            1   \n",
       "4           151.65           70.70              1            0   \n",
       "...            ...             ...            ...          ...   \n",
       "7038       1990.50           84.80              0            1   \n",
       "7039       7362.90          103.20              1            0   \n",
       "7040        346.45           29.60              1            0   \n",
       "7041        306.60           74.40              0            1   \n",
       "7042       6844.50          105.65              0            1   \n",
       "\n",
       "      SeniorCitizen_No  SeniorCitizen_Yes  Partner_No  Partner_Yes  \\\n",
       "0                    1                  0           0            1   \n",
       "1                    1                  0           1            0   \n",
       "2                    1                  0           1            0   \n",
       "3                    1                  0           1            0   \n",
       "4                    1                  0           1            0   \n",
       "...                ...                ...         ...          ...   \n",
       "7038                 1                  0           0            1   \n",
       "7039                 1                  0           0            1   \n",
       "7040                 1                  0           0            1   \n",
       "7041                 0                  1           0            1   \n",
       "7042                 1                  0           1            0   \n",
       "\n",
       "      Dependents_No  Dependents_Yes  ...  Contract_Two_year  \\\n",
       "0                 1               0  ...                  0   \n",
       "1                 1               0  ...                  0   \n",
       "2                 1               0  ...                  0   \n",
       "3                 1               0  ...                  0   \n",
       "4                 1               0  ...                  0   \n",
       "...             ...             ...  ...                ...   \n",
       "7038              0               1  ...                  0   \n",
       "7039              0               1  ...                  0   \n",
       "7040              0               1  ...                  0   \n",
       "7041              1               0  ...                  0   \n",
       "7042              1               0  ...                  1   \n",
       "\n",
       "      PaperlessBilling_No  PaperlessBilling_Yes  \\\n",
       "0                       0                     1   \n",
       "1                       1                     0   \n",
       "2                       0                     1   \n",
       "3                       1                     0   \n",
       "4                       0                     1   \n",
       "...                   ...                   ...   \n",
       "7038                    0                     1   \n",
       "7039                    0                     1   \n",
       "7040                    0                     1   \n",
       "7041                    0                     1   \n",
       "7042                    0                     1   \n",
       "\n",
       "      PaymentMethod_Bank_transfer_(automatic)  \\\n",
       "0                                           0   \n",
       "1                                           0   \n",
       "2                                           0   \n",
       "3                                           1   \n",
       "4                                           0   \n",
       "...                                       ...   \n",
       "7038                                        0   \n",
       "7039                                        0   \n",
       "7040                                        0   \n",
       "7041                                        0   \n",
       "7042                                        1   \n",
       "\n",
       "      PaymentMethod_Credit_card_(automatic)  PaymentMethod_Electronic_check  \\\n",
       "0                                         0                               1   \n",
       "1                                         0                               0   \n",
       "2                                         0                               0   \n",
       "3                                         0                               0   \n",
       "4                                         0                               1   \n",
       "...                                     ...                             ...   \n",
       "7038                                      0                               0   \n",
       "7039                                      1                               0   \n",
       "7040                                      0                               1   \n",
       "7041                                      0                               0   \n",
       "7042                                      0                               0   \n",
       "\n",
       "      PaymentMethod_Mailed_check  MultipleLines_No  \\\n",
       "0                              0                 0   \n",
       "1                              1                 1   \n",
       "2                              1                 1   \n",
       "3                              0                 0   \n",
       "4                              0                 1   \n",
       "...                          ...               ...   \n",
       "7038                           1                 0   \n",
       "7039                           0                 0   \n",
       "7040                           0                 0   \n",
       "7041                           1                 0   \n",
       "7042                           0                 1   \n",
       "\n",
       "      MultipleLines_No_phone_service  MultipleLines_Yes  \n",
       "0                                  1                  0  \n",
       "1                                  0                  0  \n",
       "2                                  0                  0  \n",
       "3                                  1                  0  \n",
       "4                                  0                  0  \n",
       "...                              ...                ...  \n",
       "7038                               0                  1  \n",
       "7039                               0                  1  \n",
       "7040                               1                  0  \n",
       "7041                               0                  1  \n",
       "7042                               0                  0  \n",
       "\n",
       "[7043 rows x 22 columns]"
      ]
     },
     "execution_count": 41,
     "metadata": {},
     "output_type": "execute_result"
    }
   ],
   "source": [
    "X_encoded"
   ]
  },
  {
   "cell_type": "code",
   "execution_count": 42,
   "metadata": {},
   "outputs": [
    {
     "data": {
      "text/plain": [
       "array([0, 1], dtype=int64)"
      ]
     },
     "execution_count": 42,
     "metadata": {},
     "output_type": "execute_result"
    }
   ],
   "source": [
    "y.unique()"
   ]
  },
  {
   "cell_type": "markdown",
   "metadata": {},
   "source": [
    "# Building An Initial XGBoost Model"
   ]
  },
  {
   "cell_type": "markdown",
   "metadata": {},
   "source": [
    "Now the data is correctly formatted for making an <b>XGBoost</b> model. Lets split the data into training and test sets"
   ]
  },
  {
   "cell_type": "markdown",
   "metadata": {},
   "source": [
    "### Checking for data imbalance"
   ]
  },
  {
   "cell_type": "code",
   "execution_count": 43,
   "metadata": {},
   "outputs": [
    {
     "data": {
      "text/plain": [
       "0.2653698707936959"
      ]
     },
     "execution_count": 43,
     "metadata": {},
     "output_type": "execute_result"
    }
   ],
   "source": [
    "percentage_left = sum(y) / len(y)\n",
    "percentage_left"
   ]
  },
  {
   "cell_type": "markdown",
   "metadata": {},
   "source": [
    "We can see that only <b>27%</b> of the people in the dataset left the company. Because of this when we split into\n",
    "training and testing, we will split using stratification in order to maintain the same percentage of people who left the companhy in both the <b>training</b> set and the <b>test</b> set."
   ]
  },
  {
   "cell_type": "code",
   "execution_count": 44,
   "metadata": {},
   "outputs": [],
   "source": [
    "X_train, X_test, y_train, y_test = train_test_split(X_encoded, y, random_state=42, stratify=y)"
   ]
  },
  {
   "cell_type": "markdown",
   "metadata": {},
   "source": [
    "Lets verify that the stratification process actually worked and we have the same amount of people who left the company in both the training set and the test set."
   ]
  },
  {
   "cell_type": "code",
   "execution_count": 45,
   "metadata": {},
   "outputs": [
    {
     "data": {
      "text/plain": [
       "0.2654297614539947"
      ]
     },
     "execution_count": 45,
     "metadata": {},
     "output_type": "execute_result"
    }
   ],
   "source": [
    "sum(y_train)/len(y_train)"
   ]
  },
  {
   "cell_type": "code",
   "execution_count": 46,
   "metadata": {},
   "outputs": [
    {
     "data": {
      "text/plain": [
       "0.26519023282226006"
      ]
     },
     "execution_count": 46,
     "metadata": {},
     "output_type": "execute_result"
    }
   ],
   "source": [
    "sum(y_test)/len(y_test)"
   ]
  },
  {
   "cell_type": "markdown",
   "metadata": {},
   "source": [
    "Both <code>y_test</code> and <code>y_train</code> have approximately <b>27%</b> of customers who left hence <code>stratify</code> worked."
   ]
  },
  {
   "cell_type": "markdown",
   "metadata": {},
   "source": [
    "### Evaluation functions"
   ]
  },
  {
   "cell_type": "code",
   "execution_count": 47,
   "metadata": {},
   "outputs": [],
   "source": [
    "import scikitplot as skplt\n",
    "from sklearn.metrics import roc_curve\n",
    "from sklearn.metrics import precision_recall_fscore_support"
   ]
  },
  {
   "cell_type": "code",
   "execution_count": 48,
   "metadata": {},
   "outputs": [],
   "source": [
    "def print_evaluation_metric (y_true, y_pred):\n",
    "    #\n",
    "    # Function to print out the model evaluation metrics\n",
    "    # Args:\n",
    "    #   y_true: array of y true label\n",
    "    #   y_pred: array of y predicted class\n",
    "    #\n",
    "    # Return:\n",
    "    #   None\n",
    "    #\n",
    "    precision, recall, fscore, support = precision_recall_fscore_support(y_true, y_pred)\n",
    "    print(\"Precision: {}\".format(precision))\n",
    "    print(\"Recall: {}\".format(recall))\n",
    "    print(\"F-score: {}\".format(fscore))\n",
    "    print(\"Support: {}\".format(support))\n",
    "    return \n",
    "\n",
    "def plot_roc_curve (y_true, y_prob, filename=\"img.png\", dpi = 200):\n",
    "    #\n",
    "    # Function to plot the ROC curve by computing fpr and tpr as well as save the plot to file\n",
    "    # Args:\n",
    "    #   y_true: array of y true label\n",
    "    #   y_prob: the output of y probability prediction (outcome for predict_proba() function)\n",
    "    #   filename: the name of the file to be saved\n",
    "    #   dpi: the resolution of the figure\n",
    "    # Return:\n",
    "    #   None\n",
    "    #\n",
    "    fpr, tpr, threshold = roc_curve(y_true, y_prob[:, 1])\n",
    "    fig = plt.gcf()\n",
    "    fig.set_size_inches(10, 8)\n",
    "    plt.title(\"Receiver Operating Characteristic (ROC)\")\n",
    "    plt.plot(fpr, tpr, 'b')\n",
    "    plt.plot([0, 1], [0, 1],'r--')\n",
    "    plt.xlim([0, 1])\n",
    "    plt.ylim([0, 1])\n",
    "    plt.ylabel('True Positive Rate')\n",
    "    plt.xlabel('False Positive Rate')\n",
    "    plt.show()\n",
    "    fig.savefig(filename, dpi = dpi)\n",
    "    return"
   ]
  },
  {
   "cell_type": "markdown",
   "metadata": {},
   "source": [
    "### Defining and training the initial model"
   ]
  },
  {
   "cell_type": "code",
   "execution_count": 49,
   "metadata": {},
   "outputs": [
    {
     "name": "stdout",
     "output_type": "stream",
     "text": [
      "[0]\tvalidation_0-aucpr:0.63033\n",
      "[1]\tvalidation_0-aucpr:0.63499\n",
      "[2]\tvalidation_0-aucpr:0.63401\n",
      "[3]\tvalidation_0-aucpr:0.63794\n",
      "[4]\tvalidation_0-aucpr:0.63777\n",
      "[5]\tvalidation_0-aucpr:0.63750\n",
      "[6]\tvalidation_0-aucpr:0.63376\n",
      "[7]\tvalidation_0-aucpr:0.63539\n",
      "[8]\tvalidation_0-aucpr:0.63398\n",
      "[9]\tvalidation_0-aucpr:0.63417\n",
      "[10]\tvalidation_0-aucpr:0.63473\n",
      "[11]\tvalidation_0-aucpr:0.63373\n",
      "[12]\tvalidation_0-aucpr:0.63189\n",
      "[13]\tvalidation_0-aucpr:0.63059\n",
      "[14]\tvalidation_0-aucpr:0.63403\n",
      "[15]\tvalidation_0-aucpr:0.63357\n",
      "[16]\tvalidation_0-aucpr:0.62762\n",
      "[17]\tvalidation_0-aucpr:0.62721\n",
      "[18]\tvalidation_0-aucpr:0.62624\n",
      "[19]\tvalidation_0-aucpr:0.62568\n",
      "[20]\tvalidation_0-aucpr:0.62955\n",
      "[21]\tvalidation_0-aucpr:0.62918\n",
      "[22]\tvalidation_0-aucpr:0.62581\n",
      "[23]\tvalidation_0-aucpr:0.62652\n",
      "[24]\tvalidation_0-aucpr:0.62612\n",
      "[25]\tvalidation_0-aucpr:0.62614\n",
      "[26]\tvalidation_0-aucpr:0.62521\n",
      "[27]\tvalidation_0-aucpr:0.62512\n",
      "[28]\tvalidation_0-aucpr:0.62315\n",
      "[29]\tvalidation_0-aucpr:0.62275\n",
      "[30]\tvalidation_0-aucpr:0.62255\n",
      "[31]\tvalidation_0-aucpr:0.62147\n",
      "[32]\tvalidation_0-aucpr:0.62039\n"
     ]
    },
    {
     "data": {
      "text/plain": [
       "XGBClassifier(base_score=0.5, booster='gbtree', colsample_bylevel=1,\n",
       "              colsample_bynode=1, colsample_bytree=1, gamma=0, gpu_id=-1,\n",
       "              importance_type='gain', interaction_constraints='',\n",
       "              learning_rate=0.300000012, max_delta_step=0, max_depth=6,\n",
       "              min_child_weight=1, missing=nan, monotone_constraints='()',\n",
       "              n_estimators=100, n_jobs=8, num_parallel_tree=1, random_state=42,\n",
       "              reg_alpha=0, reg_lambda=1, scale_pos_weight=1, seed=42,\n",
       "              subsample=1, tree_method='exact', use_label_encoder=False,\n",
       "              validate_parameters=1, verbosity=None)"
      ]
     },
     "execution_count": 49,
     "metadata": {},
     "output_type": "execute_result"
    }
   ],
   "source": [
    "clf_xgb = xgb.XGBClassifier(objective='binary:logistic', use_label_encoder=False, seed=42)\n",
    "clf_xgb.fit(X_train,\n",
    "              y_train,\n",
    "              verbose=True,\n",
    "              early_stopping_rounds=30,\n",
    "              eval_metric='aucpr',\n",
    "              eval_set=[(X_test, y_test)])"
   ]
  },
  {
   "cell_type": "markdown",
   "metadata": {},
   "source": [
    "Ok, we've built the <b>XGBoost</b> model for classification. Lets see how it performs on the <b>Testing Dataset</b> by running the <b>Testing Dataset</b> down the model and drawing a <b>Confusion Matrix</b>."
   ]
  },
  {
   "cell_type": "code",
   "execution_count": 50,
   "metadata": {},
   "outputs": [
    {
     "name": "stderr",
     "output_type": "stream",
     "text": [
      "C:\\Users\\nyash\\anaconda3\\lib\\site-packages\\xgboost\\data.py:112: UserWarning: Use subset (sliced data) of np.ndarray is not recommended because it will generate extra copies and increase memory consumption\n",
      "  warnings.warn(\n"
     ]
    },
    {
     "data": {
      "text/plain": [
       "<sklearn.metrics._plot.confusion_matrix.ConfusionMatrixDisplay at 0x1fbb184eac0>"
      ]
     },
     "execution_count": 50,
     "metadata": {},
     "output_type": "execute_result"
    },
    {
     "data": {
      "image/png": "[encoded data removed]",
      "text/plain": [
       "<Figure size 432x288 with 2 Axes>"
      ]
     },
     "metadata": {},
     "output_type": "display_data"
    }
   ],
   "source": [
    "plot_confusion_matrix(clf_xgb,\n",
    "                      X_test,\n",
    "                      y_test,\n",
    "                      values_format='d',\n",
    "                     display_labels=['Did not leave', 'Left'])"
   ]
  },
  {
   "cell_type": "markdown",
   "metadata": {},
   "source": [
    "In the confusion matrix, we can see that of the <b>1294</b> people <b>who did not leave</b>, <b>1176 (90%)</b> were correctly classified. And of the <b>467</b> people that <b>left the company</b>, <b>213 (45%)</b> were correctly classified. Hence there XGBoost model was not awesome. Part of the problem is that our data is imbalanced, which we saw earlier and we see this in confusion matrix with the top row showing <b>1294</b> people who <b> did not leave </b> and the bottom row showing <b>467</b> people <b>did leave</b>. Because people leaving the costs the company a lot of money, we would like to capture more of the people that left. The good news is that <b>XGBoost</b> has a parameter <code>scale_pos_weight</code>, that helps with imbalanced data. So lets try to improve predictions using <b>Cross Validation</b> to optimize the parameters."
   ]
  },
  {
   "cell_type": "code",
   "execution_count": 51,
   "metadata": {},
   "outputs": [],
   "source": [
    "y_pred =  clf_xgb.predict(X_test)"
   ]
  },
  {
   "cell_type": "code",
   "execution_count": 52,
   "metadata": {},
   "outputs": [],
   "source": [
    "y_prob =  clf_xgb.predict_proba(X_test)"
   ]
  },
  {
   "cell_type": "code",
   "execution_count": 53,
   "metadata": {},
   "outputs": [
    {
     "name": "stdout",
     "output_type": "stream",
     "text": [
      "Precision: [0.82237762 0.64350453]\n",
      "Recall: [0.90880989 0.45610278]\n",
      "F-score: [0.86343612 0.53383459]\n",
      "Support: [1294  467]\n"
     ]
    }
   ],
   "source": [
    "print_evaluation_metric(y_test, y_pred)"
   ]
  },
  {
   "cell_type": "code",
   "execution_count": 54,
   "metadata": {},
   "outputs": [
    {
     "data": {
      "image/png": "[encoded data removed]",
      "text/plain": [
       "<Figure size 720x576 with 1 Axes>"
      ]
     },
     "metadata": {},
     "output_type": "display_data"
    }
   ],
   "source": [
    "plot_roc_curve(y_test, y_prob, filename=\"ROC1.png\", dpi=20)"
   ]
  },
  {
   "cell_type": "markdown",
   "metadata": {},
   "source": [
    "## Optimise Paramaters using Cross Validation and GridSearchCV()"
   ]
  },
  {
   "cell_type": "markdown",
   "metadata": {},
   "source": [
    "<b>XGBoost</b> has a lot of parameters that we have to manually configure and are nor determined by <b>XGBoost</b> itself, including <code>max_depth</code>, the maximum tree depth, <code>learning_rate</code>, or \"eta\", <code>gamma</code>, the parameter that encourages pruning, and <code>reg_lambda</code>, the regularization parameter lambda. So lets try to find the optimal values for these parameters in hopes that we can improve the accuracy with the <b>Testing Dataset</b><br>\n",
    "\n",
    "We have a lot of parameters hence testing them one by one would be very time consuming. Luckily we can use <code>GridSearchCV</code>. With this we can specify a list of potential values for the hyperparameters and <code>GridSearchCV</code> test all possible parameter combinations and returns the results."
   ]
  },
  {
   "cell_type": "code",
   "execution_count": 55,
   "metadata": {},
   "outputs": [],
   "source": [
    "param_grid = {\n",
    "    'max_depth': [3, 4, 5],\n",
    "    'learning_rate': [0.1, 0.01, 0.05],\n",
    "    'gamma': [0, 0.25, 0.5, 1.0, 10.0],\n",
    "    'reg_lambda': [0.1, 1.0, 5.0, 10.0, 20.0],\n",
    "    'scale_pos_weight': [1, 3, 5]\n",
    "}\n",
    "\n",
    "estimator = xgb.XGBClassifier(objective = 'binary:logistic')"
   ]
  },
  {
   "cell_type": "code",
   "execution_count": 56,
   "metadata": {},
   "outputs": [],
   "source": [
    "cv_clf = GridSearchCV(estimator,\n",
    "                      param_grid=param_grid,\n",
    "                      scoring='roc_auc', # see see sklearn model evaluation docs\n",
    "                      verbose=2, # Note: if you want to see what Gridsearch is doing set to 2, otherwise 0\n",
    "                      n_jobs=10,\n",
    "                      cv=5)"
   ]
  },
  {
   "cell_type": "code",
   "execution_count": 57,
   "metadata": {},
   "outputs": [
    {
     "name": "stdout",
     "output_type": "stream",
     "text": [
      "Fitting 5 folds for each of 675 candidates, totalling 3375 fits\n"
     ]
    },
    {
     "name": "stderr",
     "output_type": "stream",
     "text": [
      "[Parallel(n_jobs=10)]: Using backend LokyBackend with 10 concurrent workers.\n",
      "[Parallel(n_jobs=10)]: Done  21 tasks      | elapsed:    6.3s\n",
      "[Parallel(n_jobs=10)]: Done 142 tasks      | elapsed:   16.6s\n",
      "[Parallel(n_jobs=10)]: Done 345 tasks      | elapsed:   31.8s\n",
      "[Parallel(n_jobs=10)]: Done 628 tasks      | elapsed:  1.1min\n",
      "[Parallel(n_jobs=10)]: Done 993 tasks      | elapsed:  1.6min\n",
      "[Parallel(n_jobs=10)]: Done 1438 tasks      | elapsed:  2.5min\n",
      "[Parallel(n_jobs=10)]: Done 1965 tasks      | elapsed:  3.4min\n",
      "[Parallel(n_jobs=10)]: Done 2572 tasks      | elapsed:  4.4min\n",
      "[Parallel(n_jobs=10)]: Done 3261 tasks      | elapsed:  5.6min\n"
     ]
    },
    {
     "name": "stdout",
     "output_type": "stream",
     "text": [
      "[0]\tvalidation_0-auc:0.81163\n",
      "[1]\tvalidation_0-auc:0.81275\n",
      "[2]\tvalidation_0-auc:0.82272\n",
      "[3]\tvalidation_0-auc:0.82244\n",
      "[4]\tvalidation_0-auc:0.82719\n",
      "[5]\tvalidation_0-auc:0.82745\n",
      "[6]\tvalidation_0-auc:0.82944\n",
      "[7]\tvalidation_0-auc:0.82856\n",
      "[8]\tvalidation_0-auc:0.82882\n",
      "[9]\tvalidation_0-auc:0.83062\n",
      "[10]\tvalidation_0-auc:0.83102\n",
      "[11]\tvalidation_0-auc:0.83005\n",
      "[12]\tvalidation_0-auc:0.83242\n",
      "[13]\tvalidation_0-auc:0.83188\n",
      "[14]\tvalidation_0-auc:0.83242\n",
      "[15]\tvalidation_0-auc:0.83298\n",
      "[16]\tvalidation_0-auc:0.83356\n",
      "[17]\tvalidation_0-auc:0.83418\n",
      "[18]\tvalidation_0-auc:0.83459\n",
      "[19]\tvalidation_0-auc:0.83576\n",
      "[20]\tvalidation_0-auc:0.83663\n"
     ]
    },
    {
     "name": "stderr",
     "output_type": "stream",
     "text": [
      "[Parallel(n_jobs=10)]: Done 3375 out of 3375 | elapsed:  5.8min finished\n",
      "C:\\Users\\nyash\\anaconda3\\lib\\site-packages\\xgboost\\sklearn.py:1146: UserWarning: The use of label encoder in XGBClassifier is deprecated and will be removed in a future release. To remove this warning, do the following: 1) Pass option use_label_encoder=False when constructing XGBClassifier object; and 2) Encode your labels (y) as integers starting with 0, i.e. 0, 1, 2, ..., [num_class - 1].\n",
      "  warnings.warn(label_encoder_deprecation_msg, UserWarning)\n"
     ]
    },
    {
     "name": "stdout",
     "output_type": "stream",
     "text": [
      "[21]\tvalidation_0-auc:0.83697\n",
      "[22]\tvalidation_0-auc:0.83678\n",
      "[23]\tvalidation_0-auc:0.83683\n",
      "[24]\tvalidation_0-auc:0.83732\n",
      "[25]\tvalidation_0-auc:0.83771\n",
      "[26]\tvalidation_0-auc:0.83769\n",
      "[27]\tvalidation_0-auc:0.83814\n",
      "[28]\tvalidation_0-auc:0.83879\n",
      "[29]\tvalidation_0-auc:0.83870\n",
      "[30]\tvalidation_0-auc:0.83922\n",
      "[31]\tvalidation_0-auc:0.84001\n",
      "[32]\tvalidation_0-auc:0.84067\n",
      "[33]\tvalidation_0-auc:0.84072\n",
      "[34]\tvalidation_0-auc:0.84111\n",
      "[35]\tvalidation_0-auc:0.84150\n",
      "[36]\tvalidation_0-auc:0.84198\n",
      "[37]\tvalidation_0-auc:0.84213\n",
      "[38]\tvalidation_0-auc:0.84275\n",
      "[39]\tvalidation_0-auc:0.84289\n",
      "[40]\tvalidation_0-auc:0.84252\n",
      "[41]\tvalidation_0-auc:0.84281\n",
      "[42]\tvalidation_0-auc:0.84251\n",
      "[43]\tvalidation_0-auc:0.84255\n",
      "[44]\tvalidation_0-auc:0.84286\n",
      "[45]\tvalidation_0-auc:0.84279\n",
      "[46]\tvalidation_0-auc:0.84292\n",
      "[47]\tvalidation_0-auc:0.84305\n",
      "[48]\tvalidation_0-auc:0.84308\n",
      "[49]\tvalidation_0-auc:0.84295\n",
      "[50]\tvalidation_0-auc:0.84293\n",
      "[51]\tvalidation_0-auc:0.84279\n",
      "[52]\tvalidation_0-auc:0.84270\n",
      "[53]\tvalidation_0-auc:0.84283\n",
      "[54]\tvalidation_0-auc:0.84285\n",
      "[55]\tvalidation_0-auc:0.84290\n",
      "[56]\tvalidation_0-auc:0.84299\n",
      "[57]\tvalidation_0-auc:0.84280\n"
     ]
    },
    {
     "data": {
      "text/plain": [
       "GridSearchCV(cv=5,\n",
       "             estimator=XGBClassifier(base_score=None, booster=None,\n",
       "                                     colsample_bylevel=None,\n",
       "                                     colsample_bynode=None,\n",
       "                                     colsample_bytree=None, gamma=None,\n",
       "                                     gpu_id=None, importance_type='gain',\n",
       "                                     interaction_constraints=None,\n",
       "                                     learning_rate=None, max_delta_step=None,\n",
       "                                     max_depth=None, min_child_weight=None,\n",
       "                                     missing=nan, monotone_constraints=None,\n",
       "                                     n_estimators=100, n_jobs...\n",
       "                                     num_parallel_tree=None, random_state=None,\n",
       "                                     reg_alpha=None, reg_lambda=None,\n",
       "                                     scale_pos_weight=None, subsample=None,\n",
       "                                     tree_method=None, validate_parameters=None,\n",
       "                                     verbosity=None),\n",
       "             n_jobs=10,\n",
       "             param_grid={'gamma': [0, 0.25, 0.5, 1.0, 10.0],\n",
       "                         'learning_rate': [0.1, 0.01, 0.05],\n",
       "                         'max_depth': [3, 4, 5],\n",
       "                         'reg_lambda': [0.1, 1.0, 5.0, 10.0, 20.0],\n",
       "                         'scale_pos_weight': [1, 3, 5]},\n",
       "             scoring='roc_auc', verbose=2)"
      ]
     },
     "execution_count": 57,
     "metadata": {},
     "output_type": "execute_result"
    }
   ],
   "source": [
    "cv_clf.fit(X_train,\n",
    "           y_train,\n",
    "           early_stopping_rounds=10,\n",
    "           eval_metric='auc',\n",
    "           eval_set=[(X_test, y_test)],\n",
    "           verbose=True)"
   ]
  },
  {
   "cell_type": "code",
   "execution_count": 58,
   "metadata": {},
   "outputs": [
    {
     "name": "stdout",
     "output_type": "stream",
     "text": [
      "Best score: 0.841828082170242\n",
      "Best params: \n",
      "gamma: 0\n",
      "learning_rate: 0.1\n",
      "max_depth: 3\n",
      "reg_lambda: 10.0\n",
      "scale_pos_weight: 5\n"
     ]
    }
   ],
   "source": [
    "best_score = cv_clf.best_score_\n",
    "best_params = cv_clf.best_params_\n",
    "print(f'Best score: {best_score}')\n",
    "print('Best params: ')\n",
    "for param_name in sorted(best_params.keys()):\n",
    "    print(f'{param_name}: {best_params[param_name]}')"
   ]
  },
  {
   "cell_type": "markdown",
   "metadata": {},
   "source": [
    "So after testing all possible combinations of potential parameter values with <b>Cross Validation</b>, we that we should set <code>gamma=0.0</code>, <code>learn_rate=0.1</code>, <code>max_depth=3</code>, <code>reg_lambda=10.0</code> and <code>scale_pos_weight=5</code>"
   ]
  },
  {
   "cell_type": "markdown",
   "metadata": {},
   "source": [
    "## Building, Evaluating, Drawing, and Interpreting the Optimized XGBoost Model."
   ]
  },
  {
   "cell_type": "code",
   "execution_count": 59,
   "metadata": {},
   "outputs": [
    {
     "name": "stdout",
     "output_type": "stream",
     "text": [
      "[18:38:01] WARNING: ..\\src\\learner.cc:573: \n",
      "Parameters: { \"learn_rate\" } might not be used.\n",
      "\n",
      "  This may not be accurate due to some parameters are only used in language bindings but\n",
      "  passed down to XGBoost core.  Or some parameters are not used but slip through this\n",
      "  verification. Please open an issue if you find above cases.\n",
      "\n",
      "\n",
      "[0]\tvalidation_0-aucpr:0.55226\n",
      "[1]\tvalidation_0-aucpr:0.57241\n",
      "[2]\tvalidation_0-aucpr:0.58370\n",
      "[3]\tvalidation_0-aucpr:0.58853\n",
      "[4]\tvalidation_0-aucpr:0.58922\n",
      "[5]\tvalidation_0-aucpr:0.60414\n",
      "[6]\tvalidation_0-aucpr:0.60900\n",
      "[7]\tvalidation_0-aucpr:0.61678\n",
      "[8]\tvalidation_0-aucpr:0.61447\n",
      "[9]\tvalidation_0-aucpr:0.61843\n",
      "[10]\tvalidation_0-aucpr:0.61778\n",
      "[11]\tvalidation_0-aucpr:0.61997\n",
      "[12]\tvalidation_0-aucpr:0.63827\n",
      "[13]\tvalidation_0-aucpr:0.64199\n",
      "[14]\tvalidation_0-aucpr:0.64114\n",
      "[15]\tvalidation_0-aucpr:0.64093\n",
      "[16]\tvalidation_0-aucpr:0.63765\n",
      "[17]\tvalidation_0-aucpr:0.63696\n",
      "[18]\tvalidation_0-aucpr:0.64111\n",
      "[19]\tvalidation_0-aucpr:0.64148\n",
      "[20]\tvalidation_0-aucpr:0.64156\n",
      "[21]\tvalidation_0-aucpr:0.64184\n",
      "[22]\tvalidation_0-aucpr:0.64165\n",
      "[23]\tvalidation_0-aucpr:0.63809\n",
      "[24]\tvalidation_0-aucpr:0.64220\n",
      "[25]\tvalidation_0-aucpr:0.64171\n",
      "[26]\tvalidation_0-aucpr:0.64327\n",
      "[27]\tvalidation_0-aucpr:0.64495\n",
      "[28]\tvalidation_0-aucpr:0.64432\n",
      "[29]\tvalidation_0-aucpr:0.64379\n",
      "[30]\tvalidation_0-aucpr:0.64373\n",
      "[31]\tvalidation_0-aucpr:0.64347\n",
      "[32]\tvalidation_0-aucpr:0.64200\n",
      "[33]\tvalidation_0-aucpr:0.63822\n",
      "[34]\tvalidation_0-aucpr:0.63842\n",
      "[35]\tvalidation_0-aucpr:0.63628\n",
      "[36]\tvalidation_0-aucpr:0.63580\n",
      "[37]\tvalidation_0-aucpr:0.63564\n",
      "[38]\tvalidation_0-aucpr:0.63849\n",
      "[39]\tvalidation_0-aucpr:0.63843\n",
      "[40]\tvalidation_0-aucpr:0.63894\n",
      "[41]\tvalidation_0-aucpr:0.63801\n",
      "[42]\tvalidation_0-aucpr:0.63784\n",
      "[43]\tvalidation_0-aucpr:0.63791\n",
      "[44]\tvalidation_0-aucpr:0.63816\n",
      "[45]\tvalidation_0-aucpr:0.63958\n",
      "[46]\tvalidation_0-aucpr:0.63950\n",
      "[47]\tvalidation_0-aucpr:0.63935\n",
      "[48]\tvalidation_0-aucpr:0.63940\n",
      "[49]\tvalidation_0-aucpr:0.63924\n",
      "[50]\tvalidation_0-aucpr:0.63910\n",
      "[51]\tvalidation_0-aucpr:0.63909\n",
      "[52]\tvalidation_0-aucpr:0.63911\n",
      "[53]\tvalidation_0-aucpr:0.63916\n",
      "[54]\tvalidation_0-aucpr:0.63930\n",
      "[55]\tvalidation_0-aucpr:0.63929\n",
      "[56]\tvalidation_0-aucpr:0.63866\n",
      "[57]\tvalidation_0-aucpr:0.63883\n",
      "[58]\tvalidation_0-aucpr:0.63885\n",
      "[59]\tvalidation_0-aucpr:0.63889\n",
      "[60]\tvalidation_0-aucpr:0.64120\n",
      "[61]\tvalidation_0-aucpr:0.64096\n",
      "[62]\tvalidation_0-aucpr:0.64042\n",
      "[63]\tvalidation_0-aucpr:0.64047\n",
      "[64]\tvalidation_0-aucpr:0.64060\n",
      "[65]\tvalidation_0-aucpr:0.64055\n",
      "[66]\tvalidation_0-aucpr:0.64049\n",
      "[67]\tvalidation_0-aucpr:0.64032\n",
      "[68]\tvalidation_0-aucpr:0.63970\n",
      "[69]\tvalidation_0-aucpr:0.63848\n",
      "[70]\tvalidation_0-aucpr:0.63733\n",
      "[71]\tvalidation_0-aucpr:0.63683\n",
      "[72]\tvalidation_0-aucpr:0.63727\n",
      "[73]\tvalidation_0-aucpr:0.63676\n",
      "[74]\tvalidation_0-aucpr:0.63477\n",
      "[75]\tvalidation_0-aucpr:0.63481\n",
      "[76]\tvalidation_0-aucpr:0.63485\n",
      "[77]\tvalidation_0-aucpr:0.63409\n",
      "[78]\tvalidation_0-aucpr:0.63429\n",
      "[79]\tvalidation_0-aucpr:0.63397\n",
      "[80]\tvalidation_0-aucpr:0.63352\n",
      "[81]\tvalidation_0-aucpr:0.63343\n",
      "[82]\tvalidation_0-aucpr:0.63352\n",
      "[83]\tvalidation_0-aucpr:0.63303\n",
      "[84]\tvalidation_0-aucpr:0.63289\n",
      "[85]\tvalidation_0-aucpr:0.63161\n",
      "[86]\tvalidation_0-aucpr:0.63189\n",
      "[87]\tvalidation_0-aucpr:0.63279\n",
      "[88]\tvalidation_0-aucpr:0.62984\n",
      "[89]\tvalidation_0-aucpr:0.62986\n",
      "[90]\tvalidation_0-aucpr:0.62980\n",
      "[91]\tvalidation_0-aucpr:0.62943\n",
      "[92]\tvalidation_0-aucpr:0.63104\n",
      "[93]\tvalidation_0-aucpr:0.63089\n",
      "[94]\tvalidation_0-aucpr:0.63044\n",
      "[95]\tvalidation_0-aucpr:0.63077\n",
      "[96]\tvalidation_0-aucpr:0.63028\n",
      "[97]\tvalidation_0-aucpr:0.62945\n",
      "[98]\tvalidation_0-aucpr:0.62950\n",
      "[99]\tvalidation_0-aucpr:0.63001\n"
     ]
    },
    {
     "data": {
      "text/plain": [
       "XGBClassifier(base_score=0.5, booster='gbtree', colsample_bylevel=1,\n",
       "              colsample_bynode=1, colsample_bytree=1, gamma=0.0, gpu_id=-1,\n",
       "              importance_type='gain', interaction_constraints='',\n",
       "              learn_rate=0.1, learning_rate=0.300000012, max_delta_step=0,\n",
       "              max_depth=3, min_child_weight=1, missing=nan,\n",
       "              monotone_constraints='()', n_estimators=100, n_jobs=8,\n",
       "              num_parallel_tree=1, random_state=42, reg_alpha=0,\n",
       "              reg_lambda=10.0, scale_pos_weight=5, seed=42, subsample=1,\n",
       "              tree_method='exact', validate_parameters=1, verbosity=None)"
      ]
     },
     "execution_count": 59,
     "metadata": {},
     "output_type": "execute_result"
    }
   ],
   "source": [
    "best_xgb = xgb.XGBClassifier(seed=42,\n",
    "                           objective='binary:logistic',\n",
    "                           gamma=0.0,\n",
    "                           learn_rate=0.1,\n",
    "                           max_depth=3,\n",
    "                           reg_lambda=10.0,\n",
    "                           scale_pos_weight=5\n",
    "                           )\n",
    "best_xgb.fit(X_train,\n",
    "           y_train,\n",
    "           eval_metric='aucpr',\n",
    "           eval_set=[(X_test, y_test)])"
   ]
  },
  {
   "cell_type": "markdown",
   "metadata": {},
   "source": [
    "Now lets draw another confusion matrix using the optimised <b>XGBoost</b> to see if it performs any better."
   ]
  },
  {
   "cell_type": "code",
   "execution_count": 60,
   "metadata": {},
   "outputs": [
    {
     "name": "stderr",
     "output_type": "stream",
     "text": [
      "C:\\Users\\nyash\\anaconda3\\lib\\site-packages\\xgboost\\data.py:112: UserWarning: Use subset (sliced data) of np.ndarray is not recommended because it will generate extra copies and increase memory consumption\n",
      "  warnings.warn(\n"
     ]
    },
    {
     "data": {
      "text/plain": [
       "<sklearn.metrics._plot.confusion_matrix.ConfusionMatrixDisplay at 0x1fbb1448a00>"
      ]
     },
     "execution_count": 60,
     "metadata": {},
     "output_type": "execute_result"
    },
    {
     "data": {
      "image/png": "[encoded data removed]",
      "text/plain": [
       "<Figure size 432x288 with 2 Axes>"
      ]
     },
     "metadata": {},
     "output_type": "display_data"
    }
   ],
   "source": [
    "plot_confusion_matrix(best_xgb,\n",
    "                     X_test,\n",
    "                     y_test,\n",
    "                     values_format='d',\n",
    "                     display_labels=['Did not leave', 'Left'])"
   ]
  },
  {
   "cell_type": "markdown",
   "metadata": {},
   "source": [
    "We see that the optimized <b>XGBoost</b> model is a lot better at identifying people that <b>left the company</b>. Of the <b>467</b> people that left the company, <b>397 (85%)</b> were correctly identified. Before the optimisation, we only correctly identified <b>213 (45%)</b>. However the improvement was at the expense of people who did not leave. Before the optimisation we correctly identified <b>1176 (90%)</b> people that did not leave. Now we correctly classified <b>843 (65%)</b>. That said this may be better since we are more interested in people who might leave the company."
   ]
  },
  {
   "cell_type": "code",
   "execution_count": 61,
   "metadata": {},
   "outputs": [],
   "source": [
    "y_pred =  best_xgb.predict(X_test)"
   ]
  },
  {
   "cell_type": "code",
   "execution_count": 62,
   "metadata": {},
   "outputs": [],
   "source": [
    "y_prob =  best_xgb.predict_proba(X_test)"
   ]
  },
  {
   "cell_type": "code",
   "execution_count": 63,
   "metadata": {},
   "outputs": [
    {
     "name": "stdout",
     "output_type": "stream",
     "text": [
      "Precision: [0.92332968 0.46816038]\n",
      "Recall: [0.65146832 0.85010707]\n",
      "F-score: [0.76393294 0.60380228]\n",
      "Support: [1294  467]\n"
     ]
    }
   ],
   "source": [
    "print_evaluation_metric(y_test, y_pred)"
   ]
  },
  {
   "cell_type": "code",
   "execution_count": 64,
   "metadata": {},
   "outputs": [
    {
     "data": {
      "image/png": "[encoded data removed]",
      "text/plain": [
       "<Figure size 720x576 with 1 Axes>"
      ]
     },
     "metadata": {},
     "output_type": "display_data"
    }
   ],
   "source": [
    "plot_roc_curve(y_test, y_prob, filename=\"ROC2.png\", dpi=20)"
   ]
  },
  {
   "cell_type": "markdown",
   "metadata": {},
   "source": [
    "### A Visual of the XGBoost Tree"
   ]
  },
  {
   "cell_type": "code",
   "execution_count": 65,
   "metadata": {},
   "outputs": [
    {
     "name": "stderr",
     "output_type": "stream",
     "text": [
      "C:\\Users\\nyash\\anaconda3\\lib\\site-packages\\xgboost\\sklearn.py:1146: UserWarning: The use of label encoder in XGBClassifier is deprecated and will be removed in a future release. To remove this warning, do the following: 1) Pass option use_label_encoder=False when constructing XGBClassifier object; and 2) Encode your labels (y) as integers starting with 0, i.e. 0, 1, 2, ..., [num_class - 1].\n",
      "  warnings.warn(label_encoder_deprecation_msg, UserWarning)\n"
     ]
    },
    {
     "name": "stdout",
     "output_type": "stream",
     "text": [
      "[18:38:03] WARNING: ..\\src\\learner.cc:573: \n",
      "Parameters: { \"colsample\", \"learn_rate\" } might not be used.\n",
      "\n",
      "  This may not be accurate due to some parameters are only used in language bindings but\n",
      "  passed down to XGBoost core.  Or some parameters are not used but slip through this\n",
      "  verification. Please open an issue if you find above cases.\n",
      "\n",
      "\n",
      "[18:38:03] WARNING: ..\\src\\learner.cc:1095: Starting in XGBoost 1.3.0, the default evaluation metric used with the objective 'binary:logistic' was changed from 'error' to 'logloss'. Explicitly set eval_metric if you'd like to restore the old behavior.\n",
      "weight:  {'Contract_Month-to-month': 1, 'MonthlyCharges': 7, 'Contract_One_year': 2, 'gender_Female': 1, 'TotalCharges': 5, 'Dependents_No': 1, 'PaymentMethod_Electronic_check': 1}\n",
      "gain:  {'Contract_Month-to-month': 2073.73193, 'MonthlyCharges': 86.62023222857144, 'Contract_One_year': 58.420160300000006, 'gender_Female': 18.9935722, 'TotalCharges': 55.29686774, 'Dependents_No': 10.5209274, 'PaymentMethod_Electronic_check': 23.3646851}\n",
      "cover:  {'Contract_Month-to-month': 2447.25, 'MonthlyCharges': 507.0357142857143, 'Contract_One_year': 341.5, 'gender_Female': 154.25, 'TotalCharges': 431.95, 'Dependents_No': 127.0, 'PaymentMethod_Electronic_check': 538.5}\n",
      "total_gain:  {'Contract_Month-to-month': 2073.73193, 'MonthlyCharges': 606.3416256, 'Contract_One_year': 116.84032060000001, 'gender_Female': 18.9935722, 'TotalCharges': 276.4843387, 'Dependents_No': 10.5209274, 'PaymentMethod_Electronic_check': 23.3646851}\n",
      "total_cover:  {'Contract_Month-to-month': 2447.25, 'MonthlyCharges': 3549.25, 'Contract_One_year': 683.0, 'gender_Female': 154.25, 'TotalCharges': 2159.75, 'Dependents_No': 127.0, 'PaymentMethod_Electronic_check': 538.5}\n"
     ]
    },
    {
     "name": "stderr",
     "output_type": "stream",
     "text": [
      "Warning: gvrender_set_style: unsupported style filled rounded - ignoring\n",
      "Warning: gvrender_set_style: unsupported style filled rounded - ignoring\n",
      "Warning: gvrender_set_style: unsupported style filled rounded - ignoring\n",
      "Warning: gvrender_set_style: unsupported style filled rounded - ignoring\n",
      "Warning: gvrender_set_style: unsupported style filled rounded - ignoring\n",
      "Warning: gvrender_set_style: unsupported style filled rounded - ignoring\n",
      "Warning: gvrender_set_style: unsupported style filled rounded - ignoring\n",
      "Warning: gvrender_set_style: unsupported style filled rounded - ignoring\n",
      "Warning: gvrender_set_style: unsupported style filled rounded - ignoring\n",
      "Warning: gvrender_set_style: unsupported style filled rounded - ignoring\n",
      "Warning: gvrender_set_style: unsupported style filled rounded - ignoring\n",
      "Warning: gvrender_set_style: unsupported style filled rounded - ignoring\n",
      "Warning: gvrender_set_style: unsupported style filled rounded - ignoring\n",
      "Warning: gvrender_set_style: unsupported style filled rounded - ignoring\n",
      "Warning: gvrender_set_style: unsupported style filled rounded - ignoring\n",
      "Warning: gvrender_set_style: unsupported style filled rounded - ignoring\n",
      "Warning: gvrender_set_style: unsupported style filled rounded - ignoring\n",
      "Warning: gvrender_set_style: unsupported style filled rounded - ignoring\n"
     ]
    },
    {
     "data": {
      "image/svg+xml": [
       "<?xml version=\"1.0\" encoding=\"UTF-8\" standalone=\"no\"?>\r\n",
       "<!DOCTYPE svg PUBLIC \"-//W3C//DTD SVG 1.1//EN\"\r\n",
       " \"http://www.w3.org/Graphics/SVG/1.1/DTD/svg11.dtd\">\r\n",
       "<!-- Generated by graphviz version 2.38.0 (20140413.2041)\r\n",
       " -->\r\n",
       "<!-- Title: %3 Pages: 1 -->\r\n",
       "<svg width=\"1876pt\" height=\"479pt\"\r\n",
       " viewBox=\"0.00 0.00 1876.00 479.00\" xmlns=\"http://www.w3.org/2000/svg\" xmlns:xlink=\"http://www.w3.org/1999/xlink\">\r\n",
       "<g id=\"graph0\" class=\"graph\" transform=\"scale(1 1) rotate(0) translate(4 475)\">\r\n",
       "<title>%3</title>\r\n",
       "<polygon fill=\"white\" stroke=\"none\" points=\"-4,4 -4,-475 1872,-475 1872,4 -4,4\"/>\r\n",
       "<!-- 0 -->\r\n",
       "<g id=\"node1\" class=\"node\"><title>0</title>\r\n",
       "<polygon fill=\"none\" stroke=\"black\" points=\"1094.5,-471 903.5,-471 903.5,-435 1094.5,-435 1094.5,-471\"/>\r\n",
       "<text text-anchor=\"middle\" x=\"999\" y=\"-449.3\" font-family=\"Times New Roman,serif\" font-size=\"14.00\">Contract_Month&#45;to&#45;month&lt;0.5</text>\r\n",
       "</g>\r\n",
       "<!-- 1 -->\r\n",
       "<g id=\"node2\" class=\"node\"><title>1</title>\r\n",
       "<polygon fill=\"none\" stroke=\"black\" points=\"713,-384 531,-384 531,-348 713,-348 713,-384\"/>\r\n",
       "<text text-anchor=\"middle\" x=\"622\" y=\"-362.3\" font-family=\"Times New Roman,serif\" font-size=\"14.00\">MonthlyCharges&lt;93.6750031</text>\r\n",
       "</g>\r\n",
       "<!-- 0&#45;&gt;1 -->\r\n",
       "<g id=\"edge1\" class=\"edge\"><title>0&#45;&gt;1</title>\r\n",
       "<path fill=\"none\" stroke=\"#0000ff\" d=\"M923.162,-434.901C860.783,-420.837 772.405,-400.911 707.517,-386.281\"/>\r\n",
       "<polygon fill=\"#0000ff\" stroke=\"#0000ff\" points=\"708.242,-382.857 697.717,-384.071 706.702,-389.685 708.242,-382.857\"/>\r\n",
       "<text text-anchor=\"middle\" x=\"868.5\" y=\"-405.8\" font-family=\"Times New Roman,serif\" font-size=\"14.00\">yes, missing</text>\r\n",
       "</g>\r\n",
       "<!-- 2 -->\r\n",
       "<g id=\"node3\" class=\"node\"><title>2</title>\r\n",
       "<polygon fill=\"none\" stroke=\"black\" points=\"1321.5,-384 1166.5,-384 1166.5,-348 1321.5,-348 1321.5,-384\"/>\r\n",
       "<text text-anchor=\"middle\" x=\"1244\" y=\"-362.3\" font-family=\"Times New Roman,serif\" font-size=\"14.00\">MonthlyCharges&lt;67.875</text>\r\n",
       "</g>\r\n",
       "<!-- 0&#45;&gt;2 -->\r\n",
       "<g id=\"edge2\" class=\"edge\"><title>0&#45;&gt;2</title>\r\n",
       "<path fill=\"none\" stroke=\"#ff0000\" d=\"M1048.28,-434.901C1087.82,-421.184 1143.44,-401.889 1185.28,-387.372\"/>\r\n",
       "<polygon fill=\"#ff0000\" stroke=\"#ff0000\" points=\"1186.49,-390.656 1194.79,-384.071 1184.2,-384.043 1186.49,-390.656\"/>\r\n",
       "<text text-anchor=\"middle\" x=\"1144.5\" y=\"-405.8\" font-family=\"Times New Roman,serif\" font-size=\"14.00\">no</text>\r\n",
       "</g>\r\n",
       "<!-- 3 -->\r\n",
       "<g id=\"node4\" class=\"node\"><title>3</title>\r\n",
       "<polygon fill=\"none\" stroke=\"black\" points=\"305,-297 153,-297 153,-261 305,-261 305,-297\"/>\r\n",
       "<text text-anchor=\"middle\" x=\"229\" y=\"-275.3\" font-family=\"Times New Roman,serif\" font-size=\"14.00\">Contract_One_year&lt;0.5</text>\r\n",
       "</g>\r\n",
       "<!-- 1&#45;&gt;3 -->\r\n",
       "<g id=\"edge3\" class=\"edge\"><title>1&#45;&gt;3</title>\r\n",
       "<path fill=\"none\" stroke=\"#0000ff\" d=\"M542.943,-347.901C476.929,-333.623 382.982,-313.304 315.08,-298.618\"/>\r\n",
       "<polygon fill=\"#0000ff\" stroke=\"#0000ff\" points=\"315.772,-295.187 305.258,-296.493 314.292,-302.028 315.772,-295.187\"/>\r\n",
       "<text text-anchor=\"middle\" x=\"484.5\" y=\"-318.8\" font-family=\"Times New Roman,serif\" font-size=\"14.00\">yes, missing</text>\r\n",
       "</g>\r\n",
       "<!-- 4 -->\r\n",
       "<g id=\"node5\" class=\"node\"><title>4</title>\r\n",
       "<polygon fill=\"none\" stroke=\"black\" points=\"698,-297 546,-297 546,-261 698,-261 698,-297\"/>\r\n",
       "<text text-anchor=\"middle\" x=\"622\" y=\"-275.3\" font-family=\"Times New Roman,serif\" font-size=\"14.00\">Contract_One_year&lt;0.5</text>\r\n",
       "</g>\r\n",
       "<!-- 1&#45;&gt;4 -->\r\n",
       "<g id=\"edge4\" class=\"edge\"><title>1&#45;&gt;4</title>\r\n",
       "<path fill=\"none\" stroke=\"#ff0000\" d=\"M622,-347.799C622,-336.163 622,-320.548 622,-307.237\"/>\r\n",
       "<polygon fill=\"#ff0000\" stroke=\"#ff0000\" points=\"625.5,-307.175 622,-297.175 618.5,-307.175 625.5,-307.175\"/>\r\n",
       "<text text-anchor=\"middle\" x=\"629.5\" y=\"-318.8\" font-family=\"Times New Roman,serif\" font-size=\"14.00\">no</text>\r\n",
       "</g>\r\n",
       "<!-- 5 -->\r\n",
       "<g id=\"node20\" class=\"node\"><title>5</title>\r\n",
       "<polygon fill=\"none\" stroke=\"black\" points=\"1309.5,-297 1178.5,-297 1178.5,-261 1309.5,-261 1309.5,-297\"/>\r\n",
       "<text text-anchor=\"middle\" x=\"1244\" y=\"-275.3\" font-family=\"Times New Roman,serif\" font-size=\"14.00\">TotalCharges&lt;226.5</text>\r\n",
       "</g>\r\n",
       "<!-- 2&#45;&gt;5 -->\r\n",
       "<g id=\"edge19\" class=\"edge\"><title>2&#45;&gt;5</title>\r\n",
       "<path fill=\"none\" stroke=\"#0000ff\" d=\"M1244,-347.799C1244,-336.163 1244,-320.548 1244,-307.237\"/>\r\n",
       "<polygon fill=\"#0000ff\" stroke=\"#0000ff\" points=\"1247.5,-307.175 1244,-297.175 1240.5,-307.175 1247.5,-307.175\"/>\r\n",
       "<text text-anchor=\"middle\" x=\"1278.5\" y=\"-318.8\" font-family=\"Times New Roman,serif\" font-size=\"14.00\">yes, missing</text>\r\n",
       "</g>\r\n",
       "<!-- 6 -->\r\n",
       "<g id=\"node21\" class=\"node\"><title>6</title>\r\n",
       "<polygon fill=\"none\" stroke=\"black\" points=\"1536,-297 1378,-297 1378,-261 1536,-261 1536,-297\"/>\r\n",
       "<text text-anchor=\"middle\" x=\"1457\" y=\"-275.3\" font-family=\"Times New Roman,serif\" font-size=\"14.00\">TotalCharges&lt;1150.6001</text>\r\n",
       "</g>\r\n",
       "<!-- 2&#45;&gt;6 -->\r\n",
       "<g id=\"edge20\" class=\"edge\"><title>2&#45;&gt;6</title>\r\n",
       "<path fill=\"none\" stroke=\"#ff0000\" d=\"M1286.85,-347.901C1320.86,-334.328 1368.56,-315.295 1404.8,-300.832\"/>\r\n",
       "<polygon fill=\"#ff0000\" stroke=\"#ff0000\" points=\"1406.23,-304.029 1414.22,-297.071 1403.64,-297.527 1406.23,-304.029\"/>\r\n",
       "<text text-anchor=\"middle\" x=\"1371.5\" y=\"-318.8\" font-family=\"Times New Roman,serif\" font-size=\"14.00\">no</text>\r\n",
       "</g>\r\n",
       "<!-- 7 -->\r\n",
       "<g id=\"node6\" class=\"node\"><title>7</title>\r\n",
       "<polygon fill=\"lightgrey\" stroke=\"black\" points=\"120,-210 0,-210 0,-174 120,-174 120,-210\"/>\r\n",
       "<text text-anchor=\"middle\" x=\"60\" y=\"-188.3\" font-family=\"Times New Roman,serif\" font-size=\"14.00\">leaf=&#45;0.495705545</text>\r\n",
       "</g>\r\n",
       "<!-- 3&#45;&gt;7 -->\r\n",
       "<g id=\"edge5\" class=\"edge\"><title>3&#45;&gt;7</title>\r\n",
       "<path fill=\"none\" stroke=\"#0000ff\" d=\"M192.868,-260.967C181.075,-255.33 167.943,-248.971 156,-243 137.989,-233.995 118.236,-223.768 101.355,-214.92\"/>\r\n",
       "<polygon fill=\"#0000ff\" stroke=\"#0000ff\" points=\"102.782,-211.716 92.3017,-210.163 99.526,-217.913 102.782,-211.716\"/>\r\n",
       "<text text-anchor=\"middle\" x=\"190.5\" y=\"-231.8\" font-family=\"Times New Roman,serif\" font-size=\"14.00\">yes, missing</text>\r\n",
       "</g>\r\n",
       "<!-- 8 -->\r\n",
       "<g id=\"node7\" class=\"node\"><title>8</title>\r\n",
       "<polygon fill=\"none\" stroke=\"black\" points=\"320,-210 138,-210 138,-174 320,-174 320,-210\"/>\r\n",
       "<text text-anchor=\"middle\" x=\"229\" y=\"-188.3\" font-family=\"Times New Roman,serif\" font-size=\"14.00\">MonthlyCharges&lt;42.3249969</text>\r\n",
       "</g>\r\n",
       "<!-- 3&#45;&gt;8 -->\r\n",
       "<g id=\"edge6\" class=\"edge\"><title>3&#45;&gt;8</title>\r\n",
       "<path fill=\"none\" stroke=\"#ff0000\" d=\"M229,-260.799C229,-249.163 229,-233.548 229,-220.237\"/>\r\n",
       "<polygon fill=\"#ff0000\" stroke=\"#ff0000\" points=\"232.5,-220.175 229,-210.175 225.5,-220.175 232.5,-220.175\"/>\r\n",
       "<text text-anchor=\"middle\" x=\"236.5\" y=\"-231.8\" font-family=\"Times New Roman,serif\" font-size=\"14.00\">no</text>\r\n",
       "</g>\r\n",
       "<!-- 9 -->\r\n",
       "<g id=\"node12\" class=\"node\"><title>9</title>\r\n",
       "<polygon fill=\"none\" stroke=\"black\" points=\"639,-210 475,-210 475,-174 639,-174 639,-210\"/>\r\n",
       "<text text-anchor=\"middle\" x=\"557\" y=\"-188.3\" font-family=\"Times New Roman,serif\" font-size=\"14.00\">TotalCharges&lt;7755.59961</text>\r\n",
       "</g>\r\n",
       "<!-- 4&#45;&gt;9 -->\r\n",
       "<g id=\"edge11\" class=\"edge\"><title>4&#45;&gt;9</title>\r\n",
       "<path fill=\"none\" stroke=\"#0000ff\" d=\"M608.846,-260.799C599.507,-248.587 586.818,-231.992 576.33,-218.278\"/>\r\n",
       "<polygon fill=\"#0000ff\" stroke=\"#0000ff\" points=\"578.989,-215.993 570.134,-210.175 573.428,-220.245 578.989,-215.993\"/>\r\n",
       "<text text-anchor=\"middle\" x=\"628.5\" y=\"-231.8\" font-family=\"Times New Roman,serif\" font-size=\"14.00\">yes, missing</text>\r\n",
       "</g>\r\n",
       "<!-- 10 -->\r\n",
       "<g id=\"node13\" class=\"node\"><title>10</title>\r\n",
       "<polygon fill=\"none\" stroke=\"black\" points=\"790.5,-210 657.5,-210 657.5,-174 790.5,-174 790.5,-210\"/>\r\n",
       "<text text-anchor=\"middle\" x=\"724\" y=\"-188.3\" font-family=\"Times New Roman,serif\" font-size=\"14.00\">Dependents_No&lt;0.5</text>\r\n",
       "</g>\r\n",
       "<!-- 4&#45;&gt;10 -->\r\n",
       "<g id=\"edge12\" class=\"edge\"><title>4&#45;&gt;10</title>\r\n",
       "<path fill=\"none\" stroke=\"#ff0000\" d=\"M643.064,-260.993C650.068,-255.302 657.892,-248.904 665,-243 675.167,-234.555 686.239,-225.212 696.016,-216.91\"/>\r\n",
       "<polygon fill=\"#ff0000\" stroke=\"#ff0000\" points=\"698.527,-219.369 703.877,-210.224 693.992,-214.037 698.527,-219.369\"/>\r\n",
       "<text text-anchor=\"middle\" x=\"689.5\" y=\"-231.8\" font-family=\"Times New Roman,serif\" font-size=\"14.00\">no</text>\r\n",
       "</g>\r\n",
       "<!-- 15 -->\r\n",
       "<g id=\"node8\" class=\"node\"><title>15</title>\r\n",
       "<polygon fill=\"lightgrey\" stroke=\"black\" points=\"147,-123 27,-123 27,-87 147,-87 147,-123\"/>\r\n",
       "<text text-anchor=\"middle\" x=\"87\" y=\"-101.3\" font-family=\"Times New Roman,serif\" font-size=\"14.00\">leaf=&#45;0.385123998</text>\r\n",
       "</g>\r\n",
       "<!-- 8&#45;&gt;15 -->\r\n",
       "<g id=\"edge7\" class=\"edge\"><title>8&#45;&gt;15</title>\r\n",
       "<path fill=\"none\" stroke=\"#0000ff\" d=\"M190.056,-173.92C178.846,-168.58 166.748,-162.4 156,-156 142.601,-148.021 128.537,-138.136 116.628,-129.266\"/>\r\n",
       "<polygon fill=\"#0000ff\" stroke=\"#0000ff\" points=\"118.465,-126.268 108.377,-123.029 114.244,-131.852 118.465,-126.268\"/>\r\n",
       "<text text-anchor=\"middle\" x=\"190.5\" y=\"-144.8\" font-family=\"Times New Roman,serif\" font-size=\"14.00\">yes, missing</text>\r\n",
       "</g>\r\n",
       "<!-- 16 -->\r\n",
       "<g id=\"node9\" class=\"node\"><title>16</title>\r\n",
       "<polygon fill=\"none\" stroke=\"black\" points=\"292.5,-123 165.5,-123 165.5,-87 292.5,-87 292.5,-123\"/>\r\n",
       "<text text-anchor=\"middle\" x=\"229\" y=\"-101.3\" font-family=\"Times New Roman,serif\" font-size=\"14.00\">gender_Female&lt;0.5</text>\r\n",
       "</g>\r\n",
       "<!-- 8&#45;&gt;16 -->\r\n",
       "<g id=\"edge8\" class=\"edge\"><title>8&#45;&gt;16</title>\r\n",
       "<path fill=\"none\" stroke=\"#ff0000\" d=\"M229,-173.799C229,-162.163 229,-146.548 229,-133.237\"/>\r\n",
       "<polygon fill=\"#ff0000\" stroke=\"#ff0000\" points=\"232.5,-133.175 229,-123.175 225.5,-133.175 232.5,-133.175\"/>\r\n",
       "<text text-anchor=\"middle\" x=\"236.5\" y=\"-144.8\" font-family=\"Times New Roman,serif\" font-size=\"14.00\">no</text>\r\n",
       "</g>\r\n",
       "<!-- 31 -->\r\n",
       "<g id=\"node10\" class=\"node\"><title>31</title>\r\n",
       "<polygon fill=\"lightgrey\" stroke=\"black\" points=\"167.5,-36 40.5,-36 40.5,-0 167.5,-0 167.5,-36\"/>\r\n",
       "<text text-anchor=\"middle\" x=\"104\" y=\"-14.3\" font-family=\"Times New Roman,serif\" font-size=\"14.00\">leaf=&#45;0.0613466389</text>\r\n",
       "</g>\r\n",
       "<!-- 16&#45;&gt;31 -->\r\n",
       "<g id=\"edge9\" class=\"edge\"><title>16&#45;&gt;31</title>\r\n",
       "<path fill=\"none\" stroke=\"#0000ff\" d=\"M194.172,-86.904C184.187,-81.5638 173.451,-75.3874 164,-69 152.387,-61.1516 140.37,-51.4893 130.169,-42.7576\"/>\r\n",
       "<polygon fill=\"#0000ff\" stroke=\"#0000ff\" points=\"132.258,-39.9361 122.419,-36.0069 127.661,-45.2144 132.258,-39.9361\"/>\r\n",
       "<text text-anchor=\"middle\" x=\"198.5\" y=\"-57.8\" font-family=\"Times New Roman,serif\" font-size=\"14.00\">yes, missing</text>\r\n",
       "</g>\r\n",
       "<!-- 32 -->\r\n",
       "<g id=\"node11\" class=\"node\"><title>32</title>\r\n",
       "<polygon fill=\"lightgrey\" stroke=\"black\" points=\"306,-36 186,-36 186,-0 306,-0 306,-36\"/>\r\n",
       "<text text-anchor=\"middle\" x=\"246\" y=\"-14.3\" font-family=\"Times New Roman,serif\" font-size=\"14.00\">leaf=&#45;0.275675684</text>\r\n",
       "</g>\r\n",
       "<!-- 16&#45;&gt;32 -->\r\n",
       "<g id=\"edge10\" class=\"edge\"><title>16&#45;&gt;32</title>\r\n",
       "<path fill=\"none\" stroke=\"#ff0000\" d=\"M232.44,-86.799C234.767,-75.1626 237.89,-59.5479 240.553,-46.2368\"/>\r\n",
       "<polygon fill=\"#ff0000\" stroke=\"#ff0000\" points=\"244.036,-46.6677 242.565,-36.1754 237.172,-45.2948 244.036,-46.6677\"/>\r\n",
       "<text text-anchor=\"middle\" x=\"246.5\" y=\"-57.8\" font-family=\"Times New Roman,serif\" font-size=\"14.00\">no</text>\r\n",
       "</g>\r\n",
       "<!-- 17 -->\r\n",
       "<g id=\"node14\" class=\"node\"><title>17</title>\r\n",
       "<polygon fill=\"none\" stroke=\"black\" points=\"493,-123 311,-123 311,-87 493,-87 493,-123\"/>\r\n",
       "<text text-anchor=\"middle\" x=\"402\" y=\"-101.3\" font-family=\"Times New Roman,serif\" font-size=\"14.00\">MonthlyCharges&lt;105.925003</text>\r\n",
       "</g>\r\n",
       "<!-- 9&#45;&gt;17 -->\r\n",
       "<g id=\"edge13\" class=\"edge\"><title>9&#45;&gt;17</title>\r\n",
       "<path fill=\"none\" stroke=\"#0000ff\" d=\"M524.353,-173.888C513.692,-168.246 501.815,-161.904 491,-156 474.486,-146.984 456.362,-136.847 440.805,-128.069\"/>\r\n",
       "<polygon fill=\"#0000ff\" stroke=\"#0000ff\" points=\"442.4,-124.951 431.972,-123.077 438.956,-131.045 442.4,-124.951\"/>\r\n",
       "<text text-anchor=\"middle\" x=\"525.5\" y=\"-144.8\" font-family=\"Times New Roman,serif\" font-size=\"14.00\">yes, missing</text>\r\n",
       "</g>\r\n",
       "<!-- 18 -->\r\n",
       "<g id=\"node15\" class=\"node\"><title>18</title>\r\n",
       "<polygon fill=\"lightgrey\" stroke=\"black\" points=\"631,-123 511,-123 511,-87 631,-87 631,-123\"/>\r\n",
       "<text text-anchor=\"middle\" x=\"571\" y=\"-101.3\" font-family=\"Times New Roman,serif\" font-size=\"14.00\">leaf=&#45;0.406451643</text>\r\n",
       "</g>\r\n",
       "<!-- 9&#45;&gt;18 -->\r\n",
       "<g id=\"edge14\" class=\"edge\"><title>9&#45;&gt;18</title>\r\n",
       "<path fill=\"none\" stroke=\"#ff0000\" d=\"M559.833,-173.799C561.75,-162.163 564.322,-146.548 566.514,-133.237\"/>\r\n",
       "<polygon fill=\"#ff0000\" stroke=\"#ff0000\" points=\"569.999,-133.611 568.171,-123.175 563.092,-132.474 569.999,-133.611\"/>\r\n",
       "<text text-anchor=\"middle\" x=\"572.5\" y=\"-144.8\" font-family=\"Times New Roman,serif\" font-size=\"14.00\">no</text>\r\n",
       "</g>\r\n",
       "<!-- 19 -->\r\n",
       "<g id=\"node18\" class=\"node\"><title>19</title>\r\n",
       "<polygon fill=\"lightgrey\" stroke=\"black\" points=\"769,-123 649,-123 649,-87 769,-87 769,-123\"/>\r\n",
       "<text text-anchor=\"middle\" x=\"709\" y=\"-101.3\" font-family=\"Times New Roman,serif\" font-size=\"14.00\">leaf=&#45;0.062068969</text>\r\n",
       "</g>\r\n",
       "<!-- 10&#45;&gt;19 -->\r\n",
       "<g id=\"edge17\" class=\"edge\"><title>10&#45;&gt;19</title>\r\n",
       "<path fill=\"none\" stroke=\"#0000ff\" d=\"M720.965,-173.799C718.911,-162.163 716.156,-146.548 713.806,-133.237\"/>\r\n",
       "<polygon fill=\"#0000ff\" stroke=\"#0000ff\" points=\"717.216,-132.415 712.031,-123.175 710.322,-133.632 717.216,-132.415\"/>\r\n",
       "<text text-anchor=\"middle\" x=\"752.5\" y=\"-144.8\" font-family=\"Times New Roman,serif\" font-size=\"14.00\">yes, missing</text>\r\n",
       "</g>\r\n",
       "<!-- 20 -->\r\n",
       "<g id=\"node19\" class=\"node\"><title>20</title>\r\n",
       "<polygon fill=\"lightgrey\" stroke=\"black\" points=\"903,-123 787,-123 787,-87 903,-87 903,-123\"/>\r\n",
       "<text text-anchor=\"middle\" x=\"845\" y=\"-101.3\" font-family=\"Times New Roman,serif\" font-size=\"14.00\">leaf=0.131376982</text>\r\n",
       "</g>\r\n",
       "<!-- 10&#45;&gt;20 -->\r\n",
       "<g id=\"edge18\" class=\"edge\"><title>10&#45;&gt;20</title>\r\n",
       "<path fill=\"none\" stroke=\"#ff0000\" d=\"M760.846,-173.982C770.942,-168.73 781.669,-162.58 791,-156 801.605,-148.522 812.294,-139.108 821.332,-130.471\"/>\r\n",
       "<polygon fill=\"#ff0000\" stroke=\"#ff0000\" points=\"823.799,-132.954 828.498,-123.458 818.903,-127.951 823.799,-132.954\"/>\r\n",
       "<text text-anchor=\"middle\" x=\"816.5\" y=\"-144.8\" font-family=\"Times New Roman,serif\" font-size=\"14.00\">no</text>\r\n",
       "</g>\r\n",
       "<!-- 33 -->\r\n",
       "<g id=\"node16\" class=\"node\"><title>33</title>\r\n",
       "<polygon fill=\"lightgrey\" stroke=\"black\" points=\"453,-36 333,-36 333,-0 453,-0 453,-36\"/>\r\n",
       "<text text-anchor=\"middle\" x=\"393\" y=\"-14.3\" font-family=\"Times New Roman,serif\" font-size=\"14.00\">leaf=&#45;0.240718573</text>\r\n",
       "</g>\r\n",
       "<!-- 17&#45;&gt;33 -->\r\n",
       "<g id=\"edge15\" class=\"edge\"><title>17&#45;&gt;33</title>\r\n",
       "<path fill=\"none\" stroke=\"#0000ff\" d=\"M400.179,-86.799C398.947,-75.1626 397.293,-59.5479 395.884,-46.2368\"/>\r\n",
       "<polygon fill=\"#0000ff\" stroke=\"#0000ff\" points=\"399.352,-45.7513 394.819,-36.1754 392.391,-46.4884 399.352,-45.7513\"/>\r\n",
       "<text text-anchor=\"middle\" x=\"433.5\" y=\"-57.8\" font-family=\"Times New Roman,serif\" font-size=\"14.00\">yes, missing</text>\r\n",
       "</g>\r\n",
       "<!-- 34 -->\r\n",
       "<g id=\"node17\" class=\"node\"><title>34</title>\r\n",
       "<polygon fill=\"lightgrey\" stroke=\"black\" points=\"593,-36 471,-36 471,-0 593,-0 593,-36\"/>\r\n",
       "<text text-anchor=\"middle\" x=\"532\" y=\"-14.3\" font-family=\"Times New Roman,serif\" font-size=\"14.00\">leaf=0.0857142955</text>\r\n",
       "</g>\r\n",
       "<!-- 17&#45;&gt;34 -->\r\n",
       "<g id=\"edge16\" class=\"edge\"><title>17&#45;&gt;34</title>\r\n",
       "<path fill=\"none\" stroke=\"#ff0000\" d=\"M440.307,-86.8385C450.854,-81.5849 462.107,-75.4701 472,-69 483.73,-61.3283 495.77,-51.7001 505.956,-42.9462\"/>\r\n",
       "<polygon fill=\"#ff0000\" stroke=\"#ff0000\" points=\"508.476,-45.3918 513.687,-36.1672 503.861,-40.1286 508.476,-45.3918\"/>\r\n",
       "<text text-anchor=\"middle\" x=\"499.5\" y=\"-57.8\" font-family=\"Times New Roman,serif\" font-size=\"14.00\">no</text>\r\n",
       "</g>\r\n",
       "<!-- 11 -->\r\n",
       "<g id=\"node22\" class=\"node\"><title>11</title>\r\n",
       "<polygon fill=\"none\" stroke=\"black\" points=\"1188,-210 1006,-210 1006,-174 1188,-174 1188,-210\"/>\r\n",
       "<text text-anchor=\"middle\" x=\"1097\" y=\"-188.3\" font-family=\"Times New Roman,serif\" font-size=\"14.00\">MonthlyCharges&lt;20.7999992</text>\r\n",
       "</g>\r\n",
       "<!-- 5&#45;&gt;11 -->\r\n",
       "<g id=\"edge21\" class=\"edge\"><title>5&#45;&gt;11</title>\r\n",
       "<path fill=\"none\" stroke=\"#0000ff\" d=\"M1214.25,-260.799C1191.54,-247.665 1160.06,-229.462 1135.44,-215.225\"/>\r\n",
       "<polygon fill=\"#0000ff\" stroke=\"#0000ff\" points=\"1137.11,-212.151 1126.7,-210.175 1133.61,-218.211 1137.11,-212.151\"/>\r\n",
       "<text text-anchor=\"middle\" x=\"1214.5\" y=\"-231.8\" font-family=\"Times New Roman,serif\" font-size=\"14.00\">yes, missing</text>\r\n",
       "</g>\r\n",
       "<!-- 12 -->\r\n",
       "<g id=\"node23\" class=\"node\"><title>12</title>\r\n",
       "<polygon fill=\"none\" stroke=\"black\" points=\"1388,-210 1206,-210 1206,-174 1388,-174 1388,-210\"/>\r\n",
       "<text text-anchor=\"middle\" x=\"1297\" y=\"-188.3\" font-family=\"Times New Roman,serif\" font-size=\"14.00\">MonthlyCharges&lt;27.5250015</text>\r\n",
       "</g>\r\n",
       "<!-- 5&#45;&gt;12 -->\r\n",
       "<g id=\"edge22\" class=\"edge\"><title>5&#45;&gt;12</title>\r\n",
       "<path fill=\"none\" stroke=\"#ff0000\" d=\"M1254.73,-260.799C1262.27,-248.702 1272.49,-232.305 1281,-218.667\"/>\r\n",
       "<polygon fill=\"#ff0000\" stroke=\"#ff0000\" points=\"1283.97,-220.513 1286.29,-210.175 1278.03,-216.809 1283.97,-220.513\"/>\r\n",
       "<text text-anchor=\"middle\" x=\"1281.5\" y=\"-231.8\" font-family=\"Times New Roman,serif\" font-size=\"14.00\">no</text>\r\n",
       "</g>\r\n",
       "<!-- 13 -->\r\n",
       "<g id=\"node32\" class=\"node\"><title>13</title>\r\n",
       "<polygon fill=\"lightgrey\" stroke=\"black\" points=\"1508,-210 1406,-210 1406,-174 1508,-174 1508,-210\"/>\r\n",
       "<text text-anchor=\"middle\" x=\"1457\" y=\"-188.3\" font-family=\"Times New Roman,serif\" font-size=\"14.00\">leaf=0.4881787</text>\r\n",
       "</g>\r\n",
       "<!-- 6&#45;&gt;13 -->\r\n",
       "<g id=\"edge31\" class=\"edge\"><title>6&#45;&gt;13</title>\r\n",
       "<path fill=\"none\" stroke=\"#0000ff\" d=\"M1457,-260.799C1457,-249.163 1457,-233.548 1457,-220.237\"/>\r\n",
       "<polygon fill=\"#0000ff\" stroke=\"#0000ff\" points=\"1460.5,-220.175 1457,-210.175 1453.5,-220.175 1460.5,-220.175\"/>\r\n",
       "<text text-anchor=\"middle\" x=\"1491.5\" y=\"-231.8\" font-family=\"Times New Roman,serif\" font-size=\"14.00\">yes, missing</text>\r\n",
       "</g>\r\n",
       "<!-- 14 -->\r\n",
       "<g id=\"node33\" class=\"node\"><title>14</title>\r\n",
       "<polygon fill=\"none\" stroke=\"black\" points=\"1764,-210 1526,-210 1526,-174 1764,-174 1764,-210\"/>\r\n",
       "<text text-anchor=\"middle\" x=\"1645\" y=\"-188.3\" font-family=\"Times New Roman,serif\" font-size=\"14.00\">PaymentMethod_Electronic_check&lt;0.5</text>\r\n",
       "</g>\r\n",
       "<!-- 6&#45;&gt;14 -->\r\n",
       "<g id=\"edge32\" class=\"edge\"><title>6&#45;&gt;14</title>\r\n",
       "<path fill=\"none\" stroke=\"#ff0000\" d=\"M1495.04,-260.799C1524.83,-247.333 1566.4,-228.538 1598.22,-214.152\"/>\r\n",
       "<polygon fill=\"#ff0000\" stroke=\"#ff0000\" points=\"1599.66,-217.339 1607.33,-210.03 1596.78,-210.961 1599.66,-217.339\"/>\r\n",
       "<text text-anchor=\"middle\" x=\"1569.5\" y=\"-231.8\" font-family=\"Times New Roman,serif\" font-size=\"14.00\">no</text>\r\n",
       "</g>\r\n",
       "<!-- 21 -->\r\n",
       "<g id=\"node24\" class=\"node\"><title>21</title>\r\n",
       "<polygon fill=\"none\" stroke=\"black\" points=\"1085,-123 921,-123 921,-87 1085,-87 1085,-123\"/>\r\n",
       "<text text-anchor=\"middle\" x=\"1003\" y=\"-101.3\" font-family=\"Times New Roman,serif\" font-size=\"14.00\">TotalCharges&lt;33.4000015</text>\r\n",
       "</g>\r\n",
       "<!-- 11&#45;&gt;21 -->\r\n",
       "<g id=\"edge23\" class=\"edge\"><title>11&#45;&gt;21</title>\r\n",
       "<path fill=\"none\" stroke=\"#0000ff\" d=\"M1074.21,-173.674C1067.27,-168.182 1059.7,-161.98 1053,-156 1044.02,-147.989 1034.59,-138.784 1026.37,-130.473\"/>\r\n",
       "<polygon fill=\"#0000ff\" stroke=\"#0000ff\" points=\"1028.7,-127.852 1019.21,-123.152 1023.7,-132.748 1028.7,-127.852\"/>\r\n",
       "<text text-anchor=\"middle\" x=\"1087.5\" y=\"-144.8\" font-family=\"Times New Roman,serif\" font-size=\"14.00\">yes, missing</text>\r\n",
       "</g>\r\n",
       "<!-- 22 -->\r\n",
       "<g id=\"node25\" class=\"node\"><title>22</title>\r\n",
       "<polygon fill=\"lightgrey\" stroke=\"black\" points=\"1219,-123 1103,-123 1103,-87 1219,-87 1219,-123\"/>\r\n",
       "<text text-anchor=\"middle\" x=\"1161\" y=\"-101.3\" font-family=\"Times New Roman,serif\" font-size=\"14.00\">leaf=0.381818205</text>\r\n",
       "</g>\r\n",
       "<!-- 11&#45;&gt;22 -->\r\n",
       "<g id=\"edge24\" class=\"edge\"><title>11&#45;&gt;22</title>\r\n",
       "<path fill=\"none\" stroke=\"#ff0000\" d=\"M1109.95,-173.799C1119.15,-161.587 1131.64,-144.992 1141.97,-131.278\"/>\r\n",
       "<polygon fill=\"#ff0000\" stroke=\"#ff0000\" points=\"1144.85,-133.269 1148.07,-123.175 1139.26,-129.059 1144.85,-133.269\"/>\r\n",
       "<text text-anchor=\"middle\" x=\"1140.5\" y=\"-144.8\" font-family=\"Times New Roman,serif\" font-size=\"14.00\">no</text>\r\n",
       "</g>\r\n",
       "<!-- 23 -->\r\n",
       "<g id=\"node28\" class=\"node\"><title>23</title>\r\n",
       "<polygon fill=\"lightgrey\" stroke=\"black\" points=\"1357,-123 1237,-123 1237,-87 1357,-87 1357,-123\"/>\r\n",
       "<text text-anchor=\"middle\" x=\"1297\" y=\"-101.3\" font-family=\"Times New Roman,serif\" font-size=\"14.00\">leaf=&#45;0.210000008</text>\r\n",
       "</g>\r\n",
       "<!-- 12&#45;&gt;23 -->\r\n",
       "<g id=\"edge27\" class=\"edge\"><title>12&#45;&gt;23</title>\r\n",
       "<path fill=\"none\" stroke=\"#0000ff\" d=\"M1297,-173.799C1297,-162.163 1297,-146.548 1297,-133.237\"/>\r\n",
       "<polygon fill=\"#0000ff\" stroke=\"#0000ff\" points=\"1300.5,-133.175 1297,-123.175 1293.5,-133.175 1300.5,-133.175\"/>\r\n",
       "<text text-anchor=\"middle\" x=\"1331.5\" y=\"-144.8\" font-family=\"Times New Roman,serif\" font-size=\"14.00\">yes, missing</text>\r\n",
       "</g>\r\n",
       "<!-- 24 -->\r\n",
       "<g id=\"node29\" class=\"node\"><title>24</title>\r\n",
       "<polygon fill=\"none\" stroke=\"black\" points=\"1533,-123 1375,-123 1375,-87 1533,-87 1533,-123\"/>\r\n",
       "<text text-anchor=\"middle\" x=\"1454\" y=\"-101.3\" font-family=\"Times New Roman,serif\" font-size=\"14.00\">TotalCharges&lt;1257.0249</text>\r\n",
       "</g>\r\n",
       "<!-- 12&#45;&gt;24 -->\r\n",
       "<g id=\"edge28\" class=\"edge\"><title>12&#45;&gt;24</title>\r\n",
       "<path fill=\"none\" stroke=\"#ff0000\" d=\"M1334.46,-173.832C1345.97,-168.346 1358.6,-162.108 1370,-156 1385.98,-147.436 1403.25,-137.312 1417.95,-128.422\"/>\r\n",
       "<polygon fill=\"#ff0000\" stroke=\"#ff0000\" points=\"1420.02,-131.262 1426.74,-123.071 1416.38,-125.283 1420.02,-131.262\"/>\r\n",
       "<text text-anchor=\"middle\" x=\"1403.5\" y=\"-144.8\" font-family=\"Times New Roman,serif\" font-size=\"14.00\">no</text>\r\n",
       "</g>\r\n",
       "<!-- 39 -->\r\n",
       "<g id=\"node26\" class=\"node\"><title>39</title>\r\n",
       "<polygon fill=\"lightgrey\" stroke=\"black\" points=\"993,-36 877,-36 877,-0 993,-0 993,-36\"/>\r\n",
       "<text text-anchor=\"middle\" x=\"935\" y=\"-14.3\" font-family=\"Times New Roman,serif\" font-size=\"14.00\">leaf=0.220312506</text>\r\n",
       "</g>\r\n",
       "<!-- 21&#45;&gt;39 -->\r\n",
       "<g id=\"edge25\" class=\"edge\"><title>21&#45;&gt;39</title>\r\n",
       "<path fill=\"none\" stroke=\"#0000ff\" d=\"M989.239,-86.799C979.469,-74.5865 966.194,-57.9921 955.222,-44.2776\"/>\r\n",
       "<polygon fill=\"#0000ff\" stroke=\"#0000ff\" points=\"957.72,-41.7977 948.74,-36.1754 952.254,-46.1706 957.72,-41.7977\"/>\r\n",
       "<text text-anchor=\"middle\" x=\"1008.5\" y=\"-57.8\" font-family=\"Times New Roman,serif\" font-size=\"14.00\">yes, missing</text>\r\n",
       "</g>\r\n",
       "<!-- 40 -->\r\n",
       "<g id=\"node27\" class=\"node\"><title>40</title>\r\n",
       "<polygon fill=\"lightgrey\" stroke=\"black\" points=\"1131,-36 1011,-36 1011,-0 1131,-0 1131,-36\"/>\r\n",
       "<text text-anchor=\"middle\" x=\"1071\" y=\"-14.3\" font-family=\"Times New Roman,serif\" font-size=\"14.00\">leaf=&#45;0.204060912</text>\r\n",
       "</g>\r\n",
       "<!-- 21&#45;&gt;40 -->\r\n",
       "<g id=\"edge26\" class=\"edge\"><title>21&#45;&gt;40</title>\r\n",
       "<path fill=\"none\" stroke=\"#ff0000\" d=\"M1028.52,-86.8784C1035.08,-81.6665 1041.77,-75.5631 1047,-69 1052.55,-62.0423 1057.22,-53.5915 1060.92,-45.6325\"/>\r\n",
       "<polygon fill=\"#ff0000\" stroke=\"#ff0000\" points=\"1064.2,-46.8697 1064.95,-36.3017 1057.77,-44.0935 1064.2,-46.8697\"/>\r\n",
       "<text text-anchor=\"middle\" x=\"1064.5\" y=\"-57.8\" font-family=\"Times New Roman,serif\" font-size=\"14.00\">no</text>\r\n",
       "</g>\r\n",
       "<!-- 45 -->\r\n",
       "<g id=\"node30\" class=\"node\"><title>45</title>\r\n",
       "<polygon fill=\"lightgrey\" stroke=\"black\" points=\"1394,-36 1278,-36 1278,-0 1394,-0 1394,-36\"/>\r\n",
       "<text text-anchor=\"middle\" x=\"1336\" y=\"-14.3\" font-family=\"Times New Roman,serif\" font-size=\"14.00\">leaf=0.170642212</text>\r\n",
       "</g>\r\n",
       "<!-- 24&#45;&gt;45 -->\r\n",
       "<g id=\"edge29\" class=\"edge\"><title>24&#45;&gt;45</title>\r\n",
       "<path fill=\"none\" stroke=\"#0000ff\" d=\"M1419.77,-86.8579C1410.19,-81.5614 1399.95,-75.4195 1391,-69 1380.35,-61.3586 1369.5,-51.9107 1360.27,-43.2923\"/>\r\n",
       "<polygon fill=\"#0000ff\" stroke=\"#0000ff\" points=\"1362.6,-40.6765 1352.95,-36.3059 1357.77,-45.7412 1362.6,-40.6765\"/>\r\n",
       "<text text-anchor=\"middle\" x=\"1425.5\" y=\"-57.8\" font-family=\"Times New Roman,serif\" font-size=\"14.00\">yes, missing</text>\r\n",
       "</g>\r\n",
       "<!-- 46 -->\r\n",
       "<g id=\"node31\" class=\"node\"><title>46</title>\r\n",
       "<polygon fill=\"lightgrey\" stroke=\"black\" points=\"1539.5,-36 1412.5,-36 1412.5,-0 1539.5,-0 1539.5,-36\"/>\r\n",
       "<text text-anchor=\"middle\" x=\"1476\" y=\"-14.3\" font-family=\"Times New Roman,serif\" font-size=\"14.00\">leaf=&#45;0.0602076165</text>\r\n",
       "</g>\r\n",
       "<!-- 24&#45;&gt;46 -->\r\n",
       "<g id=\"edge30\" class=\"edge\"><title>24&#45;&gt;46</title>\r\n",
       "<path fill=\"none\" stroke=\"#ff0000\" d=\"M1458.45,-86.799C1461.46,-75.1626 1465.51,-59.5479 1468.95,-46.2368\"/>\r\n",
       "<polygon fill=\"#ff0000\" stroke=\"#ff0000\" points=\"1472.44,-46.7334 1471.55,-36.1754 1465.66,-44.9794 1472.44,-46.7334\"/>\r\n",
       "<text text-anchor=\"middle\" x=\"1474.5\" y=\"-57.8\" font-family=\"Times New Roman,serif\" font-size=\"14.00\">no</text>\r\n",
       "</g>\r\n",
       "<!-- 27 -->\r\n",
       "<g id=\"node34\" class=\"node\"><title>27</title>\r\n",
       "<polygon fill=\"none\" stroke=\"black\" points=\"1734,-123 1552,-123 1552,-87 1734,-87 1734,-123\"/>\r\n",
       "<text text-anchor=\"middle\" x=\"1643\" y=\"-101.3\" font-family=\"Times New Roman,serif\" font-size=\"14.00\">MonthlyCharges&lt;83.2749939</text>\r\n",
       "</g>\r\n",
       "<!-- 14&#45;&gt;27 -->\r\n",
       "<g id=\"edge33\" class=\"edge\"><title>14&#45;&gt;27</title>\r\n",
       "<path fill=\"none\" stroke=\"#0000ff\" d=\"M1644.6,-173.799C1644.32,-162.163 1643.95,-146.548 1643.64,-133.237\"/>\r\n",
       "<polygon fill=\"#0000ff\" stroke=\"#0000ff\" points=\"1647.14,-133.09 1643.4,-123.175 1640.14,-133.255 1647.14,-133.09\"/>\r\n",
       "<text text-anchor=\"middle\" x=\"1678.5\" y=\"-144.8\" font-family=\"Times New Roman,serif\" font-size=\"14.00\">yes, missing</text>\r\n",
       "</g>\r\n",
       "<!-- 28 -->\r\n",
       "<g id=\"node35\" class=\"node\"><title>28</title>\r\n",
       "<polygon fill=\"lightgrey\" stroke=\"black\" points=\"1868,-123 1752,-123 1752,-87 1868,-87 1868,-123\"/>\r\n",
       "<text text-anchor=\"middle\" x=\"1810\" y=\"-101.3\" font-family=\"Times New Roman,serif\" font-size=\"14.00\">leaf=0.371514261</text>\r\n",
       "</g>\r\n",
       "<!-- 14&#45;&gt;28 -->\r\n",
       "<g id=\"edge34\" class=\"edge\"><title>14&#45;&gt;28</title>\r\n",
       "<path fill=\"none\" stroke=\"#ff0000\" d=\"M1681.03,-173.84C1692.57,-168.25 1705.37,-161.95 1717,-156 1734.33,-147.136 1753.28,-137.025 1769.52,-128.226\"/>\r\n",
       "<polygon fill=\"#ff0000\" stroke=\"#ff0000\" points=\"1771.63,-131.065 1778.74,-123.216 1768.29,-124.914 1771.63,-131.065\"/>\r\n",
       "<text text-anchor=\"middle\" x=\"1752.5\" y=\"-144.8\" font-family=\"Times New Roman,serif\" font-size=\"14.00\">no</text>\r\n",
       "</g>\r\n",
       "<!-- 47 -->\r\n",
       "<g id=\"node36\" class=\"node\"><title>47</title>\r\n",
       "<polygon fill=\"lightgrey\" stroke=\"black\" points=\"1691,-36 1569,-36 1569,-0 1691,-0 1691,-36\"/>\r\n",
       "<text text-anchor=\"middle\" x=\"1630\" y=\"-14.3\" font-family=\"Times New Roman,serif\" font-size=\"14.00\">leaf=0.0857142955</text>\r\n",
       "</g>\r\n",
       "<!-- 27&#45;&gt;47 -->\r\n",
       "<g id=\"edge35\" class=\"edge\"><title>27&#45;&gt;47</title>\r\n",
       "<path fill=\"none\" stroke=\"#0000ff\" d=\"M1640.37,-86.799C1638.59,-75.1626 1636.2,-59.5479 1634.17,-46.2368\"/>\r\n",
       "<polygon fill=\"#0000ff\" stroke=\"#0000ff\" points=\"1637.6,-45.5313 1632.63,-36.1754 1630.68,-46.5897 1637.6,-45.5313\"/>\r\n",
       "<text text-anchor=\"middle\" x=\"1671.5\" y=\"-57.8\" font-family=\"Times New Roman,serif\" font-size=\"14.00\">yes, missing</text>\r\n",
       "</g>\r\n",
       "<!-- 48 -->\r\n",
       "<g id=\"node37\" class=\"node\"><title>48</title>\r\n",
       "<polygon fill=\"lightgrey\" stroke=\"black\" points=\"1818.5,-36 1709.5,-36 1709.5,-0 1818.5,-0 1818.5,-36\"/>\r\n",
       "<text text-anchor=\"middle\" x=\"1764\" y=\"-14.3\" font-family=\"Times New Roman,serif\" font-size=\"14.00\">leaf=0.26363638</text>\r\n",
       "</g>\r\n",
       "<!-- 27&#45;&gt;48 -->\r\n",
       "<g id=\"edge36\" class=\"edge\"><title>27&#45;&gt;48</title>\r\n",
       "<path fill=\"none\" stroke=\"#ff0000\" d=\"M1679.85,-86.9818C1689.94,-81.7295 1700.67,-75.5797 1710,-69 1720.6,-61.522 1731.29,-52.1077 1740.33,-43.4706\"/>\r\n",
       "<polygon fill=\"#ff0000\" stroke=\"#ff0000\" points=\"1742.8,-45.9538 1747.5,-36.4578 1737.9,-40.9511 1742.8,-45.9538\"/>\r\n",
       "<text text-anchor=\"middle\" x=\"1734.5\" y=\"-57.8\" font-family=\"Times New Roman,serif\" font-size=\"14.00\">no</text>\r\n",
       "</g>\r\n",
       "</g>\r\n",
       "</svg>\r\n"
      ],
      "text/plain": [
       "<graphviz.files.Source at 0x1fbb1bed520>"
      ]
     },
     "execution_count": 65,
     "metadata": {},
     "output_type": "execute_result"
    }
   ],
   "source": [
    "## If we want to get information like gain and cover etc, at each node in the first tree, we just build the first\n",
    "## tree, otherwise we we'll get the average of all the trees.\n",
    "best_xgb = xgb.XGBClassifier(seed=42,\n",
    "                           objective='binary:logistic',\n",
    "                           gamma=10.0,\n",
    "                           learn_rate=0.1,\n",
    "                           max_depth=5,\n",
    "                           reg_lambda=10.0,\n",
    "                           scale_pos_weight=5,\n",
    "                           subsample=0.9,\n",
    "                           colsample=0.5,\n",
    "                           n_estimators=1 ## We set this to 1 so we can get gain, cover etc\n",
    "                           )\n",
    "\n",
    "best_xgb.fit(X_train,\n",
    "           y_train)\n",
    "\n",
    "## now print out the weight, gain, cover etc for the tree\n",
    "## weight = number of times a feature is used in a branch or root across all trees\n",
    "## gain = the average coverage across all splits that the feature is used in\n",
    "## cover = the average coverage across all splits a feature is used in\n",
    "## total_gain = the total gain across all splits the feature is used in\n",
    "## total_cover =  the total coverage across all splits the feature is used in\n",
    "## Note: since we only built one tree, gain=total_gain and cover=total_cover\n",
    "\n",
    "bst = best_xgb.get_booster()\n",
    "for importance_type in ('weight', 'gain', 'cover', 'total_gain', 'total_cover'):\n",
    "    print('%s: ' % importance_type, bst.get_score(importance_type=importance_type))\n",
    "\n",
    "node_params = {\n",
    "    'shape': 'box',\n",
    "    'style': 'filled rounded',\n",
    "    'fillcolor': '#78cbe'\n",
    "}\n",
    "\n",
    "leaf_params = {\n",
    "    'shape': 'box',\n",
    "    'style': 'filled',\n",
    "    'fillcover': '#e48038'\n",
    "}\n",
    "\n",
    "## Note: num_trees is not the number of trees to plot, but the specific tree you want to plot\n",
    "## The default value is 0, but im setting it to show it in action since it is counter-intuitive\n",
    "## xgb.to_graphviz(clf_xgb, num_trees=0, size=\"10,10\")\n",
    "\n",
    "xgb.to_graphviz(best_xgb, num_trees=0, size=\"10,10\",\n",
    "               condition_node_params=node_params, \n",
    "              leaf_node_params=leaf_params)\n",
    "\n",
    "## If you want to save the figure\n",
    "# graph_data = xgb.to_graphviz(clf_xgb, num_trees=0, size=\"10,10\", condition_node_params=node_params, \n",
    "#                leaf_node_params=leaf_node_params)\n",
    "# graph_data.view(filename='xgboost_tree_customer_churn') ## save as PDF"
   ]
  },
  {
   "cell_type": "markdown",
   "metadata": {},
   "source": [
    "### Saving the model"
   ]
  },
  {
   "cell_type": "code",
   "execution_count": 66,
   "metadata": {},
   "outputs": [],
   "source": [
    "best_xgb.save_model('xgb_customer_churn.json')"
   ]
  }
 ],
 "metadata": {
  "kernelspec": {
   "display_name": "Python 3",
   "language": "python",
   "name": "python3"
  },
  "language_info": {
   "codemirror_mode": {
    "name": "ipython",
    "version": 3
   },
   "file_extension": ".py",
   "mimetype": "text/x-python",
   "name": "python",
   "nbconvert_exporter": "python",
   "pygments_lexer": "ipython3",
   "version": "3.8.5"
  }
 },
 "nbformat": 4,
 "nbformat_minor": 4
}
